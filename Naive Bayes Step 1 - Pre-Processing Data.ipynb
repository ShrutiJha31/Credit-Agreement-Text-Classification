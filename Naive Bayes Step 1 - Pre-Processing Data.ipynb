{
 "cells": [
  {
   "cell_type": "markdown",
   "id": "9d722949",
   "metadata": {},
   "source": [
    "#  Pre-Processing Training Data "
   ]
  },
  {
   "cell_type": "markdown",
   "id": "220b01be",
   "metadata": {},
   "source": [
    "### Objectives\n",
    "\n",
    "#### 1.  Create a dynamic file reader function \n",
    "#### 2.  Classify the training data based on their type ( Preamble, Governing Law etc)\n",
    "#### 3.  Check for missing and unappropriate data and remove it from the dataset\n",
    "#### 4.  Provide a unique Id to each data record\n",
    "#### 5.  Save the dataset in the form of json for future reference\n",
    "#### 6.  Visualize training dataset using charts ( Pie charts )\n",
    "#### 7.  Cleaning and Tokenizing data with Natural Language Processing\n",
    "#### 8.  Generating frequent words in different classses and representing it with word cloud\n",
    "#### 9.  Generating Vocabulary and Dictionary of words\n",
    "#### 10. Storing the dataset in the form of a sparse matrix\n",
    "#### 11. Test Data Preprocessing and Storing \n",
    "#### 12. Validation Data Preprocessing and Storing\n",
    "\n"
   ]
  },
  {
   "cell_type": "markdown",
   "id": "d81d9129",
   "metadata": {},
   "source": [
    "## Notebook Imports"
   ]
  },
  {
   "cell_type": "code",
   "execution_count": 127,
   "id": "6a6dd858",
   "metadata": {},
   "outputs": [],
   "source": [
    "import pandas as pd\n",
    "import matplotlib.pyplot as plt\n",
    "\n",
    "\n",
    "import nltk\n",
    "from nltk.stem import PorterStemmer\n",
    "from nltk.stem import SnowballStemmer\n",
    "from nltk.corpus import stopwords\n",
    "from nltk.tokenize import word_tokenize\n",
    "\n",
    "\n",
    "from bs4 import BeautifulSoup\n",
    "\n",
    "from wordcloud import WordCloud\n",
    "from PIL import Image\n",
    "\n",
    "import numpy as np"
   ]
  },
  {
   "cell_type": "markdown",
   "id": "d20a9373",
   "metadata": {},
   "source": [
    "## File Paths - Edit the file Paths to Change the Training data set"
   ]
  },
  {
   "cell_type": "code",
   "execution_count": 128,
   "id": "1b80d949",
   "metadata": {},
   "outputs": [],
   "source": [
    "#------ Manually Added Files\n",
    "\n",
    "PREAMBLE_TRAINING_PATH = 'Training_Data/Preamble_Training_Data.csv'\n",
    "OTHER_TRAINING_PATH   = 'Training_Data/Other_Training_Data.csv'\n",
    "LENDER_DEFAULTING_TRAINING_PATH   = 'Training_Data/Lender_Defaulting_Training_Data.csv'\n",
    "GOVERNING_LAW_TRAINING_PATH = 'Training_Data/Governing_law_Training_Data.csv'\n",
    "INDEMNIFICATION_TRAINING_PATH = 'Training_Data/Indemnification_Training_Data.csv'\n",
    "TESTING_DATA_PATH = 'Testing_Data/Testing_Data.csv'\n",
    "VALIDATION_DATA_PATH = 'Validation_Data/Validation_Statement.csv'\n",
    "VALIDATION_CLASS_PATH = 'Validation_Data/Validation_Class.csv'\n",
    "\n",
    "\n",
    "#------- Files Generated in Current Step \n",
    "\n",
    "TRAINING_DATA_JSON_FILE = 'Training_Data/Training_Data.json'\n",
    "TESTING_WORD_ID_FILE_PATH = 'Training_Data/testing_vocab_ids_2.csv'\n",
    "WORD_ID_FILE_PATH = 'Training_Data/vocab_ids.csv'\n",
    "TRAINING_SPARSE_MATRIX_PATH = 'Training_Data/training_sparse_matrix.csv'\n",
    "TESTING_SPARSE_MATRIX_PATH = 'Testing_Data/testing_sparse_matrix.csv'\n",
    "TRAINING_SPARSE_MATRIX_TXT_PATH = 'Training_Data/training_sparse_matrix.txt'\n",
    "TESTING_SPARSE_MATRIX_TXT_PATH = 'Testing_Data/testing_sparse_matrix.txt'\n",
    "VALIDATION_SPARSE_MATRIX_PATH = 'Validation_Data/Validation_Data_Sparse_Matrix.csv'\n",
    "VALIDATION_SPARSE_MATRIX_TXT_PATH = 'Validation_Data/Validation_Data_Sparse_Matrix.txt'\n",
    "VALIDATION_CLASS_SPARSE_MATRIX_TXT_PATH = 'Validation_Data/Validation_Class_Sparse_Matrix.txt'"
   ]
  },
  {
   "cell_type": "markdown",
   "id": "cf64dd78",
   "metadata": {},
   "source": [
    "## Constants"
   ]
  },
  {
   "cell_type": "code",
   "execution_count": 129,
   "id": "533620fb",
   "metadata": {},
   "outputs": [],
   "source": [
    "Preamble_classification_id = 0\n",
    "Lender_defaulting_classification_id = 1\n",
    "Governing_law_classification_id = 2\n",
    "Indemnification_classification_id = 3\n",
    "Other_classification_id = 4"
   ]
  },
  {
   "cell_type": "markdown",
   "id": "68ab488e",
   "metadata": {},
   "source": [
    "## CSV FILE READING AND CLASSIFICATION\n",
    "\n",
    "### The Category Column in the dataframe specifies the class of the statement as per the list below\n",
    "\n",
    "#### Preamble = 0\n",
    "#### Lender Defaulting = 1\n",
    "#### Governing Law = 2\n",
    "#### Indemnification = 3\n",
    "#### Other = 4"
   ]
  },
  {
   "cell_type": "code",
   "execution_count": 130,
   "id": "3559a220",
   "metadata": {},
   "outputs": [
    {
     "data": {
      "text/html": [
       "<div>\n",
       "<style scoped>\n",
       "    .dataframe tbody tr th:only-of-type {\n",
       "        vertical-align: middle;\n",
       "    }\n",
       "\n",
       "    .dataframe tbody tr th {\n",
       "        vertical-align: top;\n",
       "    }\n",
       "\n",
       "    .dataframe thead th {\n",
       "        text-align: right;\n",
       "    }\n",
       "</style>\n",
       "<table border=\"1\" class=\"dataframe\">\n",
       "  <thead>\n",
       "    <tr style=\"text-align: right;\">\n",
       "      <th></th>\n",
       "      <th>STATEMENT</th>\n",
       "      <th>CATEGORY</th>\n",
       "    </tr>\n",
       "  </thead>\n",
       "  <tbody>\n",
       "    <tr>\n",
       "      <th>0</th>\n",
       "      <td>This CREDIT AGREEMENT is entered into as of No...</td>\n",
       "      <td>0</td>\n",
       "    </tr>\n",
       "    <tr>\n",
       "      <th>1</th>\n",
       "      <td>This agreement is dated 22 December 2014 and m...</td>\n",
       "      <td>0</td>\n",
       "    </tr>\n",
       "    <tr>\n",
       "      <th>2</th>\n",
       "      <td>This TERM LOAN AGREEMENT, dated as of April 24...</td>\n",
       "      <td>0</td>\n",
       "    </tr>\n",
       "    <tr>\n",
       "      <th>3</th>\n",
       "      <td>This CREDIT AGREEMENT is entered into as of De...</td>\n",
       "      <td>0</td>\n",
       "    </tr>\n",
       "  </tbody>\n",
       "</table>\n",
       "</div>"
      ],
      "text/plain": [
       "                                           STATEMENT  CATEGORY\n",
       "0  This CREDIT AGREEMENT is entered into as of No...         0\n",
       "1  This agreement is dated 22 December 2014 and m...         0\n",
       "2  This TERM LOAN AGREEMENT, dated as of April 24...         0\n",
       "3  This CREDIT AGREEMENT is entered into as of De...         0"
      ]
     },
     "execution_count": 130,
     "metadata": {},
     "output_type": "execute_result"
    }
   ],
   "source": [
    "preamble_training = pd.read_csv(PREAMBLE_TRAINING_PATH)\n",
    "preamble_training['CATEGORY'] = Preamble_classification_id\n",
    "preamble_training"
   ]
  },
  {
   "cell_type": "code",
   "execution_count": 131,
   "id": "8919dbe2",
   "metadata": {},
   "outputs": [
    {
     "data": {
      "text/html": [
       "<div>\n",
       "<style scoped>\n",
       "    .dataframe tbody tr th:only-of-type {\n",
       "        vertical-align: middle;\n",
       "    }\n",
       "\n",
       "    .dataframe tbody tr th {\n",
       "        vertical-align: top;\n",
       "    }\n",
       "\n",
       "    .dataframe thead th {\n",
       "        text-align: right;\n",
       "    }\n",
       "</style>\n",
       "<table border=\"1\" class=\"dataframe\">\n",
       "  <thead>\n",
       "    <tr style=\"text-align: right;\">\n",
       "      <th></th>\n",
       "      <th>STATEMENT</th>\n",
       "      <th>CATEGORY</th>\n",
       "    </tr>\n",
       "  </thead>\n",
       "  <tbody>\n",
       "    <tr>\n",
       "      <th>0</th>\n",
       "      <td>Defaulting Lender’s right to approve or disapp...</td>\n",
       "      <td>1</td>\n",
       "    </tr>\n",
       "    <tr>\n",
       "      <th>1</th>\n",
       "      <td>Lender during the defaulting Period with respe...</td>\n",
       "      <td>1</td>\n",
       "    </tr>\n",
       "    <tr>\n",
       "      <th>2</th>\n",
       "      <td>Any Lender defaulting, as reasonably determine...</td>\n",
       "      <td>1</td>\n",
       "    </tr>\n",
       "    <tr>\n",
       "      <th>3</th>\n",
       "      <td>Lender shall be deemed to be a Defaulting Lend...</td>\n",
       "      <td>1</td>\n",
       "    </tr>\n",
       "  </tbody>\n",
       "</table>\n",
       "</div>"
      ],
      "text/plain": [
       "                                           STATEMENT  CATEGORY\n",
       "0  Defaulting Lender’s right to approve or disapp...         1\n",
       "1  Lender during the defaulting Period with respe...         1\n",
       "2  Any Lender defaulting, as reasonably determine...         1\n",
       "3  Lender shall be deemed to be a Defaulting Lend...         1"
      ]
     },
     "execution_count": 131,
     "metadata": {},
     "output_type": "execute_result"
    }
   ],
   "source": [
    "lender_defaulting_training = pd.read_csv(LENDER_DEFAULTING_TRAINING_PATH)\n",
    "lender_defaulting_training['CATEGORY'] = Lender_defaulting_classification_id\n",
    "lender_defaulting_training"
   ]
  },
  {
   "cell_type": "code",
   "execution_count": 132,
   "id": "0496ab7a",
   "metadata": {},
   "outputs": [
    {
     "data": {
      "text/html": [
       "<div>\n",
       "<style scoped>\n",
       "    .dataframe tbody tr th:only-of-type {\n",
       "        vertical-align: middle;\n",
       "    }\n",
       "\n",
       "    .dataframe tbody tr th {\n",
       "        vertical-align: top;\n",
       "    }\n",
       "\n",
       "    .dataframe thead th {\n",
       "        text-align: right;\n",
       "    }\n",
       "</style>\n",
       "<table border=\"1\" class=\"dataframe\">\n",
       "  <thead>\n",
       "    <tr style=\"text-align: right;\">\n",
       "      <th></th>\n",
       "      <th>STATEMENT</th>\n",
       "      <th>CATEGORY</th>\n",
       "    </tr>\n",
       "  </thead>\n",
       "  <tbody>\n",
       "    <tr>\n",
       "      <th>0</th>\n",
       "      <td>This Agreement and shall be governed by and in...</td>\n",
       "      <td>2</td>\n",
       "    </tr>\n",
       "    <tr>\n",
       "      <th>1</th>\n",
       "      <td>The choice of South African law as the governi...</td>\n",
       "      <td>2</td>\n",
       "    </tr>\n",
       "    <tr>\n",
       "      <th>2</th>\n",
       "      <td>THIS AGREEMENT AND THE OTHER LOAN DOCUMENTS AN...</td>\n",
       "      <td>2</td>\n",
       "    </tr>\n",
       "    <tr>\n",
       "      <th>3</th>\n",
       "      <td>This Agreement shall be governed by the laws o...</td>\n",
       "      <td>2</td>\n",
       "    </tr>\n",
       "  </tbody>\n",
       "</table>\n",
       "</div>"
      ],
      "text/plain": [
       "                                           STATEMENT  CATEGORY\n",
       "0  This Agreement and shall be governed by and in...         2\n",
       "1  The choice of South African law as the governi...         2\n",
       "2  THIS AGREEMENT AND THE OTHER LOAN DOCUMENTS AN...         2\n",
       "3  This Agreement shall be governed by the laws o...         2"
      ]
     },
     "execution_count": 132,
     "metadata": {},
     "output_type": "execute_result"
    }
   ],
   "source": [
    "governing_law_training = pd.read_csv(GOVERNING_LAW_TRAINING_PATH)\n",
    "governing_law_training['CATEGORY'] = Governing_law_classification_id\n",
    "governing_law_training"
   ]
  },
  {
   "cell_type": "code",
   "execution_count": 133,
   "id": "b83d9310",
   "metadata": {},
   "outputs": [
    {
     "data": {
      "text/html": [
       "<div>\n",
       "<style scoped>\n",
       "    .dataframe tbody tr th:only-of-type {\n",
       "        vertical-align: middle;\n",
       "    }\n",
       "\n",
       "    .dataframe tbody tr th {\n",
       "        vertical-align: top;\n",
       "    }\n",
       "\n",
       "    .dataframe thead th {\n",
       "        text-align: right;\n",
       "    }\n",
       "</style>\n",
       "<table border=\"1\" class=\"dataframe\">\n",
       "  <thead>\n",
       "    <tr style=\"text-align: right;\">\n",
       "      <th></th>\n",
       "      <th>STATEMENT</th>\n",
       "      <th>CATEGORY</th>\n",
       "    </tr>\n",
       "  </thead>\n",
       "  <tbody>\n",
       "    <tr>\n",
       "      <th>0</th>\n",
       "      <td>Borrowers will indemnify each Lender against a...</td>\n",
       "      <td>3</td>\n",
       "    </tr>\n",
       "    <tr>\n",
       "      <th>1</th>\n",
       "      <td>The Borrower shall indemnify all parties, and ...</td>\n",
       "      <td>3</td>\n",
       "    </tr>\n",
       "    <tr>\n",
       "      <th>2</th>\n",
       "      <td>Administrative Agent shall be entitled to reim...</td>\n",
       "      <td>3</td>\n",
       "    </tr>\n",
       "    <tr>\n",
       "      <th>3</th>\n",
       "      <td>Syndication Agent shall be entitled to reimbur...</td>\n",
       "      <td>3</td>\n",
       "    </tr>\n",
       "    <tr>\n",
       "      <th>4</th>\n",
       "      <td>The Lenders agree to indemnify the Administrat...</td>\n",
       "      <td>3</td>\n",
       "    </tr>\n",
       "  </tbody>\n",
       "</table>\n",
       "</div>"
      ],
      "text/plain": [
       "                                           STATEMENT  CATEGORY\n",
       "0  Borrowers will indemnify each Lender against a...         3\n",
       "1  The Borrower shall indemnify all parties, and ...         3\n",
       "2  Administrative Agent shall be entitled to reim...         3\n",
       "3  Syndication Agent shall be entitled to reimbur...         3\n",
       "4  The Lenders agree to indemnify the Administrat...         3"
      ]
     },
     "execution_count": 133,
     "metadata": {},
     "output_type": "execute_result"
    }
   ],
   "source": [
    "indemnification_training = pd.read_csv(INDEMNIFICATION_TRAINING_PATH)\n",
    "indemnification_training['CATEGORY'] = Indemnification_classification_id\n",
    "indemnification_training"
   ]
  },
  {
   "cell_type": "code",
   "execution_count": 134,
   "id": "19dfa93c",
   "metadata": {},
   "outputs": [
    {
     "data": {
      "text/html": [
       "<div>\n",
       "<style scoped>\n",
       "    .dataframe tbody tr th:only-of-type {\n",
       "        vertical-align: middle;\n",
       "    }\n",
       "\n",
       "    .dataframe tbody tr th {\n",
       "        vertical-align: top;\n",
       "    }\n",
       "\n",
       "    .dataframe thead th {\n",
       "        text-align: right;\n",
       "    }\n",
       "</style>\n",
       "<table border=\"1\" class=\"dataframe\">\n",
       "  <thead>\n",
       "    <tr style=\"text-align: right;\">\n",
       "      <th></th>\n",
       "      <th>STATEMENT</th>\n",
       "      <th>CATEGORY</th>\n",
       "    </tr>\n",
       "  </thead>\n",
       "  <tbody>\n",
       "    <tr>\n",
       "      <th>0</th>\n",
       "      <td>Eligible receivables are not subject to any li...</td>\n",
       "      <td>4</td>\n",
       "    </tr>\n",
       "    <tr>\n",
       "      <th>1</th>\n",
       "      <td>“Acceptance Condition” means the condition wit...</td>\n",
       "      <td>4</td>\n",
       "    </tr>\n",
       "    <tr>\n",
       "      <th>2</th>\n",
       "      <td>Applicable Rate” means, the following percenta...</td>\n",
       "      <td>4</td>\n",
       "    </tr>\n",
       "    <tr>\n",
       "      <th>3</th>\n",
       "      <td>“Disinterested Director” shall mean, with resp...</td>\n",
       "      <td>4</td>\n",
       "    </tr>\n",
       "  </tbody>\n",
       "</table>\n",
       "</div>"
      ],
      "text/plain": [
       "                                           STATEMENT  CATEGORY\n",
       "0  Eligible receivables are not subject to any li...         4\n",
       "1  “Acceptance Condition” means the condition wit...         4\n",
       "2  Applicable Rate” means, the following percenta...         4\n",
       "3  “Disinterested Director” shall mean, with resp...         4"
      ]
     },
     "execution_count": 134,
     "metadata": {},
     "output_type": "execute_result"
    }
   ],
   "source": [
    "other_training = pd.read_csv(OTHER_TRAINING_PATH)\n",
    "other_training['CATEGORY'] = Other_classification_id\n",
    "other_training"
   ]
  },
  {
   "cell_type": "markdown",
   "id": "d0212573",
   "metadata": {},
   "source": [
    "## Concatenating different datasets into one"
   ]
  },
  {
   "cell_type": "code",
   "execution_count": 135,
   "id": "e74572bf",
   "metadata": {},
   "outputs": [
    {
     "data": {
      "text/html": [
       "<div>\n",
       "<style scoped>\n",
       "    .dataframe tbody tr th:only-of-type {\n",
       "        vertical-align: middle;\n",
       "    }\n",
       "\n",
       "    .dataframe tbody tr th {\n",
       "        vertical-align: top;\n",
       "    }\n",
       "\n",
       "    .dataframe thead th {\n",
       "        text-align: right;\n",
       "    }\n",
       "</style>\n",
       "<table border=\"1\" class=\"dataframe\">\n",
       "  <thead>\n",
       "    <tr style=\"text-align: right;\">\n",
       "      <th></th>\n",
       "      <th>STATEMENT</th>\n",
       "      <th>CATEGORY</th>\n",
       "    </tr>\n",
       "  </thead>\n",
       "  <tbody>\n",
       "    <tr>\n",
       "      <th>0</th>\n",
       "      <td>This CREDIT AGREEMENT is entered into as of No...</td>\n",
       "      <td>0</td>\n",
       "    </tr>\n",
       "    <tr>\n",
       "      <th>1</th>\n",
       "      <td>This agreement is dated 22 December 2014 and m...</td>\n",
       "      <td>0</td>\n",
       "    </tr>\n",
       "    <tr>\n",
       "      <th>2</th>\n",
       "      <td>This TERM LOAN AGREEMENT, dated as of April 24...</td>\n",
       "      <td>0</td>\n",
       "    </tr>\n",
       "    <tr>\n",
       "      <th>3</th>\n",
       "      <td>This CREDIT AGREEMENT is entered into as of De...</td>\n",
       "      <td>0</td>\n",
       "    </tr>\n",
       "    <tr>\n",
       "      <th>0</th>\n",
       "      <td>Defaulting Lender’s right to approve or disapp...</td>\n",
       "      <td>1</td>\n",
       "    </tr>\n",
       "    <tr>\n",
       "      <th>1</th>\n",
       "      <td>Lender during the defaulting Period with respe...</td>\n",
       "      <td>1</td>\n",
       "    </tr>\n",
       "    <tr>\n",
       "      <th>2</th>\n",
       "      <td>Any Lender defaulting, as reasonably determine...</td>\n",
       "      <td>1</td>\n",
       "    </tr>\n",
       "    <tr>\n",
       "      <th>3</th>\n",
       "      <td>Lender shall be deemed to be a Defaulting Lend...</td>\n",
       "      <td>1</td>\n",
       "    </tr>\n",
       "    <tr>\n",
       "      <th>0</th>\n",
       "      <td>This Agreement and shall be governed by and in...</td>\n",
       "      <td>2</td>\n",
       "    </tr>\n",
       "    <tr>\n",
       "      <th>1</th>\n",
       "      <td>The choice of South African law as the governi...</td>\n",
       "      <td>2</td>\n",
       "    </tr>\n",
       "    <tr>\n",
       "      <th>2</th>\n",
       "      <td>THIS AGREEMENT AND THE OTHER LOAN DOCUMENTS AN...</td>\n",
       "      <td>2</td>\n",
       "    </tr>\n",
       "    <tr>\n",
       "      <th>3</th>\n",
       "      <td>This Agreement shall be governed by the laws o...</td>\n",
       "      <td>2</td>\n",
       "    </tr>\n",
       "    <tr>\n",
       "      <th>0</th>\n",
       "      <td>Borrowers will indemnify each Lender against a...</td>\n",
       "      <td>3</td>\n",
       "    </tr>\n",
       "    <tr>\n",
       "      <th>1</th>\n",
       "      <td>The Borrower shall indemnify all parties, and ...</td>\n",
       "      <td>3</td>\n",
       "    </tr>\n",
       "    <tr>\n",
       "      <th>2</th>\n",
       "      <td>Administrative Agent shall be entitled to reim...</td>\n",
       "      <td>3</td>\n",
       "    </tr>\n",
       "    <tr>\n",
       "      <th>3</th>\n",
       "      <td>Syndication Agent shall be entitled to reimbur...</td>\n",
       "      <td>3</td>\n",
       "    </tr>\n",
       "    <tr>\n",
       "      <th>4</th>\n",
       "      <td>The Lenders agree to indemnify the Administrat...</td>\n",
       "      <td>3</td>\n",
       "    </tr>\n",
       "    <tr>\n",
       "      <th>0</th>\n",
       "      <td>Eligible receivables are not subject to any li...</td>\n",
       "      <td>4</td>\n",
       "    </tr>\n",
       "    <tr>\n",
       "      <th>1</th>\n",
       "      <td>“Acceptance Condition” means the condition wit...</td>\n",
       "      <td>4</td>\n",
       "    </tr>\n",
       "    <tr>\n",
       "      <th>2</th>\n",
       "      <td>Applicable Rate” means, the following percenta...</td>\n",
       "      <td>4</td>\n",
       "    </tr>\n",
       "    <tr>\n",
       "      <th>3</th>\n",
       "      <td>“Disinterested Director” shall mean, with resp...</td>\n",
       "      <td>4</td>\n",
       "    </tr>\n",
       "  </tbody>\n",
       "</table>\n",
       "</div>"
      ],
      "text/plain": [
       "                                           STATEMENT  CATEGORY\n",
       "0  This CREDIT AGREEMENT is entered into as of No...         0\n",
       "1  This agreement is dated 22 December 2014 and m...         0\n",
       "2  This TERM LOAN AGREEMENT, dated as of April 24...         0\n",
       "3  This CREDIT AGREEMENT is entered into as of De...         0\n",
       "0  Defaulting Lender’s right to approve or disapp...         1\n",
       "1  Lender during the defaulting Period with respe...         1\n",
       "2  Any Lender defaulting, as reasonably determine...         1\n",
       "3  Lender shall be deemed to be a Defaulting Lend...         1\n",
       "0  This Agreement and shall be governed by and in...         2\n",
       "1  The choice of South African law as the governi...         2\n",
       "2  THIS AGREEMENT AND THE OTHER LOAN DOCUMENTS AN...         2\n",
       "3  This Agreement shall be governed by the laws o...         2\n",
       "0  Borrowers will indemnify each Lender against a...         3\n",
       "1  The Borrower shall indemnify all parties, and ...         3\n",
       "2  Administrative Agent shall be entitled to reim...         3\n",
       "3  Syndication Agent shall be entitled to reimbur...         3\n",
       "4  The Lenders agree to indemnify the Administrat...         3\n",
       "0  Eligible receivables are not subject to any li...         4\n",
       "1  “Acceptance Condition” means the condition wit...         4\n",
       "2  Applicable Rate” means, the following percenta...         4\n",
       "3  “Disinterested Director” shall mean, with resp...         4"
      ]
     },
     "execution_count": 135,
     "metadata": {},
     "output_type": "execute_result"
    }
   ],
   "source": [
    "data = pd.concat([preamble_training,lender_defaulting_training, governing_law_training,indemnification_training,other_training])\n",
    "data"
   ]
  },
  {
   "cell_type": "markdown",
   "id": "da0e52dd",
   "metadata": {},
   "source": [
    "## Checking for Empty Statements in Dataset"
   ]
  },
  {
   "cell_type": "code",
   "execution_count": 136,
   "id": "a88baefc",
   "metadata": {},
   "outputs": [
    {
     "data": {
      "text/plain": [
       "False"
      ]
     },
     "execution_count": 136,
     "metadata": {},
     "output_type": "execute_result"
    }
   ],
   "source": [
    "# check if there are empty emails (string length zero)\n",
    "(data.STATEMENT.str.len() == 0).any()"
   ]
  },
  {
   "cell_type": "code",
   "execution_count": 137,
   "id": "b307fca2",
   "metadata": {},
   "outputs": [
    {
     "data": {
      "text/html": [
       "<div>\n",
       "<style scoped>\n",
       "    .dataframe tbody tr th:only-of-type {\n",
       "        vertical-align: middle;\n",
       "    }\n",
       "\n",
       "    .dataframe tbody tr th {\n",
       "        vertical-align: top;\n",
       "    }\n",
       "\n",
       "    .dataframe thead th {\n",
       "        text-align: right;\n",
       "    }\n",
       "</style>\n",
       "<table border=\"1\" class=\"dataframe\">\n",
       "  <thead>\n",
       "    <tr style=\"text-align: right;\">\n",
       "      <th></th>\n",
       "      <th>STATEMENT</th>\n",
       "      <th>CATEGORY</th>\n",
       "    </tr>\n",
       "  </thead>\n",
       "  <tbody>\n",
       "    <tr>\n",
       "      <th>0</th>\n",
       "      <td>This CREDIT AGREEMENT is entered into as of No...</td>\n",
       "      <td>0</td>\n",
       "    </tr>\n",
       "    <tr>\n",
       "      <th>1</th>\n",
       "      <td>This agreement is dated 22 December 2014 and m...</td>\n",
       "      <td>0</td>\n",
       "    </tr>\n",
       "    <tr>\n",
       "      <th>2</th>\n",
       "      <td>This TERM LOAN AGREEMENT, dated as of April 24...</td>\n",
       "      <td>0</td>\n",
       "    </tr>\n",
       "    <tr>\n",
       "      <th>3</th>\n",
       "      <td>This CREDIT AGREEMENT is entered into as of De...</td>\n",
       "      <td>0</td>\n",
       "    </tr>\n",
       "    <tr>\n",
       "      <th>0</th>\n",
       "      <td>Defaulting Lender’s right to approve or disapp...</td>\n",
       "      <td>1</td>\n",
       "    </tr>\n",
       "    <tr>\n",
       "      <th>1</th>\n",
       "      <td>Lender during the defaulting Period with respe...</td>\n",
       "      <td>1</td>\n",
       "    </tr>\n",
       "    <tr>\n",
       "      <th>2</th>\n",
       "      <td>Any Lender defaulting, as reasonably determine...</td>\n",
       "      <td>1</td>\n",
       "    </tr>\n",
       "    <tr>\n",
       "      <th>3</th>\n",
       "      <td>Lender shall be deemed to be a Defaulting Lend...</td>\n",
       "      <td>1</td>\n",
       "    </tr>\n",
       "    <tr>\n",
       "      <th>0</th>\n",
       "      <td>This Agreement and shall be governed by and in...</td>\n",
       "      <td>2</td>\n",
       "    </tr>\n",
       "    <tr>\n",
       "      <th>1</th>\n",
       "      <td>The choice of South African law as the governi...</td>\n",
       "      <td>2</td>\n",
       "    </tr>\n",
       "    <tr>\n",
       "      <th>2</th>\n",
       "      <td>THIS AGREEMENT AND THE OTHER LOAN DOCUMENTS AN...</td>\n",
       "      <td>2</td>\n",
       "    </tr>\n",
       "    <tr>\n",
       "      <th>3</th>\n",
       "      <td>This Agreement shall be governed by the laws o...</td>\n",
       "      <td>2</td>\n",
       "    </tr>\n",
       "    <tr>\n",
       "      <th>0</th>\n",
       "      <td>Borrowers will indemnify each Lender against a...</td>\n",
       "      <td>3</td>\n",
       "    </tr>\n",
       "    <tr>\n",
       "      <th>1</th>\n",
       "      <td>The Borrower shall indemnify all parties, and ...</td>\n",
       "      <td>3</td>\n",
       "    </tr>\n",
       "    <tr>\n",
       "      <th>2</th>\n",
       "      <td>Administrative Agent shall be entitled to reim...</td>\n",
       "      <td>3</td>\n",
       "    </tr>\n",
       "    <tr>\n",
       "      <th>3</th>\n",
       "      <td>Syndication Agent shall be entitled to reimbur...</td>\n",
       "      <td>3</td>\n",
       "    </tr>\n",
       "    <tr>\n",
       "      <th>4</th>\n",
       "      <td>The Lenders agree to indemnify the Administrat...</td>\n",
       "      <td>3</td>\n",
       "    </tr>\n",
       "    <tr>\n",
       "      <th>0</th>\n",
       "      <td>Eligible receivables are not subject to any li...</td>\n",
       "      <td>4</td>\n",
       "    </tr>\n",
       "    <tr>\n",
       "      <th>1</th>\n",
       "      <td>“Acceptance Condition” means the condition wit...</td>\n",
       "      <td>4</td>\n",
       "    </tr>\n",
       "    <tr>\n",
       "      <th>2</th>\n",
       "      <td>Applicable Rate” means, the following percenta...</td>\n",
       "      <td>4</td>\n",
       "    </tr>\n",
       "    <tr>\n",
       "      <th>3</th>\n",
       "      <td>“Disinterested Director” shall mean, with resp...</td>\n",
       "      <td>4</td>\n",
       "    </tr>\n",
       "  </tbody>\n",
       "</table>\n",
       "</div>"
      ],
      "text/plain": [
       "                                           STATEMENT  CATEGORY\n",
       "0  This CREDIT AGREEMENT is entered into as of No...         0\n",
       "1  This agreement is dated 22 December 2014 and m...         0\n",
       "2  This TERM LOAN AGREEMENT, dated as of April 24...         0\n",
       "3  This CREDIT AGREEMENT is entered into as of De...         0\n",
       "0  Defaulting Lender’s right to approve or disapp...         1\n",
       "1  Lender during the defaulting Period with respe...         1\n",
       "2  Any Lender defaulting, as reasonably determine...         1\n",
       "3  Lender shall be deemed to be a Defaulting Lend...         1\n",
       "0  This Agreement and shall be governed by and in...         2\n",
       "1  The choice of South African law as the governi...         2\n",
       "2  THIS AGREEMENT AND THE OTHER LOAN DOCUMENTS AN...         2\n",
       "3  This Agreement shall be governed by the laws o...         2\n",
       "0  Borrowers will indemnify each Lender against a...         3\n",
       "1  The Borrower shall indemnify all parties, and ...         3\n",
       "2  Administrative Agent shall be entitled to reim...         3\n",
       "3  Syndication Agent shall be entitled to reimbur...         3\n",
       "4  The Lenders agree to indemnify the Administrat...         3\n",
       "0  Eligible receivables are not subject to any li...         4\n",
       "1  “Acceptance Condition” means the condition wit...         4\n",
       "2  Applicable Rate” means, the following percenta...         4\n",
       "3  “Disinterested Director” shall mean, with resp...         4"
      ]
     },
     "execution_count": 137,
     "metadata": {},
     "output_type": "execute_result"
    }
   ],
   "source": [
    "# Remove any empty record\n",
    "data.drop(data[data.STATEMENT.str.len() == 0].index, inplace=True)\n",
    "data"
   ]
  },
  {
   "cell_type": "markdown",
   "id": "b2ff9908",
   "metadata": {},
   "source": [
    "## Add Unique Ids to keep the track of the statements\n",
    "### Make this Unique Id the Index of the record"
   ]
  },
  {
   "cell_type": "code",
   "execution_count": 138,
   "id": "4558e5f8",
   "metadata": {},
   "outputs": [
    {
     "data": {
      "text/html": [
       "<div>\n",
       "<style scoped>\n",
       "    .dataframe tbody tr th:only-of-type {\n",
       "        vertical-align: middle;\n",
       "    }\n",
       "\n",
       "    .dataframe tbody tr th {\n",
       "        vertical-align: top;\n",
       "    }\n",
       "\n",
       "    .dataframe thead th {\n",
       "        text-align: right;\n",
       "    }\n",
       "</style>\n",
       "<table border=\"1\" class=\"dataframe\">\n",
       "  <thead>\n",
       "    <tr style=\"text-align: right;\">\n",
       "      <th></th>\n",
       "      <th>STATEMENT</th>\n",
       "      <th>CATEGORY</th>\n",
       "    </tr>\n",
       "    <tr>\n",
       "      <th>DOC_ID</th>\n",
       "      <th></th>\n",
       "      <th></th>\n",
       "    </tr>\n",
       "  </thead>\n",
       "  <tbody>\n",
       "    <tr>\n",
       "      <th>0</th>\n",
       "      <td>This CREDIT AGREEMENT is entered into as of No...</td>\n",
       "      <td>0</td>\n",
       "    </tr>\n",
       "    <tr>\n",
       "      <th>1</th>\n",
       "      <td>This agreement is dated 22 December 2014 and m...</td>\n",
       "      <td>0</td>\n",
       "    </tr>\n",
       "    <tr>\n",
       "      <th>2</th>\n",
       "      <td>This TERM LOAN AGREEMENT, dated as of April 24...</td>\n",
       "      <td>0</td>\n",
       "    </tr>\n",
       "    <tr>\n",
       "      <th>3</th>\n",
       "      <td>This CREDIT AGREEMENT is entered into as of De...</td>\n",
       "      <td>0</td>\n",
       "    </tr>\n",
       "    <tr>\n",
       "      <th>4</th>\n",
       "      <td>Defaulting Lender’s right to approve or disapp...</td>\n",
       "      <td>1</td>\n",
       "    </tr>\n",
       "    <tr>\n",
       "      <th>5</th>\n",
       "      <td>Lender during the defaulting Period with respe...</td>\n",
       "      <td>1</td>\n",
       "    </tr>\n",
       "    <tr>\n",
       "      <th>6</th>\n",
       "      <td>Any Lender defaulting, as reasonably determine...</td>\n",
       "      <td>1</td>\n",
       "    </tr>\n",
       "    <tr>\n",
       "      <th>7</th>\n",
       "      <td>Lender shall be deemed to be a Defaulting Lend...</td>\n",
       "      <td>1</td>\n",
       "    </tr>\n",
       "    <tr>\n",
       "      <th>8</th>\n",
       "      <td>This Agreement and shall be governed by and in...</td>\n",
       "      <td>2</td>\n",
       "    </tr>\n",
       "    <tr>\n",
       "      <th>9</th>\n",
       "      <td>The choice of South African law as the governi...</td>\n",
       "      <td>2</td>\n",
       "    </tr>\n",
       "    <tr>\n",
       "      <th>10</th>\n",
       "      <td>THIS AGREEMENT AND THE OTHER LOAN DOCUMENTS AN...</td>\n",
       "      <td>2</td>\n",
       "    </tr>\n",
       "    <tr>\n",
       "      <th>11</th>\n",
       "      <td>This Agreement shall be governed by the laws o...</td>\n",
       "      <td>2</td>\n",
       "    </tr>\n",
       "    <tr>\n",
       "      <th>12</th>\n",
       "      <td>Borrowers will indemnify each Lender against a...</td>\n",
       "      <td>3</td>\n",
       "    </tr>\n",
       "    <tr>\n",
       "      <th>13</th>\n",
       "      <td>The Borrower shall indemnify all parties, and ...</td>\n",
       "      <td>3</td>\n",
       "    </tr>\n",
       "    <tr>\n",
       "      <th>14</th>\n",
       "      <td>Administrative Agent shall be entitled to reim...</td>\n",
       "      <td>3</td>\n",
       "    </tr>\n",
       "    <tr>\n",
       "      <th>15</th>\n",
       "      <td>Syndication Agent shall be entitled to reimbur...</td>\n",
       "      <td>3</td>\n",
       "    </tr>\n",
       "    <tr>\n",
       "      <th>16</th>\n",
       "      <td>The Lenders agree to indemnify the Administrat...</td>\n",
       "      <td>3</td>\n",
       "    </tr>\n",
       "    <tr>\n",
       "      <th>17</th>\n",
       "      <td>Eligible receivables are not subject to any li...</td>\n",
       "      <td>4</td>\n",
       "    </tr>\n",
       "    <tr>\n",
       "      <th>18</th>\n",
       "      <td>“Acceptance Condition” means the condition wit...</td>\n",
       "      <td>4</td>\n",
       "    </tr>\n",
       "    <tr>\n",
       "      <th>19</th>\n",
       "      <td>Applicable Rate” means, the following percenta...</td>\n",
       "      <td>4</td>\n",
       "    </tr>\n",
       "    <tr>\n",
       "      <th>20</th>\n",
       "      <td>“Disinterested Director” shall mean, with resp...</td>\n",
       "      <td>4</td>\n",
       "    </tr>\n",
       "  </tbody>\n",
       "</table>\n",
       "</div>"
      ],
      "text/plain": [
       "                                                STATEMENT  CATEGORY\n",
       "DOC_ID                                                             \n",
       "0       This CREDIT AGREEMENT is entered into as of No...         0\n",
       "1       This agreement is dated 22 December 2014 and m...         0\n",
       "2       This TERM LOAN AGREEMENT, dated as of April 24...         0\n",
       "3       This CREDIT AGREEMENT is entered into as of De...         0\n",
       "4       Defaulting Lender’s right to approve or disapp...         1\n",
       "5       Lender during the defaulting Period with respe...         1\n",
       "6       Any Lender defaulting, as reasonably determine...         1\n",
       "7       Lender shall be deemed to be a Defaulting Lend...         1\n",
       "8       This Agreement and shall be governed by and in...         2\n",
       "9       The choice of South African law as the governi...         2\n",
       "10      THIS AGREEMENT AND THE OTHER LOAN DOCUMENTS AN...         2\n",
       "11      This Agreement shall be governed by the laws o...         2\n",
       "12      Borrowers will indemnify each Lender against a...         3\n",
       "13      The Borrower shall indemnify all parties, and ...         3\n",
       "14      Administrative Agent shall be entitled to reim...         3\n",
       "15      Syndication Agent shall be entitled to reimbur...         3\n",
       "16      The Lenders agree to indemnify the Administrat...         3\n",
       "17      Eligible receivables are not subject to any li...         4\n",
       "18      “Acceptance Condition” means the condition wit...         4\n",
       "19      Applicable Rate” means, the following percenta...         4\n",
       "20      “Disinterested Director” shall mean, with resp...         4"
      ]
     },
     "execution_count": 138,
     "metadata": {},
     "output_type": "execute_result"
    }
   ],
   "source": [
    "document_ids = range(0, len(data.index))\n",
    "data['DOC_ID'] = document_ids\n",
    "data.set_index('DOC_ID', inplace=True)\n",
    "data"
   ]
  },
  {
   "cell_type": "markdown",
   "id": "20fcf3eb",
   "metadata": {},
   "source": [
    "## Storing the Training Dataset in JSON Format"
   ]
  },
  {
   "cell_type": "code",
   "execution_count": 139,
   "id": "45160f60",
   "metadata": {},
   "outputs": [],
   "source": [
    "data.to_json(TRAINING_DATA_JSON_FILE)"
   ]
  },
  {
   "cell_type": "markdown",
   "id": "05e00277",
   "metadata": {},
   "source": [
    "## Data Visualization"
   ]
  },
  {
   "cell_type": "code",
   "execution_count": 140,
   "id": "8813fe9f",
   "metadata": {},
   "outputs": [],
   "source": [
    "Preamble_count = data.CATEGORY.value_counts()[Preamble_classification_id]\n",
    "Lender_defaulting_count = data.CATEGORY.value_counts()[Lender_defaulting_classification_id]\n",
    "Governing_law_count =  data.CATEGORY.value_counts()[Governing_law_classification_id]\n",
    "Indemnification_count = data.CATEGORY.value_counts()[Indemnification_classification_id]\n",
    "Other_count = data.CATEGORY.value_counts()[Other_classification_id]"
   ]
  },
  {
   "cell_type": "code",
   "execution_count": 141,
   "id": "09af4976",
   "metadata": {},
   "outputs": [
    {
     "data": {
      "image/png": "[encoded data removed]",
      "text/plain": [
       "<Figure size 454x454 with 1 Axes>"
      ]
     },
     "metadata": {},
     "output_type": "display_data"
    }
   ],
   "source": [
    "category_names = ['Preamble', 'Lender_defaulting' , 'Governing_law','Indemnification','Other']\n",
    "sizes = [Preamble_count,Lender_defaulting_count,Governing_law_count,Indemnification_count,Other_count]\n",
    "custom_colours = ['#ff6666', '#74b9ff','#ccff66','#ccffff','#ffff99']\n",
    "\n",
    "plt.figure(figsize=(2, 2), dpi=227)\n",
    "plt.pie(sizes, labels=category_names, textprops={'fontsize': 6}, startangle=120, \n",
    "       autopct='%1.0f%%',colors=custom_colours, pctdistance=0.8)\n",
    "\n",
    "# draw circle\n",
    "centre_circle = plt.Circle((0, 0), radius=0.6, fc='white')\n",
    "plt.gca().add_artist(centre_circle)\n",
    "\n",
    "plt.show()"
   ]
  },
  {
   "cell_type": "markdown",
   "id": "9a59d116",
   "metadata": {},
   "source": [
    "## Natural Language Processing\n",
    "\n",
    "### Steps to be followed to clean the word using NLP\n",
    "\n",
    "#### 1. Convert the entire statement to lower case\n",
    "#### 2. Tokenization - Split the entire statement into separate words\n",
    "#### 3.  Remove stop words - words such as pronouns, articles which are present in almost every statement and do not impact the    statements\n",
    "#### 4. Stem down the words to its root - for example playing would be converted to play \n",
    "#### 5. Remove punctuations\n",
    "#### 6. Remove HTML Tags"
   ]
  },
  {
   "cell_type": "markdown",
   "id": "949a9d7c",
   "metadata": {},
   "source": [
    "## Downloading NLP Resources"
   ]
  },
  {
   "cell_type": "code",
   "execution_count": 142,
   "id": "84174679",
   "metadata": {},
   "outputs": [
    {
     "name": "stderr",
     "output_type": "stream",
     "text": [
      "[nltk_data] Downloading package punkt to\n",
      "[nltk_data]     C:\\Users\\shrut\\AppData\\Roaming\\nltk_data...\n",
      "[nltk_data]   Package punkt is already up-to-date!\n",
      "[nltk_data] Downloading package stopwords to\n",
      "[nltk_data]     C:\\Users\\shrut\\AppData\\Roaming\\nltk_data...\n",
      "[nltk_data]   Package stopwords is already up-to-date!\n"
     ]
    },
    {
     "data": {
      "text/plain": [
       "True"
      ]
     },
     "execution_count": 142,
     "metadata": {},
     "output_type": "execute_result"
    }
   ],
   "source": [
    "nltk.download('punkt')\n",
    "nltk.download('stopwords')"
   ]
  },
  {
   "cell_type": "markdown",
   "id": "7cc69710",
   "metadata": {},
   "source": [
    "## Function to Clean Statements with NLP"
   ]
  },
  {
   "cell_type": "code",
   "execution_count": 143,
   "id": "5ed2a436",
   "metadata": {},
   "outputs": [],
   "source": [
    "def nlp(message, stemmer=PorterStemmer(), stop_words=set(stopwords.words('english'))):\n",
    "    \n",
    "    \n",
    "    soup = BeautifulSoup(message, 'html.parser')       # ----- Remove HTML Tags                       \n",
    "    cleaned_text = soup.get_text()\n",
    "    \n",
    "   \n",
    "    words = word_tokenize(cleaned_text.lower())       #  ----- Convert the statement to lower Case and tokenize it\n",
    "    \n",
    "    filtered_words = []\n",
    "    \n",
    "    for word in words:\n",
    "        if word not in stop_words and word.isalpha():  # ------ Remove Stop words and Punctuations\n",
    "            filtered_words.append(stemmer.stem(word))\n",
    "\n",
    "    \n",
    "    return filtered_words"
   ]
  },
  {
   "cell_type": "code",
   "execution_count": 144,
   "id": "49630ea4",
   "metadata": {},
   "outputs": [
    {
     "data": {
      "text/plain": [
       "DOC_ID\n",
       "0     [credit, agreement, enter, novemb, among, dkin...\n",
       "1     [agreement, date, decemb, made, parti, xyz, go...\n",
       "2     [term, loan, agreement, date, april, among, pe...\n",
       "3     [credit, agreement, enter, decemb, among, td, ...\n",
       "4     [default, lender, right, approv, disapprov, am...\n",
       "5     [lender, default, period, respect, default, le...\n",
       "6     [lender, default, reason, determin, administr,...\n",
       "7     [lender, shall, deem, default, lender, date, e...\n",
       "8     [agreement, shall, govern, interpret, accord, ...\n",
       "9     [choic, south, african, law, govern, law, fina...\n",
       "10    [agreement, loan, document, claim, controversi...\n",
       "11    [agreement, shall, govern, law, state, new, yo...\n",
       "12    [borrow, indemnifi, lender, loss, expens, may,...\n",
       "13    [borrow, shall, indemnifi, parti, relat, parti...\n",
       "14    [administr, agent, shall, entitl, reimburs, re...\n",
       "15    [syndic, agent, shall, entitl, reimburs, reaso...\n",
       "16    [lender, agre, indemnifi, administr, agent, co...\n",
       "17    [elig, receiv, subject, limit, assign, restric...\n",
       "18    [accept, condit, mean, condit, respect, number...\n",
       "19    [applic, rate, mean, follow, percentag, per, a...\n",
       "20    [disinterest, director, shall, mean, respect, ...\n",
       "Name: STATEMENT, dtype: object"
      ]
     },
     "execution_count": 144,
     "metadata": {},
     "output_type": "execute_result"
    }
   ],
   "source": [
    "data_after_cleaning = data.STATEMENT.apply(nlp)        # ------ applying the nlp function\n",
    "data_after_cleaning"
   ]
  },
  {
   "cell_type": "markdown",
   "id": "0e8f45d0",
   "metadata": {},
   "source": [
    "## Creating the List of Most Common Words in Preamble Class"
   ]
  },
  {
   "cell_type": "code",
   "execution_count": 145,
   "id": "ac3cae26",
   "metadata": {},
   "outputs": [
    {
     "data": {
      "text/plain": [
       "Int64Index([0, 1, 2, 3], dtype='int64', name='DOC_ID')"
      ]
     },
     "execution_count": 145,
     "metadata": {},
     "output_type": "execute_result"
    }
   ],
   "source": [
    "preamble_index_series = data.loc[data.CATEGORY == Preamble_classification_id].index\n",
    "preamble_index_series"
   ]
  },
  {
   "cell_type": "code",
   "execution_count": 146,
   "id": "5ec64e79",
   "metadata": {},
   "outputs": [
    {
     "data": {
      "text/plain": [
       "DOC_ID\n",
       "0    [credit, agreement, enter, novemb, among, dkin...\n",
       "1    [agreement, date, decemb, made, parti, xyz, go...\n",
       "2    [term, loan, agreement, date, april, among, pe...\n",
       "3    [credit, agreement, enter, decemb, among, td, ...\n",
       "Name: STATEMENT, dtype: object"
      ]
     },
     "execution_count": 146,
     "metadata": {},
     "output_type": "execute_result"
    }
   ],
   "source": [
    "preamble_data_after_cleaning = data_after_cleaning.loc[preamble_index_series]\n",
    "preamble_data_after_cleaning"
   ]
  },
  {
   "cell_type": "code",
   "execution_count": 147,
   "id": "29aea4f3",
   "metadata": {},
   "outputs": [
    {
     "data": {
      "text/plain": [
       "bank         5\n",
       "lender       5\n",
       "agreement    5\n",
       "agent        5\n",
       "delawar      4\n",
       "            ..\n",
       "document     1\n",
       "swinglin     1\n",
       "term         1\n",
       "gold         1\n",
       "financi      1\n",
       "Length: 63, dtype: int64"
      ]
     },
     "execution_count": 147,
     "metadata": {},
     "output_type": "execute_result"
    }
   ],
   "source": [
    "preamble_word_list = []\n",
    "for sublist in preamble_data_after_cleaning:\n",
    "    for item in sublist:\n",
    "         preamble_word_list.append(item)\n",
    "preamble_words_count = pd.Series(preamble_word_list).value_counts()\n",
    "preamble_words_count"
   ]
  },
  {
   "cell_type": "code",
   "execution_count": 148,
   "id": "d58849b8",
   "metadata": {},
   "outputs": [
    {
     "data": {
      "image/png": "[encoded data removed]",
      "text/plain": [
       "<Figure size 432x288 with 1 Axes>"
      ]
     },
     "metadata": {
      "needs_background": "light"
     },
     "output_type": "display_data"
    }
   ],
   "source": [
    "preamble_str = ' '.join(preamble_word_list)\n",
    "word_cloud = WordCloud(background_color='white', max_font_size=200,\n",
    "                       colormap='winter')\n",
    "\n",
    "word_cloud.generate(preamble_str.upper())\n",
    "plt.imshow(word_cloud, interpolation='bilinear')\n",
    "plt.axis('off')\n",
    "plt.show()\n"
   ]
  },
  {
   "cell_type": "markdown",
   "id": "0f57dd73",
   "metadata": {},
   "source": [
    "## Creating the List of Most Common Words in Lender Defaulting Class"
   ]
  },
  {
   "cell_type": "code",
   "execution_count": 149,
   "id": "2b05a3e4",
   "metadata": {},
   "outputs": [
    {
     "data": {
      "text/plain": [
       "Int64Index([4, 5, 6, 7], dtype='int64', name='DOC_ID')"
      ]
     },
     "execution_count": 149,
     "metadata": {},
     "output_type": "execute_result"
    }
   ],
   "source": [
    "lender_defaulting_index_series = data.loc[data.CATEGORY == Lender_defaulting_classification_id].index\n",
    "lender_defaulting_index_series\n"
   ]
  },
  {
   "cell_type": "code",
   "execution_count": 150,
   "id": "9392f3b2",
   "metadata": {},
   "outputs": [
    {
     "data": {
      "text/plain": [
       "DOC_ID\n",
       "4    [default, lender, right, approv, disapprov, am...\n",
       "5    [lender, default, period, respect, default, le...\n",
       "6    [lender, default, reason, determin, administr,...\n",
       "7    [lender, shall, deem, default, lender, date, e...\n",
       "Name: STATEMENT, dtype: object"
      ]
     },
     "execution_count": 150,
     "metadata": {},
     "output_type": "execute_result"
    }
   ],
   "source": [
    "lender_defaulting_data_after_cleaning = data_after_cleaning.loc[lender_defaulting_index_series]\n",
    "lender_defaulting_data_after_cleaning"
   ]
  },
  {
   "cell_type": "code",
   "execution_count": 151,
   "id": "6dbe4c35",
   "metadata": {},
   "outputs": [
    {
     "data": {
      "text/plain": [
       "lender     9\n",
       "default    6\n",
       "shall      3\n",
       "respect    2\n",
       "loan       2\n",
       "dtype: int64"
      ]
     },
     "execution_count": 151,
     "metadata": {},
     "output_type": "execute_result"
    }
   ],
   "source": [
    "lender_defaulting_word_list = []\n",
    "for sublist in lender_defaulting_data_after_cleaning:\n",
    "    for item in sublist:\n",
    "         lender_defaulting_word_list.append(item)\n",
    "lender_defaulting_words_count = pd.Series(lender_defaulting_word_list).value_counts()\n",
    "lender_defaulting_words_count.head()"
   ]
  },
  {
   "cell_type": "code",
   "execution_count": 152,
   "id": "4e7c0f07",
   "metadata": {},
   "outputs": [
    {
     "data": {
      "image/png": "[encoded data removed]",
      "text/plain": [
       "<Figure size 432x288 with 1 Axes>"
      ]
     },
     "metadata": {
      "needs_background": "light"
     },
     "output_type": "display_data"
    }
   ],
   "source": [
    "lender_defaulting_str = ' '.join(lender_defaulting_word_list)\n",
    "word_cloud = WordCloud(background_color='white', max_font_size=200,\n",
    "                       colormap='summer')\n",
    "\n",
    "word_cloud.generate(lender_defaulting_str.upper())\n",
    "plt.imshow(word_cloud, interpolation='bilinear')\n",
    "plt.axis('off')\n",
    "plt.show()"
   ]
  },
  {
   "cell_type": "markdown",
   "id": "464599cb",
   "metadata": {},
   "source": [
    "## Creating the List of Most Common Words in Governing Law Class"
   ]
  },
  {
   "cell_type": "code",
   "execution_count": 153,
   "id": "f3d505c5",
   "metadata": {},
   "outputs": [
    {
     "data": {
      "text/plain": [
       "Int64Index([8, 9, 10, 11], dtype='int64', name='DOC_ID')"
      ]
     },
     "execution_count": 153,
     "metadata": {},
     "output_type": "execute_result"
    }
   ],
   "source": [
    "governing_law_index_series = data.loc[data.CATEGORY == Governing_law_classification_id].index\n",
    "governing_law_index_series"
   ]
  },
  {
   "cell_type": "code",
   "execution_count": 154,
   "id": "e240aa69",
   "metadata": {},
   "outputs": [
    {
     "data": {
      "text/plain": [
       "DOC_ID\n",
       "8     [agreement, shall, govern, interpret, accord, ...\n",
       "9     [choic, south, african, law, govern, law, fina...\n",
       "10    [agreement, loan, document, claim, controversi...\n",
       "11    [agreement, shall, govern, law, state, new, yo...\n",
       "Name: STATEMENT, dtype: object"
      ]
     },
     "execution_count": 154,
     "metadata": {},
     "output_type": "execute_result"
    }
   ],
   "source": [
    "governing_law_data_after_cleaning = data_after_cleaning.loc[governing_law_index_series]\n",
    "governing_law_data_after_cleaning"
   ]
  },
  {
   "cell_type": "code",
   "execution_count": 155,
   "id": "33fdb13f",
   "metadata": {},
   "outputs": [
    {
     "data": {
      "text/plain": [
       "law          7\n",
       "agreement    7\n",
       "shall        6\n",
       "govern       5\n",
       "term         3\n",
       "dtype: int64"
      ]
     },
     "execution_count": 155,
     "metadata": {},
     "output_type": "execute_result"
    }
   ],
   "source": [
    "governing_law_word_list = []\n",
    "for sublist in governing_law_data_after_cleaning:\n",
    "    for item in sublist:\n",
    "         governing_law_word_list.append(item)\n",
    "governing_law_words_count = pd.Series(governing_law_word_list).value_counts()\n",
    "governing_law_words_count.head()"
   ]
  },
  {
   "cell_type": "code",
   "execution_count": 156,
   "id": "68c6fc65",
   "metadata": {},
   "outputs": [
    {
     "data": {
      "image/png": "[encoded data removed]",
      "text/plain": [
       "<Figure size 432x288 with 1 Axes>"
      ]
     },
     "metadata": {
      "needs_background": "light"
     },
     "output_type": "display_data"
    }
   ],
   "source": [
    "governing_law_str = ' '.join(governing_law_word_list)\n",
    "word_cloud = WordCloud(background_color='white', max_font_size=200,\n",
    "                       colormap='spring')\n",
    "\n",
    "word_cloud.generate(governing_law_str.upper())\n",
    "plt.imshow(word_cloud, interpolation='bilinear')\n",
    "plt.axis('off')\n",
    "plt.show()"
   ]
  },
  {
   "cell_type": "markdown",
   "id": "38efd18d",
   "metadata": {},
   "source": [
    "## Creating the List of Most Common Words in Indemnification Class"
   ]
  },
  {
   "cell_type": "code",
   "execution_count": 157,
   "id": "ebc6822a",
   "metadata": {},
   "outputs": [
    {
     "data": {
      "text/plain": [
       "Int64Index([12, 13, 14, 15, 16], dtype='int64', name='DOC_ID')"
      ]
     },
     "execution_count": 157,
     "metadata": {},
     "output_type": "execute_result"
    }
   ],
   "source": [
    "indemnification_index_series = data.loc[data.CATEGORY == Indemnification_classification_id].index\n",
    "indemnification_index_series"
   ]
  },
  {
   "cell_type": "code",
   "execution_count": 158,
   "id": "7ced904e",
   "metadata": {},
   "outputs": [
    {
     "data": {
      "text/plain": [
       "DOC_ID\n",
       "12    [borrow, indemnifi, lender, loss, expens, may,...\n",
       "13    [borrow, shall, indemnifi, parti, relat, parti...\n",
       "14    [administr, agent, shall, entitl, reimburs, re...\n",
       "15    [syndic, agent, shall, entitl, reimburs, reaso...\n",
       "16    [lender, agre, indemnifi, administr, agent, co...\n",
       "Name: STATEMENT, dtype: object"
      ]
     },
     "execution_count": 158,
     "metadata": {},
     "output_type": "execute_result"
    }
   ],
   "source": [
    "indemnification_data_after_cleaning = data_after_cleaning.loc[indemnification_index_series]\n",
    "indemnification_data_after_cleaning"
   ]
  },
  {
   "cell_type": "code",
   "execution_count": 159,
   "id": "4765804d",
   "metadata": {},
   "outputs": [
    {
     "data": {
      "text/plain": [
       "borrow      4\n",
       "agent       4\n",
       "expens      4\n",
       "reimburs    3\n",
       "incur       3\n",
       "dtype: int64"
      ]
     },
     "execution_count": 159,
     "metadata": {},
     "output_type": "execute_result"
    }
   ],
   "source": [
    "indemnification_word_list = []\n",
    "for sublist in indemnification_data_after_cleaning:\n",
    "    for item in sublist:\n",
    "         indemnification_word_list.append(item)\n",
    "indemnification_words_count = pd.Series(indemnification_word_list).value_counts()\n",
    "indemnification_words_count.head()"
   ]
  },
  {
   "cell_type": "code",
   "execution_count": 160,
   "id": "7b27e5ae",
   "metadata": {},
   "outputs": [
    {
     "data": {
      "image/png": "[encoded data removed]",
      "text/plain": [
       "<Figure size 432x288 with 1 Axes>"
      ]
     },
     "metadata": {
      "needs_background": "light"
     },
     "output_type": "display_data"
    }
   ],
   "source": [
    "indemnification_str = ' '.join(indemnification_word_list)\n",
    "word_cloud = WordCloud(background_color='white', max_font_size=200,\n",
    "                       colormap='autumn')\n",
    "\n",
    "word_cloud.generate(indemnification_str.upper())\n",
    "plt.imshow(word_cloud, interpolation='bilinear')\n",
    "plt.axis('off')\n",
    "plt.show()"
   ]
  },
  {
   "cell_type": "markdown",
   "id": "f0685997",
   "metadata": {},
   "source": [
    "## Creating the List of Most Common Words in Other Class"
   ]
  },
  {
   "cell_type": "code",
   "execution_count": 161,
   "id": "0ba21e0c",
   "metadata": {},
   "outputs": [
    {
     "data": {
      "text/plain": [
       "Int64Index([17, 18, 19, 20], dtype='int64', name='DOC_ID')"
      ]
     },
     "execution_count": 161,
     "metadata": {},
     "output_type": "execute_result"
    }
   ],
   "source": [
    "other_index_series = data.loc[data.CATEGORY == Other_classification_id].index\n",
    "other_index_series"
   ]
  },
  {
   "cell_type": "code",
   "execution_count": 162,
   "id": "1d5fd2a6",
   "metadata": {},
   "outputs": [
    {
     "data": {
      "text/plain": [
       "DOC_ID\n",
       "17    [elig, receiv, subject, limit, assign, restric...\n",
       "18    [accept, condit, mean, condit, respect, number...\n",
       "19    [applic, rate, mean, follow, percentag, per, a...\n",
       "20    [disinterest, director, shall, mean, respect, ...\n",
       "Name: STATEMENT, dtype: object"
      ]
     },
     "execution_count": 162,
     "metadata": {},
     "output_type": "execute_result"
    }
   ],
   "source": [
    "other_data_after_cleaning = data_after_cleaning.loc[other_index_series]\n",
    "other_data_after_cleaning"
   ]
  },
  {
   "cell_type": "code",
   "execution_count": 163,
   "id": "69d4f409",
   "metadata": {},
   "outputs": [
    {
     "data": {
      "text/plain": [
       "receiv     4\n",
       "respect    3\n",
       "mean       3\n",
       "offer      3\n",
       "secur      3\n",
       "dtype: int64"
      ]
     },
     "execution_count": 163,
     "metadata": {},
     "output_type": "execute_result"
    }
   ],
   "source": [
    "other_word_list = []\n",
    "for sublist in other_data_after_cleaning:\n",
    "    for item in sublist:\n",
    "         other_word_list.append(item)\n",
    "other_words_count = pd.Series(other_word_list).value_counts()\n",
    "other_words_count.head()"
   ]
  },
  {
   "cell_type": "code",
   "execution_count": 164,
   "id": "702d0d5f",
   "metadata": {},
   "outputs": [
    {
     "data": {
      "image/png": "[encoded data removed]",
      "text/plain": [
       "<Figure size 432x288 with 1 Axes>"
      ]
     },
     "metadata": {
      "needs_background": "light"
     },
     "output_type": "display_data"
    }
   ],
   "source": [
    "other_str = ' '.join(other_word_list)\n",
    "word_cloud = WordCloud(background_color='white', max_font_size=200,\n",
    "                       colormap='winter_r')\n",
    "\n",
    "word_cloud.generate(other_str.upper())\n",
    "plt.imshow(word_cloud, interpolation='bilinear')\n",
    "plt.axis('off')\n",
    "plt.show()"
   ]
  },
  {
   "cell_type": "markdown",
   "id": "ba06bfb3",
   "metadata": {},
   "source": [
    "## Generate Vocabulary and Dictionary"
   ]
  },
  {
   "cell_type": "code",
   "execution_count": 165,
   "id": "7bd88fa8",
   "metadata": {},
   "outputs": [
    {
     "data": {
      "text/plain": [
       "lender       16\n",
       "shall        14\n",
       "agreement    13\n",
       "agent        12\n",
       "law           9\n",
       "             ..\n",
       "coordin       1\n",
       "approv        1\n",
       "consolid      1\n",
       "disput        1\n",
       "constru       1\n",
       "Length: 210, dtype: int64"
      ]
     },
     "execution_count": 165,
     "metadata": {},
     "output_type": "execute_result"
    }
   ],
   "source": [
    "total_words_list = [item for sublist in data_after_cleaning  for item in sublist]\n",
    "total_words_count = pd.Series(total_words_list).value_counts()\n",
    "total_words_count"
   ]
  },
  {
   "cell_type": "code",
   "execution_count": 166,
   "id": "d78d3ff2",
   "metadata": {},
   "outputs": [
    {
     "data": {
      "text/html": [
       "<div>\n",
       "<style scoped>\n",
       "    .dataframe tbody tr th:only-of-type {\n",
       "        vertical-align: middle;\n",
       "    }\n",
       "\n",
       "    .dataframe tbody tr th {\n",
       "        vertical-align: top;\n",
       "    }\n",
       "\n",
       "    .dataframe thead th {\n",
       "        text-align: right;\n",
       "    }\n",
       "</style>\n",
       "<table border=\"1\" class=\"dataframe\">\n",
       "  <thead>\n",
       "    <tr style=\"text-align: right;\">\n",
       "      <th></th>\n",
       "      <th>VOCAB_WORD</th>\n",
       "    </tr>\n",
       "    <tr>\n",
       "      <th>WORD_ID</th>\n",
       "      <th></th>\n",
       "    </tr>\n",
       "  </thead>\n",
       "  <tbody>\n",
       "    <tr>\n",
       "      <th>0</th>\n",
       "      <td>lender</td>\n",
       "    </tr>\n",
       "    <tr>\n",
       "      <th>1</th>\n",
       "      <td>shall</td>\n",
       "    </tr>\n",
       "    <tr>\n",
       "      <th>2</th>\n",
       "      <td>agreement</td>\n",
       "    </tr>\n",
       "    <tr>\n",
       "      <th>3</th>\n",
       "      <td>agent</td>\n",
       "    </tr>\n",
       "    <tr>\n",
       "      <th>4</th>\n",
       "      <td>law</td>\n",
       "    </tr>\n",
       "  </tbody>\n",
       "</table>\n",
       "</div>"
      ],
      "text/plain": [
       "        VOCAB_WORD\n",
       "WORD_ID           \n",
       "0           lender\n",
       "1            shall\n",
       "2        agreement\n",
       "3            agent\n",
       "4              law"
      ]
     },
     "execution_count": 166,
     "metadata": {},
     "output_type": "execute_result"
    }
   ],
   "source": [
    "word_ids = list(range(0, len(total_words_count)))\n",
    "vocab = pd.DataFrame({'VOCAB_WORD': total_words_count.index.values}, index=word_ids)\n",
    "vocab.index.name = 'WORD_ID'\n",
    "vocab.head()"
   ]
  },
  {
   "cell_type": "markdown",
   "id": "06661c25",
   "metadata": {},
   "source": [
    "## Save the Vocabulary as a CSV file"
   ]
  },
  {
   "cell_type": "code",
   "execution_count": 167,
   "id": "b9c04a8e",
   "metadata": {},
   "outputs": [],
   "source": [
    "vocab.to_csv(WORD_ID_FILE_PATH, index_label=vocab.index.name, header=vocab.VOCAB_WORD.name)"
   ]
  },
  {
   "cell_type": "markdown",
   "id": "7b580cad",
   "metadata": {},
   "source": [
    "## Generate Training Sparse Matrix"
   ]
  },
  {
   "cell_type": "code",
   "execution_count": 168,
   "id": "04a6c6fe",
   "metadata": {},
   "outputs": [
    {
     "data": {
      "text/html": [
       "<div>\n",
       "<style scoped>\n",
       "    .dataframe tbody tr th:only-of-type {\n",
       "        vertical-align: middle;\n",
       "    }\n",
       "\n",
       "    .dataframe tbody tr th {\n",
       "        vertical-align: top;\n",
       "    }\n",
       "\n",
       "    .dataframe thead th {\n",
       "        text-align: right;\n",
       "    }\n",
       "</style>\n",
       "<table border=\"1\" class=\"dataframe\">\n",
       "  <thead>\n",
       "    <tr style=\"text-align: right;\">\n",
       "      <th></th>\n",
       "      <th>0</th>\n",
       "      <th>1</th>\n",
       "      <th>2</th>\n",
       "      <th>3</th>\n",
       "      <th>4</th>\n",
       "      <th>5</th>\n",
       "      <th>6</th>\n",
       "      <th>7</th>\n",
       "      <th>8</th>\n",
       "      <th>9</th>\n",
       "      <th>...</th>\n",
       "      <th>28</th>\n",
       "      <th>29</th>\n",
       "      <th>30</th>\n",
       "      <th>31</th>\n",
       "      <th>32</th>\n",
       "      <th>33</th>\n",
       "      <th>34</th>\n",
       "      <th>35</th>\n",
       "      <th>36</th>\n",
       "      <th>37</th>\n",
       "    </tr>\n",
       "  </thead>\n",
       "  <tbody>\n",
       "    <tr>\n",
       "      <th>0</th>\n",
       "      <td>credit</td>\n",
       "      <td>agreement</td>\n",
       "      <td>enter</td>\n",
       "      <td>novemb</td>\n",
       "      <td>among</td>\n",
       "      <td>dkin</td>\n",
       "      <td>financ</td>\n",
       "      <td>delawar</td>\n",
       "      <td>corpor</td>\n",
       "      <td>borrow</td>\n",
       "      <td>...</td>\n",
       "      <td>parti</td>\n",
       "      <td>hereto</td>\n",
       "      <td>clay</td>\n",
       "      <td>bank</td>\n",
       "      <td>plc</td>\n",
       "      <td>administr</td>\n",
       "      <td>agent</td>\n",
       "      <td>swinglin</td>\n",
       "      <td>lender</td>\n",
       "      <td>issuer</td>\n",
       "    </tr>\n",
       "    <tr>\n",
       "      <th>1</th>\n",
       "      <td>agreement</td>\n",
       "      <td>date</td>\n",
       "      <td>decemb</td>\n",
       "      <td>made</td>\n",
       "      <td>parti</td>\n",
       "      <td>xyz</td>\n",
       "      <td>gold</td>\n",
       "      <td>mine</td>\n",
       "      <td>compani</td>\n",
       "      <td>limit</td>\n",
       "      <td>...</td>\n",
       "      <td>schedul</td>\n",
       "      <td>mandat</td>\n",
       "      <td>lead</td>\n",
       "      <td>arrang</td>\n",
       "      <td>lender</td>\n",
       "      <td>nedbank</td>\n",
       "      <td>limit</td>\n",
       "      <td>agent</td>\n",
       "      <td>financ</td>\n",
       "      <td>parti</td>\n",
       "    </tr>\n",
       "    <tr>\n",
       "      <th>2</th>\n",
       "      <td>term</td>\n",
       "      <td>loan</td>\n",
       "      <td>agreement</td>\n",
       "      <td>date</td>\n",
       "      <td>april</td>\n",
       "      <td>among</td>\n",
       "      <td>pepo</td>\n",
       "      <td>hold</td>\n",
       "      <td>borrow</td>\n",
       "      <td>lender</td>\n",
       "      <td>...</td>\n",
       "      <td>None</td>\n",
       "      <td>None</td>\n",
       "      <td>None</td>\n",
       "      <td>None</td>\n",
       "      <td>None</td>\n",
       "      <td>None</td>\n",
       "      <td>None</td>\n",
       "      <td>None</td>\n",
       "      <td>None</td>\n",
       "      <td>None</td>\n",
       "    </tr>\n",
       "    <tr>\n",
       "      <th>3</th>\n",
       "      <td>credit</td>\n",
       "      <td>agreement</td>\n",
       "      <td>enter</td>\n",
       "      <td>decemb</td>\n",
       "      <td>among</td>\n",
       "      <td>td</td>\n",
       "      <td>technolog</td>\n",
       "      <td>incorpor</td>\n",
       "      <td>delawar</td>\n",
       "      <td>corpor</td>\n",
       "      <td>...</td>\n",
       "      <td>None</td>\n",
       "      <td>None</td>\n",
       "      <td>None</td>\n",
       "      <td>None</td>\n",
       "      <td>None</td>\n",
       "      <td>None</td>\n",
       "      <td>None</td>\n",
       "      <td>None</td>\n",
       "      <td>None</td>\n",
       "      <td>None</td>\n",
       "    </tr>\n",
       "    <tr>\n",
       "      <th>4</th>\n",
       "      <td>default</td>\n",
       "      <td>lender</td>\n",
       "      <td>right</td>\n",
       "      <td>approv</td>\n",
       "      <td>disapprov</td>\n",
       "      <td>amend</td>\n",
       "      <td>waiver</td>\n",
       "      <td>consent</td>\n",
       "      <td>respect</td>\n",
       "      <td>agreement</td>\n",
       "      <td>...</td>\n",
       "      <td>None</td>\n",
       "      <td>None</td>\n",
       "      <td>None</td>\n",
       "      <td>None</td>\n",
       "      <td>None</td>\n",
       "      <td>None</td>\n",
       "      <td>None</td>\n",
       "      <td>None</td>\n",
       "      <td>None</td>\n",
       "      <td>None</td>\n",
       "    </tr>\n",
       "  </tbody>\n",
       "</table>\n",
       "<p>5 rows × 38 columns</p>\n",
       "</div>"
      ],
      "text/plain": [
       "          0          1          2       3          4      5          6   \\\n",
       "0     credit  agreement      enter  novemb      among   dkin     financ   \n",
       "1  agreement       date     decemb    made      parti    xyz       gold   \n",
       "2       term       loan  agreement    date      april  among       pepo   \n",
       "3     credit  agreement      enter  decemb      among     td  technolog   \n",
       "4    default     lender      right  approv  disapprov  amend     waiver   \n",
       "\n",
       "         7        8          9   ...       28      29    30      31      32  \\\n",
       "0   delawar   corpor     borrow  ...    parti  hereto  clay    bank     plc   \n",
       "1      mine  compani      limit  ...  schedul  mandat  lead  arrang  lender   \n",
       "2      hold   borrow     lender  ...     None    None  None    None    None   \n",
       "3  incorpor  delawar     corpor  ...     None    None  None    None    None   \n",
       "4   consent  respect  agreement  ...     None    None  None    None    None   \n",
       "\n",
       "          33     34        35      36      37  \n",
       "0  administr  agent  swinglin  lender  issuer  \n",
       "1    nedbank  limit     agent  financ   parti  \n",
       "2       None   None      None    None    None  \n",
       "3       None   None      None    None    None  \n",
       "4       None   None      None    None    None  \n",
       "\n",
       "[5 rows x 38 columns]"
      ]
     },
     "execution_count": 168,
     "metadata": {},
     "output_type": "execute_result"
    }
   ],
   "source": [
    "# providing a separate index to each word in a sparse matrix\n",
    "word_list_dataframe = pd.DataFrame.from_records(data_after_cleaning.tolist())\n",
    "word_list_dataframe.head()\n"
   ]
  },
  {
   "cell_type": "code",
   "execution_count": 169,
   "id": "b0690c77",
   "metadata": {},
   "outputs": [
    {
     "data": {
      "text/plain": [
       "Index(['lender', 'shall', 'agreement', 'agent', 'law', 'borrow', 'administr',\n",
       "       'govern', 'respect', 'loan',\n",
       "       ...\n",
       "       'damag', 'contract', 'commit', 'amend', 'materi', 'coordin', 'approv',\n",
       "       'consolid', 'disput', 'constru'],\n",
       "      dtype='object', name='VOCAB_WORD', length=210)"
      ]
     },
     "execution_count": 169,
     "metadata": {},
     "output_type": "execute_result"
    }
   ],
   "source": [
    "## making the vocabulary words as the new word index\n",
    "word_index = pd.Index(vocab.VOCAB_WORD)\n",
    "word_index\n"
   ]
  },
  {
   "cell_type": "code",
   "execution_count": 170,
   "id": "1e8773f1",
   "metadata": {},
   "outputs": [],
   "source": [
    "def make_sparse_matrix(df, indexed_words, labels):\n",
    "    nr_rows = df.shape[0]\n",
    "    nr_cols = df.shape[1]\n",
    "    word_set = set(indexed_words)\n",
    "    dict_list = []\n",
    "    \n",
    "    for i in range(nr_rows):\n",
    "        for j in range(nr_cols):\n",
    "            \n",
    "            word = df.iat[i, j]\n",
    "            if word in word_set:\n",
    "                doc_id = df.index[i]\n",
    "                word_id = indexed_words.get_loc(word)\n",
    "                category = labels.at[doc_id]\n",
    "                \n",
    "                item = {'CATEGORY': category, 'DOC_ID': doc_id,\n",
    "                       'OCCURENCE': 1, 'WORD_ID': word_id}\n",
    "                \n",
    "                dict_list.append(item)\n",
    "    \n",
    "    return pd.DataFrame(dict_list)"
   ]
  },
  {
   "cell_type": "code",
   "execution_count": 171,
   "id": "dd1fed17",
   "metadata": {},
   "outputs": [
    {
     "data": {
      "text/html": [
       "<div>\n",
       "<style scoped>\n",
       "    .dataframe tbody tr th:only-of-type {\n",
       "        vertical-align: middle;\n",
       "    }\n",
       "\n",
       "    .dataframe tbody tr th {\n",
       "        vertical-align: top;\n",
       "    }\n",
       "\n",
       "    .dataframe thead th {\n",
       "        text-align: right;\n",
       "    }\n",
       "</style>\n",
       "<table border=\"1\" class=\"dataframe\">\n",
       "  <thead>\n",
       "    <tr style=\"text-align: right;\">\n",
       "      <th></th>\n",
       "      <th>CATEGORY</th>\n",
       "      <th>DOC_ID</th>\n",
       "      <th>OCCURENCE</th>\n",
       "      <th>WORD_ID</th>\n",
       "    </tr>\n",
       "  </thead>\n",
       "  <tbody>\n",
       "    <tr>\n",
       "      <th>0</th>\n",
       "      <td>0</td>\n",
       "      <td>0</td>\n",
       "      <td>1</td>\n",
       "      <td>27</td>\n",
       "    </tr>\n",
       "    <tr>\n",
       "      <th>1</th>\n",
       "      <td>0</td>\n",
       "      <td>0</td>\n",
       "      <td>1</td>\n",
       "      <td>2</td>\n",
       "    </tr>\n",
       "    <tr>\n",
       "      <th>2</th>\n",
       "      <td>0</td>\n",
       "      <td>0</td>\n",
       "      <td>1</td>\n",
       "      <td>63</td>\n",
       "    </tr>\n",
       "    <tr>\n",
       "      <th>3</th>\n",
       "      <td>0</td>\n",
       "      <td>0</td>\n",
       "      <td>1</td>\n",
       "      <td>94</td>\n",
       "    </tr>\n",
       "    <tr>\n",
       "      <th>4</th>\n",
       "      <td>0</td>\n",
       "      <td>0</td>\n",
       "      <td>1</td>\n",
       "      <td>40</td>\n",
       "    </tr>\n",
       "    <tr>\n",
       "      <th>...</th>\n",
       "      <td>...</td>\n",
       "      <td>...</td>\n",
       "      <td>...</td>\n",
       "      <td>...</td>\n",
       "    </tr>\n",
       "    <tr>\n",
       "      <th>427</th>\n",
       "      <td>4</td>\n",
       "      <td>20</td>\n",
       "      <td>1</td>\n",
       "      <td>186</td>\n",
       "    </tr>\n",
       "    <tr>\n",
       "      <th>428</th>\n",
       "      <td>4</td>\n",
       "      <td>20</td>\n",
       "      <td>1</td>\n",
       "      <td>71</td>\n",
       "    </tr>\n",
       "    <tr>\n",
       "      <th>429</th>\n",
       "      <td>4</td>\n",
       "      <td>20</td>\n",
       "      <td>1</td>\n",
       "      <td>88</td>\n",
       "    </tr>\n",
       "    <tr>\n",
       "      <th>430</th>\n",
       "      <td>4</td>\n",
       "      <td>20</td>\n",
       "      <td>1</td>\n",
       "      <td>8</td>\n",
       "    </tr>\n",
       "    <tr>\n",
       "      <th>431</th>\n",
       "      <td>4</td>\n",
       "      <td>20</td>\n",
       "      <td>1</td>\n",
       "      <td>35</td>\n",
       "    </tr>\n",
       "  </tbody>\n",
       "</table>\n",
       "<p>432 rows × 4 columns</p>\n",
       "</div>"
      ],
      "text/plain": [
       "     CATEGORY  DOC_ID  OCCURENCE  WORD_ID\n",
       "0           0       0          1       27\n",
       "1           0       0          1        2\n",
       "2           0       0          1       63\n",
       "3           0       0          1       94\n",
       "4           0       0          1       40\n",
       "..        ...     ...        ...      ...\n",
       "427         4      20          1      186\n",
       "428         4      20          1       71\n",
       "429         4      20          1       88\n",
       "430         4      20          1        8\n",
       "431         4      20          1       35\n",
       "\n",
       "[432 rows x 4 columns]"
      ]
     },
     "execution_count": 171,
     "metadata": {},
     "output_type": "execute_result"
    }
   ],
   "source": [
    "training_sparse_matrix = make_sparse_matrix(word_list_dataframe, word_index, data.CATEGORY)\n",
    "training_sparse_matrix"
   ]
  },
  {
   "cell_type": "markdown",
   "id": "a300b014",
   "metadata": {},
   "source": [
    "## Combining Occurance of the Same words in same statement"
   ]
  },
  {
   "cell_type": "code",
   "execution_count": 172,
   "id": "a238e13f",
   "metadata": {},
   "outputs": [
    {
     "data": {
      "text/html": [
       "<div>\n",
       "<style scoped>\n",
       "    .dataframe tbody tr th:only-of-type {\n",
       "        vertical-align: middle;\n",
       "    }\n",
       "\n",
       "    .dataframe tbody tr th {\n",
       "        vertical-align: top;\n",
       "    }\n",
       "\n",
       "    .dataframe thead th {\n",
       "        text-align: right;\n",
       "    }\n",
       "</style>\n",
       "<table border=\"1\" class=\"dataframe\">\n",
       "  <thead>\n",
       "    <tr style=\"text-align: right;\">\n",
       "      <th></th>\n",
       "      <th>DOC_ID</th>\n",
       "      <th>WORD_ID</th>\n",
       "      <th>CATEGORY</th>\n",
       "      <th>OCCURENCE</th>\n",
       "    </tr>\n",
       "  </thead>\n",
       "  <tbody>\n",
       "    <tr>\n",
       "      <th>0</th>\n",
       "      <td>0</td>\n",
       "      <td>0</td>\n",
       "      <td>0</td>\n",
       "      <td>2</td>\n",
       "    </tr>\n",
       "    <tr>\n",
       "      <th>1</th>\n",
       "      <td>0</td>\n",
       "      <td>2</td>\n",
       "      <td>0</td>\n",
       "      <td>2</td>\n",
       "    </tr>\n",
       "    <tr>\n",
       "      <th>2</th>\n",
       "      <td>0</td>\n",
       "      <td>3</td>\n",
       "      <td>0</td>\n",
       "      <td>1</td>\n",
       "    </tr>\n",
       "    <tr>\n",
       "      <th>3</th>\n",
       "      <td>0</td>\n",
       "      <td>5</td>\n",
       "      <td>0</td>\n",
       "      <td>1</td>\n",
       "    </tr>\n",
       "    <tr>\n",
       "      <th>4</th>\n",
       "      <td>0</td>\n",
       "      <td>6</td>\n",
       "      <td>0</td>\n",
       "      <td>1</td>\n",
       "    </tr>\n",
       "    <tr>\n",
       "      <th>...</th>\n",
       "      <td>...</td>\n",
       "      <td>...</td>\n",
       "      <td>...</td>\n",
       "      <td>...</td>\n",
       "    </tr>\n",
       "    <tr>\n",
       "      <th>354</th>\n",
       "      <td>20</td>\n",
       "      <td>88</td>\n",
       "      <td>4</td>\n",
       "      <td>1</td>\n",
       "    </tr>\n",
       "    <tr>\n",
       "      <th>355</th>\n",
       "      <td>20</td>\n",
       "      <td>166</td>\n",
       "      <td>4</td>\n",
       "      <td>1</td>\n",
       "    </tr>\n",
       "    <tr>\n",
       "      <th>356</th>\n",
       "      <td>20</td>\n",
       "      <td>167</td>\n",
       "      <td>4</td>\n",
       "      <td>1</td>\n",
       "    </tr>\n",
       "    <tr>\n",
       "      <th>357</th>\n",
       "      <td>20</td>\n",
       "      <td>186</td>\n",
       "      <td>4</td>\n",
       "      <td>1</td>\n",
       "    </tr>\n",
       "    <tr>\n",
       "      <th>358</th>\n",
       "      <td>20</td>\n",
       "      <td>204</td>\n",
       "      <td>4</td>\n",
       "      <td>1</td>\n",
       "    </tr>\n",
       "  </tbody>\n",
       "</table>\n",
       "<p>359 rows × 4 columns</p>\n",
       "</div>"
      ],
      "text/plain": [
       "     DOC_ID  WORD_ID  CATEGORY  OCCURENCE\n",
       "0         0        0         0          2\n",
       "1         0        2         0          2\n",
       "2         0        3         0          1\n",
       "3         0        5         0          1\n",
       "4         0        6         0          1\n",
       "..      ...      ...       ...        ...\n",
       "354      20       88         4          1\n",
       "355      20      166         4          1\n",
       "356      20      167         4          1\n",
       "357      20      186         4          1\n",
       "358      20      204         4          1\n",
       "\n",
       "[359 rows x 4 columns]"
      ]
     },
     "execution_count": 172,
     "metadata": {},
     "output_type": "execute_result"
    }
   ],
   "source": [
    "training_sparse_matrix = training_sparse_matrix.groupby(['DOC_ID', 'WORD_ID', 'CATEGORY']).sum()\n",
    "training_sparse_matrix = training_sparse_matrix.reset_index()\n",
    "training_sparse_matrix"
   ]
  },
  {
   "cell_type": "markdown",
   "id": "00aec807",
   "metadata": {},
   "source": [
    "## Saving Training Sparse Matrix in the Form of CSV AND Text File"
   ]
  },
  {
   "cell_type": "code",
   "execution_count": 173,
   "id": "2cc355f0",
   "metadata": {},
   "outputs": [],
   "source": [
    "training_sparse_matrix.to_csv(TRAINING_SPARSE_MATRIX_PATH)\n",
    "np.savetxt(TRAINING_SPARSE_MATRIX_TXT_PATH,training_sparse_matrix)"
   ]
  },
  {
   "cell_type": "markdown",
   "id": "f377291a",
   "metadata": {},
   "source": [
    "## Testing Data Preprocessing"
   ]
  },
  {
   "cell_type": "code",
   "execution_count": 174,
   "id": "d4d665f3",
   "metadata": {},
   "outputs": [
    {
     "data": {
      "text/html": [
       "<div>\n",
       "<style scoped>\n",
       "    .dataframe tbody tr th:only-of-type {\n",
       "        vertical-align: middle;\n",
       "    }\n",
       "\n",
       "    .dataframe tbody tr th {\n",
       "        vertical-align: top;\n",
       "    }\n",
       "\n",
       "    .dataframe thead th {\n",
       "        text-align: right;\n",
       "    }\n",
       "</style>\n",
       "<table border=\"1\" class=\"dataframe\">\n",
       "  <thead>\n",
       "    <tr style=\"text-align: right;\">\n",
       "      <th></th>\n",
       "      <th>STATEMENT</th>\n",
       "    </tr>\n",
       "  </thead>\n",
       "  <tbody>\n",
       "    <tr>\n",
       "      <th>0</th>\n",
       "      <td>Amendment No. 1 dated as of February 4, 2016 (...</td>\n",
       "    </tr>\n",
       "    <tr>\n",
       "      <th>1</th>\n",
       "      <td>Subject to the Legal Reservations, (a) the cho...</td>\n",
       "    </tr>\n",
       "    <tr>\n",
       "      <th>2</th>\n",
       "      <td>This Agreement, and any non-contractual obliga...</td>\n",
       "    </tr>\n",
       "    <tr>\n",
       "      <th>3</th>\n",
       "      <td>Each Lender agrees to indemnify the Administra...</td>\n",
       "    </tr>\n",
       "    <tr>\n",
       "      <th>4</th>\n",
       "      <td>Any Lender that (a) has failed to (i) fund all...</td>\n",
       "    </tr>\n",
       "    <tr>\n",
       "      <th>5</th>\n",
       "      <td>This Assignment and Assumption shall be govern...</td>\n",
       "    </tr>\n",
       "    <tr>\n",
       "      <th>6</th>\n",
       "      <td>As soon as practicable after any payment of In...</td>\n",
       "    </tr>\n",
       "    <tr>\n",
       "      <th>7</th>\n",
       "      <td>Non-Defaulting Lender means, at any time, each...</td>\n",
       "    </tr>\n",
       "    <tr>\n",
       "      <th>8</th>\n",
       "      <td>Fundco Facility Agreement means the facility a...</td>\n",
       "    </tr>\n",
       "    <tr>\n",
       "      <th>9</th>\n",
       "      <td>Notwithstanding any provision of this Agreemen...</td>\n",
       "    </tr>\n",
       "  </tbody>\n",
       "</table>\n",
       "</div>"
      ],
      "text/plain": [
       "                                           STATEMENT\n",
       "0  Amendment No. 1 dated as of February 4, 2016 (...\n",
       "1  Subject to the Legal Reservations, (a) the cho...\n",
       "2  This Agreement, and any non-contractual obliga...\n",
       "3  Each Lender agrees to indemnify the Administra...\n",
       "4  Any Lender that (a) has failed to (i) fund all...\n",
       "5  This Assignment and Assumption shall be govern...\n",
       "6  As soon as practicable after any payment of In...\n",
       "7  Non-Defaulting Lender means, at any time, each...\n",
       "8  Fundco Facility Agreement means the facility a...\n",
       "9  Notwithstanding any provision of this Agreemen..."
      ]
     },
     "execution_count": 174,
     "metadata": {},
     "output_type": "execute_result"
    }
   ],
   "source": [
    "testing_data = pd.read_csv(TESTING_DATA_PATH)\n",
    "testing_data"
   ]
  },
  {
   "cell_type": "code",
   "execution_count": 175,
   "id": "b8090bf5",
   "metadata": {},
   "outputs": [
    {
     "data": {
      "text/plain": [
       "0    [amend, date, februari, amend, amend, restat, ...\n",
       "1    [subject, legal, reserv, choic, law, specifi, ...\n",
       "2    [agreement, oblig, aris, connect, shall, gover...\n",
       "3    [lender, agre, indemnifi, administr, agent, ho...\n",
       "4    [lender, fail, fund, portion, loan, within, tw...\n",
       "5    [assign, assumpt, shall, govern, constru, acco...\n",
       "6    [soon, practic, payment, indemnifi, tax, tax, ...\n",
       "7    [lender, mean, time, lender, default, lender, ...\n",
       "8    [fundco, facil, agreement, mean, facil, agreem...\n",
       "9    [notwithstand, provis, agreement, contrari, le...\n",
       "Name: STATEMENT, dtype: object"
      ]
     },
     "execution_count": 175,
     "metadata": {},
     "output_type": "execute_result"
    }
   ],
   "source": [
    "testing_data_after_cleaning = testing_data.STATEMENT.apply(nlp)  \n",
    "testing_data_after_cleaning"
   ]
  },
  {
   "cell_type": "code",
   "execution_count": 176,
   "id": "adc2961c",
   "metadata": {},
   "outputs": [
    {
     "data": {
      "text/plain": [
       "lender       13\n",
       "agent        10\n",
       "agreement     9\n",
       "administr     8\n",
       "law           7\n",
       "             ..\n",
       "fee           1\n",
       "assumpt       1\n",
       "disburs       1\n",
       "januari       1\n",
       "ag            1\n",
       "Length: 136, dtype: int64"
      ]
     },
     "execution_count": 176,
     "metadata": {},
     "output_type": "execute_result"
    }
   ],
   "source": [
    "total_testing__words_list = [item for sublist in testing_data_after_cleaning  for item in sublist]\n",
    "total_testing_words_count = pd.Series(total_testing__words_list).value_counts()\n",
    "total_testing_words_count"
   ]
  },
  {
   "cell_type": "code",
   "execution_count": 177,
   "id": "3266ace3",
   "metadata": {},
   "outputs": [
    {
     "data": {
      "text/html": [
       "<div>\n",
       "<style scoped>\n",
       "    .dataframe tbody tr th:only-of-type {\n",
       "        vertical-align: middle;\n",
       "    }\n",
       "\n",
       "    .dataframe tbody tr th {\n",
       "        vertical-align: top;\n",
       "    }\n",
       "\n",
       "    .dataframe thead th {\n",
       "        text-align: right;\n",
       "    }\n",
       "</style>\n",
       "<table border=\"1\" class=\"dataframe\">\n",
       "  <thead>\n",
       "    <tr style=\"text-align: right;\">\n",
       "      <th></th>\n",
       "      <th>TESTING_VOCAB_WORD</th>\n",
       "    </tr>\n",
       "    <tr>\n",
       "      <th>WORD_ID</th>\n",
       "      <th></th>\n",
       "    </tr>\n",
       "  </thead>\n",
       "  <tbody>\n",
       "    <tr>\n",
       "      <th>0</th>\n",
       "      <td>lender</td>\n",
       "    </tr>\n",
       "    <tr>\n",
       "      <th>1</th>\n",
       "      <td>agent</td>\n",
       "    </tr>\n",
       "    <tr>\n",
       "      <th>2</th>\n",
       "      <td>agreement</td>\n",
       "    </tr>\n",
       "    <tr>\n",
       "      <th>3</th>\n",
       "      <td>administr</td>\n",
       "    </tr>\n",
       "    <tr>\n",
       "      <th>4</th>\n",
       "      <td>law</td>\n",
       "    </tr>\n",
       "    <tr>\n",
       "      <th>...</th>\n",
       "      <td>...</td>\n",
       "    </tr>\n",
       "    <tr>\n",
       "      <th>131</th>\n",
       "      <td>fee</td>\n",
       "    </tr>\n",
       "    <tr>\n",
       "      <th>132</th>\n",
       "      <td>assumpt</td>\n",
       "    </tr>\n",
       "    <tr>\n",
       "      <th>133</th>\n",
       "      <td>disburs</td>\n",
       "    </tr>\n",
       "    <tr>\n",
       "      <th>134</th>\n",
       "      <td>januari</td>\n",
       "    </tr>\n",
       "    <tr>\n",
       "      <th>135</th>\n",
       "      <td>ag</td>\n",
       "    </tr>\n",
       "  </tbody>\n",
       "</table>\n",
       "<p>136 rows × 1 columns</p>\n",
       "</div>"
      ],
      "text/plain": [
       "        TESTING_VOCAB_WORD\n",
       "WORD_ID                   \n",
       "0                   lender\n",
       "1                    agent\n",
       "2                agreement\n",
       "3                administr\n",
       "4                      law\n",
       "...                    ...\n",
       "131                    fee\n",
       "132                assumpt\n",
       "133                disburs\n",
       "134                januari\n",
       "135                     ag\n",
       "\n",
       "[136 rows x 1 columns]"
      ]
     },
     "execution_count": 177,
     "metadata": {},
     "output_type": "execute_result"
    }
   ],
   "source": [
    "testing_word_ids = list(range(0, len(total_testing_words_count)))\n",
    "testing_vocab = pd.DataFrame({'TESTING_VOCAB_WORD': total_testing_words_count.index.values}, index=testing_word_ids)\n",
    "testing_vocab.index.name = 'WORD_ID'\n",
    "testing_vocab"
   ]
  },
  {
   "cell_type": "code",
   "execution_count": 178,
   "id": "bf2f8118",
   "metadata": {},
   "outputs": [],
   "source": [
    "testing_vocab.to_csv(TESTING_WORD_ID_FILE_PATH, index_label=testing_vocab.index.name, header=testing_vocab.TESTING_VOCAB_WORD.name)"
   ]
  },
  {
   "cell_type": "code",
   "execution_count": 179,
   "id": "8f456f82",
   "metadata": {},
   "outputs": [
    {
     "data": {
      "text/html": [
       "<div>\n",
       "<style scoped>\n",
       "    .dataframe tbody tr th:only-of-type {\n",
       "        vertical-align: middle;\n",
       "    }\n",
       "\n",
       "    .dataframe tbody tr th {\n",
       "        vertical-align: top;\n",
       "    }\n",
       "\n",
       "    .dataframe thead th {\n",
       "        text-align: right;\n",
       "    }\n",
       "</style>\n",
       "<table border=\"1\" class=\"dataframe\">\n",
       "  <thead>\n",
       "    <tr style=\"text-align: right;\">\n",
       "      <th></th>\n",
       "      <th>0</th>\n",
       "      <th>1</th>\n",
       "      <th>2</th>\n",
       "      <th>3</th>\n",
       "      <th>4</th>\n",
       "      <th>5</th>\n",
       "      <th>6</th>\n",
       "      <th>7</th>\n",
       "      <th>8</th>\n",
       "      <th>9</th>\n",
       "      <th>...</th>\n",
       "      <th>31</th>\n",
       "      <th>32</th>\n",
       "      <th>33</th>\n",
       "      <th>34</th>\n",
       "      <th>35</th>\n",
       "      <th>36</th>\n",
       "      <th>37</th>\n",
       "      <th>38</th>\n",
       "      <th>39</th>\n",
       "      <th>40</th>\n",
       "    </tr>\n",
       "  </thead>\n",
       "  <tbody>\n",
       "    <tr>\n",
       "      <th>0</th>\n",
       "      <td>amend</td>\n",
       "      <td>date</td>\n",
       "      <td>februari</td>\n",
       "      <td>amend</td>\n",
       "      <td>amend</td>\n",
       "      <td>restat</td>\n",
       "      <td>agreement</td>\n",
       "      <td>date</td>\n",
       "      <td>januari</td>\n",
       "      <td>exist</td>\n",
       "      <td>...</td>\n",
       "      <td>agent</td>\n",
       "      <td>lender</td>\n",
       "      <td>capac</td>\n",
       "      <td>administr</td>\n",
       "      <td>agent</td>\n",
       "      <td>collater</td>\n",
       "      <td>agent</td>\n",
       "      <td>collater</td>\n",
       "      <td>agent</td>\n",
       "      <td>lender</td>\n",
       "    </tr>\n",
       "    <tr>\n",
       "      <th>1</th>\n",
       "      <td>subject</td>\n",
       "      <td>legal</td>\n",
       "      <td>reserv</td>\n",
       "      <td>choic</td>\n",
       "      <td>law</td>\n",
       "      <td>specifi</td>\n",
       "      <td>eachfin</td>\n",
       "      <td>document</td>\n",
       "      <td>govern</td>\n",
       "      <td>law</td>\n",
       "      <td>...</td>\n",
       "      <td>relev</td>\n",
       "      <td>jurisdict</td>\n",
       "      <td>None</td>\n",
       "      <td>None</td>\n",
       "      <td>None</td>\n",
       "      <td>None</td>\n",
       "      <td>None</td>\n",
       "      <td>None</td>\n",
       "      <td>None</td>\n",
       "      <td>None</td>\n",
       "    </tr>\n",
       "    <tr>\n",
       "      <th>2</th>\n",
       "      <td>agreement</td>\n",
       "      <td>oblig</td>\n",
       "      <td>aris</td>\n",
       "      <td>connect</td>\n",
       "      <td>shall</td>\n",
       "      <td>govern</td>\n",
       "      <td>constru</td>\n",
       "      <td>accord</td>\n",
       "      <td>english</td>\n",
       "      <td>law</td>\n",
       "      <td>...</td>\n",
       "      <td>None</td>\n",
       "      <td>None</td>\n",
       "      <td>None</td>\n",
       "      <td>None</td>\n",
       "      <td>None</td>\n",
       "      <td>None</td>\n",
       "      <td>None</td>\n",
       "      <td>None</td>\n",
       "      <td>None</td>\n",
       "      <td>None</td>\n",
       "    </tr>\n",
       "    <tr>\n",
       "      <th>3</th>\n",
       "      <td>lender</td>\n",
       "      <td>agre</td>\n",
       "      <td>indemnifi</td>\n",
       "      <td>administr</td>\n",
       "      <td>agent</td>\n",
       "      <td>hold</td>\n",
       "      <td>harmless</td>\n",
       "      <td>rateabl</td>\n",
       "      <td>accord</td>\n",
       "      <td>applic</td>\n",
       "      <td>...</td>\n",
       "      <td>document</td>\n",
       "      <td>transact</td>\n",
       "      <td>therein</td>\n",
       "      <td>contempl</td>\n",
       "      <td>None</td>\n",
       "      <td>None</td>\n",
       "      <td>None</td>\n",
       "      <td>None</td>\n",
       "      <td>None</td>\n",
       "      <td>None</td>\n",
       "    </tr>\n",
       "    <tr>\n",
       "      <th>4</th>\n",
       "      <td>lender</td>\n",
       "      <td>fail</td>\n",
       "      <td>fund</td>\n",
       "      <td>portion</td>\n",
       "      <td>loan</td>\n",
       "      <td>within</td>\n",
       "      <td>two</td>\n",
       "      <td>busi</td>\n",
       "      <td>day</td>\n",
       "      <td>date</td>\n",
       "      <td>...</td>\n",
       "      <td>written</td>\n",
       "      <td>request</td>\n",
       "      <td>administr</td>\n",
       "      <td>agent</td>\n",
       "      <td>compani</td>\n",
       "      <td>None</td>\n",
       "      <td>None</td>\n",
       "      <td>None</td>\n",
       "      <td>None</td>\n",
       "      <td>None</td>\n",
       "    </tr>\n",
       "  </tbody>\n",
       "</table>\n",
       "<p>5 rows × 41 columns</p>\n",
       "</div>"
      ],
      "text/plain": [
       "          0      1          2          3      4        5          6   \\\n",
       "0      amend   date   februari      amend  amend   restat  agreement   \n",
       "1    subject  legal     reserv      choic    law  specifi    eachfin   \n",
       "2  agreement  oblig       aris    connect  shall   govern    constru   \n",
       "3     lender   agre  indemnifi  administr  agent     hold   harmless   \n",
       "4     lender   fail       fund    portion   loan   within        two   \n",
       "\n",
       "         7        8       9   ...        31         32         33         34  \\\n",
       "0      date  januari   exist  ...     agent     lender      capac  administr   \n",
       "1  document   govern     law  ...     relev  jurisdict       None       None   \n",
       "2    accord  english     law  ...      None       None       None       None   \n",
       "3   rateabl   accord  applic  ...  document   transact    therein   contempl   \n",
       "4      busi      day    date  ...   written    request  administr      agent   \n",
       "\n",
       "        35        36     37        38     39      40  \n",
       "0    agent  collater  agent  collater  agent  lender  \n",
       "1     None      None   None      None   None    None  \n",
       "2     None      None   None      None   None    None  \n",
       "3     None      None   None      None   None    None  \n",
       "4  compani      None   None      None   None    None  \n",
       "\n",
       "[5 rows x 41 columns]"
      ]
     },
     "execution_count": 179,
     "metadata": {},
     "output_type": "execute_result"
    }
   ],
   "source": [
    "testing_word_list_dataframe = pd.DataFrame.from_records(testing_data_after_cleaning.tolist())\n",
    "testing_word_list_dataframe.head()"
   ]
  },
  {
   "cell_type": "code",
   "execution_count": 180,
   "id": "a62a1e79",
   "metadata": {},
   "outputs": [],
   "source": [
    "def make_testing_sparse_matrix(df, indexed_words):\n",
    "    nr_rows = df.shape[0]\n",
    "    nr_cols = df.shape[1]\n",
    "    word_set = set(indexed_words)\n",
    "    dict_list = []\n",
    "    \n",
    "    for i in range(nr_rows):\n",
    "        for j in range(nr_cols):\n",
    "            \n",
    "            word = df.iat[i, j]\n",
    "            if word in word_set:\n",
    "                doc_id = df.index[i]\n",
    "                word_id = indexed_words.get_loc(word)\n",
    "                \n",
    "                \n",
    "                item = {'DOC_ID': doc_id,\n",
    "                       'OCCURENCE': 1, 'WORD_ID': word_id}\n",
    "                \n",
    "                dict_list.append(item)\n",
    "    \n",
    "    return pd.DataFrame(dict_list)"
   ]
  },
  {
   "cell_type": "code",
   "execution_count": 181,
   "id": "1548f8de",
   "metadata": {},
   "outputs": [
    {
     "data": {
      "text/html": [
       "<div>\n",
       "<style scoped>\n",
       "    .dataframe tbody tr th:only-of-type {\n",
       "        vertical-align: middle;\n",
       "    }\n",
       "\n",
       "    .dataframe tbody tr th {\n",
       "        vertical-align: top;\n",
       "    }\n",
       "\n",
       "    .dataframe thead th {\n",
       "        text-align: right;\n",
       "    }\n",
       "</style>\n",
       "<table border=\"1\" class=\"dataframe\">\n",
       "  <thead>\n",
       "    <tr style=\"text-align: right;\">\n",
       "      <th></th>\n",
       "      <th>DOC_ID</th>\n",
       "      <th>OCCURENCE</th>\n",
       "      <th>WORD_ID</th>\n",
       "    </tr>\n",
       "  </thead>\n",
       "  <tbody>\n",
       "    <tr>\n",
       "      <th>0</th>\n",
       "      <td>0</td>\n",
       "      <td>1</td>\n",
       "      <td>203</td>\n",
       "    </tr>\n",
       "    <tr>\n",
       "      <th>1</th>\n",
       "      <td>0</td>\n",
       "      <td>1</td>\n",
       "      <td>22</td>\n",
       "    </tr>\n",
       "    <tr>\n",
       "      <th>2</th>\n",
       "      <td>0</td>\n",
       "      <td>1</td>\n",
       "      <td>203</td>\n",
       "    </tr>\n",
       "    <tr>\n",
       "      <th>3</th>\n",
       "      <td>0</td>\n",
       "      <td>1</td>\n",
       "      <td>203</td>\n",
       "    </tr>\n",
       "    <tr>\n",
       "      <th>4</th>\n",
       "      <td>0</td>\n",
       "      <td>1</td>\n",
       "      <td>2</td>\n",
       "    </tr>\n",
       "    <tr>\n",
       "      <th>...</th>\n",
       "      <td>...</td>\n",
       "      <td>...</td>\n",
       "      <td>...</td>\n",
       "    </tr>\n",
       "    <tr>\n",
       "      <th>161</th>\n",
       "      <td>9</td>\n",
       "      <td>1</td>\n",
       "      <td>140</td>\n",
       "    </tr>\n",
       "    <tr>\n",
       "      <th>162</th>\n",
       "      <td>9</td>\n",
       "      <td>1</td>\n",
       "      <td>1</td>\n",
       "    </tr>\n",
       "    <tr>\n",
       "      <th>163</th>\n",
       "      <td>9</td>\n",
       "      <td>1</td>\n",
       "      <td>0</td>\n",
       "    </tr>\n",
       "    <tr>\n",
       "      <th>164</th>\n",
       "      <td>9</td>\n",
       "      <td>1</td>\n",
       "      <td>11</td>\n",
       "    </tr>\n",
       "    <tr>\n",
       "      <th>165</th>\n",
       "      <td>9</td>\n",
       "      <td>1</td>\n",
       "      <td>0</td>\n",
       "    </tr>\n",
       "  </tbody>\n",
       "</table>\n",
       "<p>166 rows × 3 columns</p>\n",
       "</div>"
      ],
      "text/plain": [
       "     DOC_ID  OCCURENCE  WORD_ID\n",
       "0         0          1      203\n",
       "1         0          1       22\n",
       "2         0          1      203\n",
       "3         0          1      203\n",
       "4         0          1        2\n",
       "..      ...        ...      ...\n",
       "161       9          1      140\n",
       "162       9          1        1\n",
       "163       9          1        0\n",
       "164       9          1       11\n",
       "165       9          1        0\n",
       "\n",
       "[166 rows x 3 columns]"
      ]
     },
     "execution_count": 181,
     "metadata": {},
     "output_type": "execute_result"
    }
   ],
   "source": [
    "testing_sparse_matrix = make_testing_sparse_matrix(testing_word_list_dataframe, word_index)\n",
    "testing_sparse_matrix\n",
    "# ---- passing the vocabulary of the training data and adjusting the values according to it"
   ]
  },
  {
   "cell_type": "code",
   "execution_count": 182,
   "id": "c33fbcb4",
   "metadata": {},
   "outputs": [
    {
     "data": {
      "text/html": [
       "<div>\n",
       "<style scoped>\n",
       "    .dataframe tbody tr th:only-of-type {\n",
       "        vertical-align: middle;\n",
       "    }\n",
       "\n",
       "    .dataframe tbody tr th {\n",
       "        vertical-align: top;\n",
       "    }\n",
       "\n",
       "    .dataframe thead th {\n",
       "        text-align: right;\n",
       "    }\n",
       "</style>\n",
       "<table border=\"1\" class=\"dataframe\">\n",
       "  <thead>\n",
       "    <tr style=\"text-align: right;\">\n",
       "      <th></th>\n",
       "      <th>DOC_ID</th>\n",
       "      <th>WORD_ID</th>\n",
       "      <th>OCCURENCE</th>\n",
       "    </tr>\n",
       "  </thead>\n",
       "  <tbody>\n",
       "    <tr>\n",
       "      <th>0</th>\n",
       "      <td>0</td>\n",
       "      <td>0</td>\n",
       "      <td>3</td>\n",
       "    </tr>\n",
       "    <tr>\n",
       "      <th>1</th>\n",
       "      <td>0</td>\n",
       "      <td>2</td>\n",
       "      <td>2</td>\n",
       "    </tr>\n",
       "    <tr>\n",
       "      <th>2</th>\n",
       "      <td>0</td>\n",
       "      <td>3</td>\n",
       "      <td>4</td>\n",
       "    </tr>\n",
       "    <tr>\n",
       "      <th>3</th>\n",
       "      <td>0</td>\n",
       "      <td>4</td>\n",
       "      <td>1</td>\n",
       "    </tr>\n",
       "    <tr>\n",
       "      <th>4</th>\n",
       "      <td>0</td>\n",
       "      <td>5</td>\n",
       "      <td>1</td>\n",
       "    </tr>\n",
       "    <tr>\n",
       "      <th>...</th>\n",
       "      <td>...</td>\n",
       "      <td>...</td>\n",
       "      <td>...</td>\n",
       "    </tr>\n",
       "    <tr>\n",
       "      <th>109</th>\n",
       "      <td>9</td>\n",
       "      <td>34</td>\n",
       "      <td>1</td>\n",
       "    </tr>\n",
       "    <tr>\n",
       "      <th>110</th>\n",
       "      <td>9</td>\n",
       "      <td>39</td>\n",
       "      <td>1</td>\n",
       "    </tr>\n",
       "    <tr>\n",
       "      <th>111</th>\n",
       "      <td>9</td>\n",
       "      <td>110</td>\n",
       "      <td>1</td>\n",
       "    </tr>\n",
       "    <tr>\n",
       "      <th>112</th>\n",
       "      <td>9</td>\n",
       "      <td>140</td>\n",
       "      <td>1</td>\n",
       "    </tr>\n",
       "    <tr>\n",
       "      <th>113</th>\n",
       "      <td>9</td>\n",
       "      <td>191</td>\n",
       "      <td>1</td>\n",
       "    </tr>\n",
       "  </tbody>\n",
       "</table>\n",
       "<p>114 rows × 3 columns</p>\n",
       "</div>"
      ],
      "text/plain": [
       "     DOC_ID  WORD_ID  OCCURENCE\n",
       "0         0        0          3\n",
       "1         0        2          2\n",
       "2         0        3          4\n",
       "3         0        4          1\n",
       "4         0        5          1\n",
       "..      ...      ...        ...\n",
       "109       9       34          1\n",
       "110       9       39          1\n",
       "111       9      110          1\n",
       "112       9      140          1\n",
       "113       9      191          1\n",
       "\n",
       "[114 rows x 3 columns]"
      ]
     },
     "execution_count": 182,
     "metadata": {},
     "output_type": "execute_result"
    }
   ],
   "source": [
    "testing_sparse_matrix = testing_sparse_matrix.groupby(['DOC_ID', 'WORD_ID']).sum()\n",
    "testing_sparse_matrix = testing_sparse_matrix.reset_index()\n",
    "testing_sparse_matrix"
   ]
  },
  {
   "cell_type": "markdown",
   "id": "02f91dcf",
   "metadata": {},
   "source": [
    "## Saving Testing Sparse Matrix as a CSV and Text File "
   ]
  },
  {
   "cell_type": "code",
   "execution_count": 183,
   "id": "1b6f5d92",
   "metadata": {},
   "outputs": [],
   "source": [
    "testing_sparse_matrix.to_csv(TESTING_SPARSE_MATRIX_PATH)\n",
    "np.savetxt(TESTING_SPARSE_MATRIX_TXT_PATH,testing_sparse_matrix)"
   ]
  },
  {
   "cell_type": "markdown",
   "id": "88da74a7",
   "metadata": {},
   "source": [
    "## Validation Data Preprocessing"
   ]
  },
  {
   "cell_type": "code",
   "execution_count": 184,
   "id": "01a0c89b",
   "metadata": {},
   "outputs": [
    {
     "data": {
      "text/html": [
       "<div>\n",
       "<style scoped>\n",
       "    .dataframe tbody tr th:only-of-type {\n",
       "        vertical-align: middle;\n",
       "    }\n",
       "\n",
       "    .dataframe tbody tr th {\n",
       "        vertical-align: top;\n",
       "    }\n",
       "\n",
       "    .dataframe thead th {\n",
       "        text-align: right;\n",
       "    }\n",
       "</style>\n",
       "<table border=\"1\" class=\"dataframe\">\n",
       "  <thead>\n",
       "    <tr style=\"text-align: right;\">\n",
       "      <th></th>\n",
       "      <th>STATEMENT</th>\n",
       "    </tr>\n",
       "  </thead>\n",
       "  <tbody>\n",
       "    <tr>\n",
       "      <th>0</th>\n",
       "      <td>This CREDIT AGREEMENT is made and entered into...</td>\n",
       "    </tr>\n",
       "    <tr>\n",
       "      <th>1</th>\n",
       "      <td>Defaulting Lender’s right to approve or disapp...</td>\n",
       "    </tr>\n",
       "    <tr>\n",
       "      <th>2</th>\n",
       "      <td>The Loan Parties shall indemnify the Administr...</td>\n",
       "    </tr>\n",
       "    <tr>\n",
       "      <th>3</th>\n",
       "      <td>This agreement and other loan documents shall ...</td>\n",
       "    </tr>\n",
       "    <tr>\n",
       "      <th>4</th>\n",
       "      <td>The Borrower and certain lenders and agents ar...</td>\n",
       "    </tr>\n",
       "  </tbody>\n",
       "</table>\n",
       "</div>"
      ],
      "text/plain": [
       "                                           STATEMENT\n",
       "0  This CREDIT AGREEMENT is made and entered into...\n",
       "1  Defaulting Lender’s right to approve or disapp...\n",
       "2  The Loan Parties shall indemnify the Administr...\n",
       "3  This agreement and other loan documents shall ...\n",
       "4  The Borrower and certain lenders and agents ar..."
      ]
     },
     "execution_count": 184,
     "metadata": {},
     "output_type": "execute_result"
    }
   ],
   "source": [
    "validation_data = pd.read_csv(VALIDATION_DATA_PATH)\n",
    "validation_data"
   ]
  },
  {
   "cell_type": "code",
   "execution_count": 185,
   "id": "b8fbb1ea",
   "metadata": {},
   "outputs": [
    {
     "data": {
      "text/html": [
       "<div>\n",
       "<style scoped>\n",
       "    .dataframe tbody tr th:only-of-type {\n",
       "        vertical-align: middle;\n",
       "    }\n",
       "\n",
       "    .dataframe tbody tr th {\n",
       "        vertical-align: top;\n",
       "    }\n",
       "\n",
       "    .dataframe thead th {\n",
       "        text-align: right;\n",
       "    }\n",
       "</style>\n",
       "<table border=\"1\" class=\"dataframe\">\n",
       "  <thead>\n",
       "    <tr style=\"text-align: right;\">\n",
       "      <th></th>\n",
       "      <th>CLASS</th>\n",
       "    </tr>\n",
       "  </thead>\n",
       "  <tbody>\n",
       "    <tr>\n",
       "      <th>0</th>\n",
       "      <td>Preamble</td>\n",
       "    </tr>\n",
       "    <tr>\n",
       "      <th>1</th>\n",
       "      <td>Lender Defaulting</td>\n",
       "    </tr>\n",
       "    <tr>\n",
       "      <th>2</th>\n",
       "      <td>Indemnification</td>\n",
       "    </tr>\n",
       "    <tr>\n",
       "      <th>3</th>\n",
       "      <td>Governing Law</td>\n",
       "    </tr>\n",
       "    <tr>\n",
       "      <th>4</th>\n",
       "      <td>Other</td>\n",
       "    </tr>\n",
       "  </tbody>\n",
       "</table>\n",
       "</div>"
      ],
      "text/plain": [
       "               CLASS\n",
       "0           Preamble\n",
       "1  Lender Defaulting\n",
       "2    Indemnification\n",
       "3      Governing Law\n",
       "4              Other"
      ]
     },
     "execution_count": 185,
     "metadata": {},
     "output_type": "execute_result"
    }
   ],
   "source": [
    "validation_data_class = pd.read_csv(VALIDATION_CLASS_PATH)\n",
    "validation_data_class"
   ]
  },
  {
   "cell_type": "markdown",
   "id": "2f672c30",
   "metadata": {},
   "source": [
    "## Replacing class by Classification ID in the dataframe"
   ]
  },
  {
   "cell_type": "code",
   "execution_count": 186,
   "id": "15c3b552",
   "metadata": {},
   "outputs": [
    {
     "data": {
      "text/html": [
       "<div>\n",
       "<style scoped>\n",
       "    .dataframe tbody tr th:only-of-type {\n",
       "        vertical-align: middle;\n",
       "    }\n",
       "\n",
       "    .dataframe tbody tr th {\n",
       "        vertical-align: top;\n",
       "    }\n",
       "\n",
       "    .dataframe thead th {\n",
       "        text-align: right;\n",
       "    }\n",
       "</style>\n",
       "<table border=\"1\" class=\"dataframe\">\n",
       "  <thead>\n",
       "    <tr style=\"text-align: right;\">\n",
       "      <th></th>\n",
       "      <th>CLASS</th>\n",
       "    </tr>\n",
       "  </thead>\n",
       "  <tbody>\n",
       "    <tr>\n",
       "      <th>0</th>\n",
       "      <td>0</td>\n",
       "    </tr>\n",
       "    <tr>\n",
       "      <th>1</th>\n",
       "      <td>1</td>\n",
       "    </tr>\n",
       "    <tr>\n",
       "      <th>2</th>\n",
       "      <td>3</td>\n",
       "    </tr>\n",
       "    <tr>\n",
       "      <th>3</th>\n",
       "      <td>2</td>\n",
       "    </tr>\n",
       "    <tr>\n",
       "      <th>4</th>\n",
       "      <td>4</td>\n",
       "    </tr>\n",
       "  </tbody>\n",
       "</table>\n",
       "</div>"
      ],
      "text/plain": [
       "  CLASS\n",
       "0     0\n",
       "1     1\n",
       "2     3\n",
       "3     2\n",
       "4     4"
      ]
     },
     "execution_count": 186,
     "metadata": {},
     "output_type": "execute_result"
    }
   ],
   "source": [
    "validation_data_class[\"CLASS\"].where(validation_data_class[\"CLASS\"] != \"Preamble\",Preamble_classification_id , inplace=True)\n",
    "validation_data_class[\"CLASS\"].where(validation_data_class[\"CLASS\"] != \"Lender Defaulting\",Lender_defaulting_classification_id , inplace=True)\n",
    "validation_data_class[\"CLASS\"].where(validation_data_class[\"CLASS\"] != \"Indemnification\", Indemnification_classification_id , inplace=True)\n",
    "validation_data_class[\"CLASS\"].where(validation_data_class[\"CLASS\"] != \"Governing Law\", Governing_law_classification_id , inplace=True)\n",
    "validation_data_class[\"CLASS\"].where(validation_data_class[\"CLASS\"] != \"Other\", Other_classification_id , inplace=True)\n",
    "validation_data_class"
   ]
  },
  {
   "cell_type": "code",
   "execution_count": 187,
   "id": "6d3c5fe6",
   "metadata": {},
   "outputs": [
    {
     "data": {
      "text/plain": [
       "0    [credit, agreement, made, enter, march, among,...\n",
       "1    [default, lender, right, approv, disapprov, am...\n",
       "2    [loan, parti, shall, indemnifi, administr, age...\n",
       "3    [agreement, loan, document, shall, govern, adh...\n",
       "4    [borrow, certain, lender, agent, parti, credit...\n",
       "Name: STATEMENT, dtype: object"
      ]
     },
     "execution_count": 187,
     "metadata": {},
     "output_type": "execute_result"
    }
   ],
   "source": [
    "validation_data_after_cleaning = validation_data.STATEMENT.apply(nlp)  \n",
    "validation_data_after_cleaning"
   ]
  },
  {
   "cell_type": "code",
   "execution_count": 188,
   "id": "2e6ddd15",
   "metadata": {},
   "outputs": [
    {
     "data": {
      "text/html": [
       "<div>\n",
       "<style scoped>\n",
       "    .dataframe tbody tr th:only-of-type {\n",
       "        vertical-align: middle;\n",
       "    }\n",
       "\n",
       "    .dataframe tbody tr th {\n",
       "        vertical-align: top;\n",
       "    }\n",
       "\n",
       "    .dataframe thead th {\n",
       "        text-align: right;\n",
       "    }\n",
       "</style>\n",
       "<table border=\"1\" class=\"dataframe\">\n",
       "  <thead>\n",
       "    <tr style=\"text-align: right;\">\n",
       "      <th></th>\n",
       "      <th>CATEGORY</th>\n",
       "    </tr>\n",
       "  </thead>\n",
       "  <tbody>\n",
       "    <tr>\n",
       "      <th>0</th>\n",
       "      <td>0</td>\n",
       "    </tr>\n",
       "    <tr>\n",
       "      <th>1</th>\n",
       "      <td>1</td>\n",
       "    </tr>\n",
       "    <tr>\n",
       "      <th>2</th>\n",
       "      <td>3</td>\n",
       "    </tr>\n",
       "    <tr>\n",
       "      <th>3</th>\n",
       "      <td>2</td>\n",
       "    </tr>\n",
       "    <tr>\n",
       "      <th>4</th>\n",
       "      <td>4</td>\n",
       "    </tr>\n",
       "  </tbody>\n",
       "</table>\n",
       "</div>"
      ],
      "text/plain": [
       "  CATEGORY\n",
       "0        0\n",
       "1        1\n",
       "2        3\n",
       "3        2\n",
       "4        4"
      ]
     },
     "execution_count": 188,
     "metadata": {},
     "output_type": "execute_result"
    }
   ],
   "source": [
    "validation_data_class.rename(columns = {'CLASS':'CATEGORY'}, inplace = True)\n",
    "validation_data_class"
   ]
  },
  {
   "cell_type": "code",
   "execution_count": 189,
   "id": "6b584aa2",
   "metadata": {},
   "outputs": [
    {
     "data": {
      "text/html": [
       "<div>\n",
       "<style scoped>\n",
       "    .dataframe tbody tr th:only-of-type {\n",
       "        vertical-align: middle;\n",
       "    }\n",
       "\n",
       "    .dataframe tbody tr th {\n",
       "        vertical-align: top;\n",
       "    }\n",
       "\n",
       "    .dataframe thead th {\n",
       "        text-align: right;\n",
       "    }\n",
       "</style>\n",
       "<table border=\"1\" class=\"dataframe\">\n",
       "  <thead>\n",
       "    <tr style=\"text-align: right;\">\n",
       "      <th></th>\n",
       "      <th>0</th>\n",
       "      <th>1</th>\n",
       "      <th>2</th>\n",
       "      <th>3</th>\n",
       "      <th>4</th>\n",
       "      <th>5</th>\n",
       "      <th>6</th>\n",
       "      <th>7</th>\n",
       "      <th>8</th>\n",
       "      <th>9</th>\n",
       "      <th>...</th>\n",
       "      <th>15</th>\n",
       "      <th>16</th>\n",
       "      <th>17</th>\n",
       "      <th>18</th>\n",
       "      <th>19</th>\n",
       "      <th>20</th>\n",
       "      <th>21</th>\n",
       "      <th>22</th>\n",
       "      <th>23</th>\n",
       "      <th>24</th>\n",
       "    </tr>\n",
       "  </thead>\n",
       "  <tbody>\n",
       "    <tr>\n",
       "      <th>0</th>\n",
       "      <td>credit</td>\n",
       "      <td>agreement</td>\n",
       "      <td>made</td>\n",
       "      <td>enter</td>\n",
       "      <td>march</td>\n",
       "      <td>among</td>\n",
       "      <td>xyz</td>\n",
       "      <td>corp</td>\n",
       "      <td>wisconsin</td>\n",
       "      <td>corpor</td>\n",
       "      <td>...</td>\n",
       "      <td>collater</td>\n",
       "      <td>agent</td>\n",
       "      <td>bsb</td>\n",
       "      <td>bank</td>\n",
       "      <td>plc</td>\n",
       "      <td>capac</td>\n",
       "      <td>administr</td>\n",
       "      <td>agent</td>\n",
       "      <td>behalf</td>\n",
       "      <td>lender</td>\n",
       "    </tr>\n",
       "    <tr>\n",
       "      <th>1</th>\n",
       "      <td>default</td>\n",
       "      <td>lender</td>\n",
       "      <td>right</td>\n",
       "      <td>approv</td>\n",
       "      <td>disapprov</td>\n",
       "      <td>amend</td>\n",
       "      <td>waiver</td>\n",
       "      <td>consent</td>\n",
       "      <td>respect</td>\n",
       "      <td>agreement</td>\n",
       "      <td>...</td>\n",
       "      <td>requir</td>\n",
       "      <td>lender</td>\n",
       "      <td>None</td>\n",
       "      <td>None</td>\n",
       "      <td>None</td>\n",
       "      <td>None</td>\n",
       "      <td>None</td>\n",
       "      <td>None</td>\n",
       "      <td>None</td>\n",
       "      <td>None</td>\n",
       "    </tr>\n",
       "    <tr>\n",
       "      <th>2</th>\n",
       "      <td>loan</td>\n",
       "      <td>parti</td>\n",
       "      <td>shall</td>\n",
       "      <td>indemnifi</td>\n",
       "      <td>administr</td>\n",
       "      <td>agent</td>\n",
       "      <td>hold</td>\n",
       "      <td>indemnite</td>\n",
       "      <td>harmless</td>\n",
       "      <td>loss</td>\n",
       "      <td>...</td>\n",
       "      <td>None</td>\n",
       "      <td>None</td>\n",
       "      <td>None</td>\n",
       "      <td>None</td>\n",
       "      <td>None</td>\n",
       "      <td>None</td>\n",
       "      <td>None</td>\n",
       "      <td>None</td>\n",
       "      <td>None</td>\n",
       "      <td>None</td>\n",
       "    </tr>\n",
       "    <tr>\n",
       "      <th>3</th>\n",
       "      <td>agreement</td>\n",
       "      <td>loan</td>\n",
       "      <td>document</td>\n",
       "      <td>shall</td>\n",
       "      <td>govern</td>\n",
       "      <td>adher</td>\n",
       "      <td>law</td>\n",
       "      <td>unit</td>\n",
       "      <td>kingdom</td>\n",
       "      <td>None</td>\n",
       "      <td>...</td>\n",
       "      <td>None</td>\n",
       "      <td>None</td>\n",
       "      <td>None</td>\n",
       "      <td>None</td>\n",
       "      <td>None</td>\n",
       "      <td>None</td>\n",
       "      <td>None</td>\n",
       "      <td>None</td>\n",
       "      <td>None</td>\n",
       "      <td>None</td>\n",
       "    </tr>\n",
       "    <tr>\n",
       "      <th>4</th>\n",
       "      <td>borrow</td>\n",
       "      <td>certain</td>\n",
       "      <td>lender</td>\n",
       "      <td>agent</td>\n",
       "      <td>parti</td>\n",
       "      <td>credit</td>\n",
       "      <td>agreement</td>\n",
       "      <td>date</td>\n",
       "      <td>may</td>\n",
       "      <td>amend</td>\n",
       "      <td>...</td>\n",
       "      <td>modifi</td>\n",
       "      <td>prior</td>\n",
       "      <td>effect</td>\n",
       "      <td>date</td>\n",
       "      <td>credit</td>\n",
       "      <td>None</td>\n",
       "      <td>None</td>\n",
       "      <td>None</td>\n",
       "      <td>None</td>\n",
       "      <td>None</td>\n",
       "    </tr>\n",
       "  </tbody>\n",
       "</table>\n",
       "<p>5 rows × 25 columns</p>\n",
       "</div>"
      ],
      "text/plain": [
       "          0          1         2          3          4       5          6   \\\n",
       "0     credit  agreement      made      enter      march   among        xyz   \n",
       "1    default     lender     right     approv  disapprov   amend     waiver   \n",
       "2       loan      parti     shall  indemnifi  administr   agent       hold   \n",
       "3  agreement       loan  document      shall     govern   adher        law   \n",
       "4     borrow    certain    lender      agent      parti  credit  agreement   \n",
       "\n",
       "          7          8          9   ...        15      16      17    18  \\\n",
       "0       corp  wisconsin     corpor  ...  collater   agent     bsb  bank   \n",
       "1    consent    respect  agreement  ...    requir  lender    None  None   \n",
       "2  indemnite   harmless       loss  ...      None    None    None  None   \n",
       "3       unit    kingdom       None  ...      None    None    None  None   \n",
       "4       date        may      amend  ...    modifi   prior  effect  date   \n",
       "\n",
       "       19     20         21     22      23      24  \n",
       "0     plc  capac  administr  agent  behalf  lender  \n",
       "1    None   None       None   None    None    None  \n",
       "2    None   None       None   None    None    None  \n",
       "3    None   None       None   None    None    None  \n",
       "4  credit   None       None   None    None    None  \n",
       "\n",
       "[5 rows x 25 columns]"
      ]
     },
     "execution_count": 189,
     "metadata": {},
     "output_type": "execute_result"
    }
   ],
   "source": [
    "validation_word_list_dataframe = pd.DataFrame.from_records(validation_data_after_cleaning.tolist())\n",
    "validation_word_list_dataframe.head()"
   ]
  },
  {
   "cell_type": "code",
   "execution_count": 190,
   "id": "0f50e5cb",
   "metadata": {},
   "outputs": [
    {
     "data": {
      "text/html": [
       "<div>\n",
       "<style scoped>\n",
       "    .dataframe tbody tr th:only-of-type {\n",
       "        vertical-align: middle;\n",
       "    }\n",
       "\n",
       "    .dataframe tbody tr th {\n",
       "        vertical-align: top;\n",
       "    }\n",
       "\n",
       "    .dataframe thead th {\n",
       "        text-align: right;\n",
       "    }\n",
       "</style>\n",
       "<table border=\"1\" class=\"dataframe\">\n",
       "  <thead>\n",
       "    <tr style=\"text-align: right;\">\n",
       "      <th></th>\n",
       "      <th>DOC_ID</th>\n",
       "      <th>WORD_ID</th>\n",
       "      <th>OCCURENCE</th>\n",
       "    </tr>\n",
       "  </thead>\n",
       "  <tbody>\n",
       "    <tr>\n",
       "      <th>0</th>\n",
       "      <td>0</td>\n",
       "      <td>0</td>\n",
       "      <td>1</td>\n",
       "    </tr>\n",
       "    <tr>\n",
       "      <th>1</th>\n",
       "      <td>0</td>\n",
       "      <td>2</td>\n",
       "      <td>1</td>\n",
       "    </tr>\n",
       "    <tr>\n",
       "      <th>2</th>\n",
       "      <td>0</td>\n",
       "      <td>3</td>\n",
       "      <td>2</td>\n",
       "    </tr>\n",
       "    <tr>\n",
       "      <th>3</th>\n",
       "      <td>0</td>\n",
       "      <td>5</td>\n",
       "      <td>1</td>\n",
       "    </tr>\n",
       "    <tr>\n",
       "      <th>4</th>\n",
       "      <td>0</td>\n",
       "      <td>6</td>\n",
       "      <td>1</td>\n",
       "    </tr>\n",
       "    <tr>\n",
       "      <th>...</th>\n",
       "      <td>...</td>\n",
       "      <td>...</td>\n",
       "      <td>...</td>\n",
       "    </tr>\n",
       "    <tr>\n",
       "      <th>57</th>\n",
       "      <td>4</td>\n",
       "      <td>22</td>\n",
       "      <td>2</td>\n",
       "    </tr>\n",
       "    <tr>\n",
       "      <th>58</th>\n",
       "      <td>4</td>\n",
       "      <td>27</td>\n",
       "      <td>2</td>\n",
       "    </tr>\n",
       "    <tr>\n",
       "      <th>59</th>\n",
       "      <td>4</td>\n",
       "      <td>74</td>\n",
       "      <td>1</td>\n",
       "    </tr>\n",
       "    <tr>\n",
       "      <th>60</th>\n",
       "      <td>4</td>\n",
       "      <td>183</td>\n",
       "      <td>1</td>\n",
       "    </tr>\n",
       "    <tr>\n",
       "      <th>61</th>\n",
       "      <td>4</td>\n",
       "      <td>203</td>\n",
       "      <td>2</td>\n",
       "    </tr>\n",
       "  </tbody>\n",
       "</table>\n",
       "<p>62 rows × 3 columns</p>\n",
       "</div>"
      ],
      "text/plain": [
       "    DOC_ID  WORD_ID  OCCURENCE\n",
       "0        0        0          1\n",
       "1        0        2          1\n",
       "2        0        3          2\n",
       "3        0        5          1\n",
       "4        0        6          1\n",
       "..     ...      ...        ...\n",
       "57       4       22          2\n",
       "58       4       27          2\n",
       "59       4       74          1\n",
       "60       4      183          1\n",
       "61       4      203          2\n",
       "\n",
       "[62 rows x 3 columns]"
      ]
     },
     "execution_count": 190,
     "metadata": {},
     "output_type": "execute_result"
    }
   ],
   "source": [
    "validation_sparse_matrix = make_testing_sparse_matrix(validation_word_list_dataframe, word_index)\n",
    "validation_sparse_matrix = validation_sparse_matrix.groupby(['DOC_ID', 'WORD_ID']).sum()\n",
    "validation_sparse_matrix = validation_sparse_matrix.reset_index()\n",
    "validation_sparse_matrix"
   ]
  },
  {
   "cell_type": "markdown",
   "id": "6071526f",
   "metadata": {},
   "source": [
    "## Saving Validation Sparse Matrix as a CSV and Text File"
   ]
  },
  {
   "cell_type": "code",
   "execution_count": 191,
   "id": "8d47153e",
   "metadata": {},
   "outputs": [],
   "source": [
    "validation_sparse_matrix.to_csv(VALIDATION_SPARSE_MATRIX_PATH)\n",
    "np.savetxt(VALIDATION_SPARSE_MATRIX_TXT_PATH,validation_sparse_matrix)\n",
    "np.savetxt(VALIDATION_CLASS_SPARSE_MATRIX_TXT_PATH ,validation_data_class)"
   ]
  }
 ],
 "metadata": {
  "kernelspec": {
   "display_name": "Python 3",
   "language": "python",
   "name": "python3"
  },
  "language_info": {
   "codemirror_mode": {
    "name": "ipython",
    "version": 3
   },
   "file_extension": ".py",
   "mimetype": "text/x-python",
   "name": "python",
   "nbconvert_exporter": "python",
   "pygments_lexer": "ipython3",
   "version": "3.8.8"
  }
 },
 "nbformat": 4,
 "nbformat_minor": 5
}
