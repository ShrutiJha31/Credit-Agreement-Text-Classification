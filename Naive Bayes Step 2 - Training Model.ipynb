{
 "cells": [
  {
   "cell_type": "markdown",
   "id": "b63ac8a9",
   "metadata": {},
   "source": [
    "# Training The Model"
   ]
  },
  {
   "cell_type": "markdown",
   "id": "f180daec",
   "metadata": {},
   "source": [
    "### Objectives\n",
    "\n",
    "#### 1. Read and Convert Training Data Features from .csv file to NumPy Array\n",
    "#### 2. Create a Full Matrix to Represent the Data from Sparse Matrix\n",
    "#### 3. Training the Naive Bayes Model\n",
    "#### 4. Calculating the Probablity of Each Word Belonging to a Particular Class\n",
    "#### 5. Saving the Trained Model\n",
    "#### 6. Prepare the Test Data\n",
    "#### 7. Prepare the Validation Data"
   ]
  },
  {
   "cell_type": "markdown",
   "id": "09ebbcd0",
   "metadata": {},
   "source": [
    "## Notebook Imports"
   ]
  },
  {
   "cell_type": "code",
   "execution_count": 45,
   "id": "515deb8f",
   "metadata": {},
   "outputs": [],
   "source": [
    "import pandas as pd\n",
    "import numpy as np"
   ]
  },
  {
   "cell_type": "markdown",
   "id": "5bdd98b4",
   "metadata": {},
   "source": [
    "## File Paths"
   ]
  },
  {
   "cell_type": "code",
   "execution_count": 46,
   "id": "1764476b",
   "metadata": {},
   "outputs": [],
   "source": [
    "#------- Files Added in Previous Step\n",
    "\n",
    "TRAINING_SPARSE_MATRIX_TXT_PATH = 'Training_Data/training_sparse_matrix.txt'\n",
    "TESTING_SPARSE_MATRIX_TXT_PATH = 'Testing_Data/testing_sparse_matrix.txt'\n",
    "TESTING_WORD_ID_FILE_PATH = 'Training_Data/testing_vocab_ids.csv'\n",
    "VALIDATION_SPARSE_MATRIX_TXT_PATH = 'Validation_Data/Validation_Data_Sparse_Matrix.txt'\n",
    "VALIDATION_CLASS_SPARSE_MATRIX_TXT_PATH = 'Validation_Data/Validation_Class_Sparse_Matrix.txt'\n",
    "WORD_ID_FILE_PATH = 'Training_Data/vocab_ids.csv'\n",
    "\n",
    "\n",
    "#------ Files Added in Current Step\n",
    "\n",
    "TESTING_DATA_FULL_MATRIX = 'Testing_Data/testing_full_matrix.txt'\n",
    "VALIDATION_DATA_FULL_MATRIX =  'Validation_Data/Validation_Data_Full_Matrix.txt'\n",
    "PREAMBLE_WORD_PROB = 'Trained_Model/preamble_word_prob.txt'\n",
    "LENDER_DEFAULTING_WORD_PROB = 'Trained_Model/lender_defaulting_word_prob.txt' \n",
    "GOVERNING_LAW_WORD_PROB = 'Trained_Model/governing_law_word_prob.txt' \n",
    "INDEMNIFICATION_WORD_PROB = 'Trained_Model/indemnification_word_prob.txt'\n",
    "OTHER_WORD_PROB = 'Trained_Model/other_word_prob.txt'\n",
    "WORD_PROB = 'Trained_Model/word_prob.txt'\n",
    "PROB_CLASS_PATH = 'Trained_Model/prob_class.txt'"
   ]
  },
  {
   "cell_type": "markdown",
   "id": "dc10452e",
   "metadata": {},
   "source": [
    "## Constants"
   ]
  },
  {
   "cell_type": "code",
   "execution_count": 47,
   "id": "742e99e6",
   "metadata": {},
   "outputs": [],
   "source": [
    "Preamble_classification_id = 0\n",
    "Lender_defaulting_classification_id = 1\n",
    "Governing_law_classification_id = 2\n",
    "Indemnification_classification_id = 3\n",
    "Other_classification_id = 4"
   ]
  },
  {
   "cell_type": "markdown",
   "id": "0d6b16eb",
   "metadata": {},
   "source": [
    "## Read and Convert Training Data Features from .csv file to NumPy Array"
   ]
  },
  {
   "cell_type": "code",
   "execution_count": 48,
   "id": "3301cce8",
   "metadata": {},
   "outputs": [
    {
     "data": {
      "text/plain": [
       "array([[  0,   0,   0,   2],\n",
       "       [  0,   2,   0,   2],\n",
       "       [  0,   3,   0,   1],\n",
       "       ...,\n",
       "       [ 20, 167,   4,   1],\n",
       "       [ 20, 186,   4,   1],\n",
       "       [ 20, 204,   4,   1]])"
      ]
     },
     "execution_count": 48,
     "metadata": {},
     "output_type": "execute_result"
    }
   ],
   "source": [
    "training_data_sparse_matrix = np.loadtxt(TRAINING_SPARSE_MATRIX_TXT_PATH, delimiter=' ',dtype= int)\n",
    "training_data_sparse_matrix"
   ]
  },
  {
   "cell_type": "code",
   "execution_count": 49,
   "id": "c76f5dd6",
   "metadata": {},
   "outputs": [
    {
     "data": {
      "text/plain": [
       "array([[ 0,  0,  3],\n",
       "       [ 0,  2,  2],\n",
       "       [ 0,  3,  4],\n",
       "       [ 0,  4,  1],\n",
       "       [ 0,  5,  1],\n",
       "       [ 0,  6,  2],\n",
       "       [ 0, 14,  1],\n",
       "       [ 0, 22,  2],\n",
       "       [ 0, 24,  1],\n",
       "       [ 0, 40,  1]])"
      ]
     },
     "execution_count": 49,
     "metadata": {},
     "output_type": "execute_result"
    }
   ],
   "source": [
    "testing_data_sparse_matrix = np.loadtxt(TESTING_SPARSE_MATRIX_TXT_PATH, delimiter=' ', dtype=int)\n",
    "testing_data_sparse_matrix[:10]     # ------ Displaying first 10 values"
   ]
  },
  {
   "cell_type": "code",
   "execution_count": 50,
   "id": "ad26d6a1",
   "metadata": {},
   "outputs": [
    {
     "data": {
      "text/plain": [
       "array([[ 0,  0,  1],\n",
       "       [ 0,  2,  1],\n",
       "       [ 0,  3,  2],\n",
       "       [ 0,  5,  1],\n",
       "       [ 0,  6,  1],\n",
       "       [ 0, 15,  2],\n",
       "       [ 0, 23,  1],\n",
       "       [ 0, 27,  1],\n",
       "       [ 0, 40,  1],\n",
       "       [ 0, 63,  1]])"
      ]
     },
     "execution_count": 50,
     "metadata": {},
     "output_type": "execute_result"
    }
   ],
   "source": [
    "validation_data_sparse_matrix = np.loadtxt(VALIDATION_SPARSE_MATRIX_TXT_PATH, delimiter=' ',dtype = int)\n",
    "validation_data_sparse_matrix[:10]"
   ]
  },
  {
   "cell_type": "code",
   "execution_count": 51,
   "id": "ee3566ee",
   "metadata": {},
   "outputs": [],
   "source": [
    "training_vocab = pd.read_csv(WORD_ID_FILE_PATH)\n",
    "testing_vocab = pd.read_csv(TESTING_WORD_ID_FILE_PATH)"
   ]
  },
  {
   "cell_type": "markdown",
   "id": "03977c6a",
   "metadata": {},
   "source": [
    "## Function to create a Full Matrix from Sparse Matrix"
   ]
  },
  {
   "cell_type": "code",
   "execution_count": 52,
   "id": "e6fa3ce0",
   "metadata": {},
   "outputs": [],
   "source": [
    "def make_training_full_matrix(sparse_matrix, nr_words, doc_idx=0, word_idx=1, cat_idx=2, freq_idx=3):\n",
    "    column_names = ['DOC_ID'] + ['CATEGORY'] + list(range(0,len(training_vocab) ))\n",
    "    doc_id_names = np.unique(sparse_matrix[:, 0])\n",
    "    full_matrix = pd.DataFrame(index=doc_id_names, columns=column_names)\n",
    "    full_matrix.fillna(value=0, inplace=True)\n",
    "    \n",
    "    for i in range(sparse_matrix.shape[0]):\n",
    "        doc_nr = sparse_matrix[i][doc_idx]\n",
    "        word_id = sparse_matrix[i][word_idx]\n",
    "        label = sparse_matrix[i][cat_idx]\n",
    "        occurrence = sparse_matrix[i][freq_idx]\n",
    "        \n",
    "        full_matrix.at[doc_nr, 'DOC_ID'] = doc_nr\n",
    "        full_matrix.at[doc_nr, 'CATEGORY'] = label\n",
    "        full_matrix.at[doc_nr, word_id] = occurrence\n",
    "    \n",
    "    full_matrix.set_index('DOC_ID', inplace=True)\n",
    "    return full_matrix\n",
    "    "
   ]
  },
  {
   "cell_type": "code",
   "execution_count": 53,
   "id": "3e8f9576",
   "metadata": {},
   "outputs": [
    {
     "data": {
      "text/html": [
       "<div>\n",
       "<style scoped>\n",
       "    .dataframe tbody tr th:only-of-type {\n",
       "        vertical-align: middle;\n",
       "    }\n",
       "\n",
       "    .dataframe tbody tr th {\n",
       "        vertical-align: top;\n",
       "    }\n",
       "\n",
       "    .dataframe thead th {\n",
       "        text-align: right;\n",
       "    }\n",
       "</style>\n",
       "<table border=\"1\" class=\"dataframe\">\n",
       "  <thead>\n",
       "    <tr style=\"text-align: right;\">\n",
       "      <th></th>\n",
       "      <th>CATEGORY</th>\n",
       "      <th>0</th>\n",
       "      <th>1</th>\n",
       "      <th>2</th>\n",
       "      <th>3</th>\n",
       "      <th>4</th>\n",
       "      <th>5</th>\n",
       "      <th>6</th>\n",
       "      <th>7</th>\n",
       "      <th>8</th>\n",
       "      <th>...</th>\n",
       "      <th>200</th>\n",
       "      <th>201</th>\n",
       "      <th>202</th>\n",
       "      <th>203</th>\n",
       "      <th>204</th>\n",
       "      <th>205</th>\n",
       "      <th>206</th>\n",
       "      <th>207</th>\n",
       "      <th>208</th>\n",
       "      <th>209</th>\n",
       "    </tr>\n",
       "    <tr>\n",
       "      <th>DOC_ID</th>\n",
       "      <th></th>\n",
       "      <th></th>\n",
       "      <th></th>\n",
       "      <th></th>\n",
       "      <th></th>\n",
       "      <th></th>\n",
       "      <th></th>\n",
       "      <th></th>\n",
       "      <th></th>\n",
       "      <th></th>\n",
       "      <th></th>\n",
       "      <th></th>\n",
       "      <th></th>\n",
       "      <th></th>\n",
       "      <th></th>\n",
       "      <th></th>\n",
       "      <th></th>\n",
       "      <th></th>\n",
       "      <th></th>\n",
       "      <th></th>\n",
       "      <th></th>\n",
       "    </tr>\n",
       "  </thead>\n",
       "  <tbody>\n",
       "    <tr>\n",
       "      <th>0</th>\n",
       "      <td>0</td>\n",
       "      <td>2</td>\n",
       "      <td>0</td>\n",
       "      <td>2</td>\n",
       "      <td>1</td>\n",
       "      <td>0</td>\n",
       "      <td>1</td>\n",
       "      <td>1</td>\n",
       "      <td>0</td>\n",
       "      <td>0</td>\n",
       "      <td>...</td>\n",
       "      <td>0</td>\n",
       "      <td>0</td>\n",
       "      <td>0</td>\n",
       "      <td>0</td>\n",
       "      <td>0</td>\n",
       "      <td>0</td>\n",
       "      <td>0</td>\n",
       "      <td>0</td>\n",
       "      <td>0</td>\n",
       "      <td>0</td>\n",
       "    </tr>\n",
       "    <tr>\n",
       "      <th>1</th>\n",
       "      <td>0</td>\n",
       "      <td>1</td>\n",
       "      <td>0</td>\n",
       "      <td>1</td>\n",
       "      <td>1</td>\n",
       "      <td>0</td>\n",
       "      <td>1</td>\n",
       "      <td>0</td>\n",
       "      <td>0</td>\n",
       "      <td>0</td>\n",
       "      <td>...</td>\n",
       "      <td>0</td>\n",
       "      <td>0</td>\n",
       "      <td>0</td>\n",
       "      <td>0</td>\n",
       "      <td>0</td>\n",
       "      <td>1</td>\n",
       "      <td>0</td>\n",
       "      <td>0</td>\n",
       "      <td>0</td>\n",
       "      <td>0</td>\n",
       "    </tr>\n",
       "    <tr>\n",
       "      <th>2</th>\n",
       "      <td>0</td>\n",
       "      <td>1</td>\n",
       "      <td>0</td>\n",
       "      <td>1</td>\n",
       "      <td>2</td>\n",
       "      <td>0</td>\n",
       "      <td>1</td>\n",
       "      <td>1</td>\n",
       "      <td>0</td>\n",
       "      <td>0</td>\n",
       "      <td>...</td>\n",
       "      <td>0</td>\n",
       "      <td>0</td>\n",
       "      <td>0</td>\n",
       "      <td>0</td>\n",
       "      <td>0</td>\n",
       "      <td>0</td>\n",
       "      <td>0</td>\n",
       "      <td>0</td>\n",
       "      <td>0</td>\n",
       "      <td>0</td>\n",
       "    </tr>\n",
       "    <tr>\n",
       "      <th>3</th>\n",
       "      <td>0</td>\n",
       "      <td>1</td>\n",
       "      <td>0</td>\n",
       "      <td>1</td>\n",
       "      <td>1</td>\n",
       "      <td>0</td>\n",
       "      <td>1</td>\n",
       "      <td>1</td>\n",
       "      <td>0</td>\n",
       "      <td>0</td>\n",
       "      <td>...</td>\n",
       "      <td>0</td>\n",
       "      <td>0</td>\n",
       "      <td>0</td>\n",
       "      <td>0</td>\n",
       "      <td>0</td>\n",
       "      <td>0</td>\n",
       "      <td>0</td>\n",
       "      <td>0</td>\n",
       "      <td>0</td>\n",
       "      <td>0</td>\n",
       "    </tr>\n",
       "    <tr>\n",
       "      <th>4</th>\n",
       "      <td>1</td>\n",
       "      <td>2</td>\n",
       "      <td>1</td>\n",
       "      <td>1</td>\n",
       "      <td>0</td>\n",
       "      <td>0</td>\n",
       "      <td>0</td>\n",
       "      <td>0</td>\n",
       "      <td>0</td>\n",
       "      <td>1</td>\n",
       "      <td>...</td>\n",
       "      <td>0</td>\n",
       "      <td>0</td>\n",
       "      <td>0</td>\n",
       "      <td>1</td>\n",
       "      <td>0</td>\n",
       "      <td>0</td>\n",
       "      <td>1</td>\n",
       "      <td>0</td>\n",
       "      <td>0</td>\n",
       "      <td>0</td>\n",
       "    </tr>\n",
       "  </tbody>\n",
       "</table>\n",
       "<p>5 rows × 211 columns</p>\n",
       "</div>"
      ],
      "text/plain": [
       "        CATEGORY  0  1  2  3  4  5  6  7  8  ...  200  201  202  203  204  \\\n",
       "DOC_ID                                       ...                            \n",
       "0              0  2  0  2  1  0  1  1  0  0  ...    0    0    0    0    0   \n",
       "1              0  1  0  1  1  0  1  0  0  0  ...    0    0    0    0    0   \n",
       "2              0  1  0  1  2  0  1  1  0  0  ...    0    0    0    0    0   \n",
       "3              0  1  0  1  1  0  1  1  0  0  ...    0    0    0    0    0   \n",
       "4              1  2  1  1  0  0  0  0  0  1  ...    0    0    0    1    0   \n",
       "\n",
       "        205  206  207  208  209  \n",
       "DOC_ID                           \n",
       "0         0    0    0    0    0  \n",
       "1         1    0    0    0    0  \n",
       "2         0    0    0    0    0  \n",
       "3         0    0    0    0    0  \n",
       "4         0    1    0    0    0  \n",
       "\n",
       "[5 rows x 211 columns]"
      ]
     },
     "execution_count": 53,
     "metadata": {},
     "output_type": "execute_result"
    }
   ],
   "source": [
    "training_data_full_matrix = make_training_full_matrix(training_data_sparse_matrix, len(training_vocab))\n",
    "training_data_full_matrix.head()                           # ------ The columns of the table represent the different words\n",
    "                                                    # ------ in that statement and their value gives their occurence "
   ]
  },
  {
   "cell_type": "code",
   "execution_count": 54,
   "id": "1ff359eb",
   "metadata": {},
   "outputs": [
    {
     "data": {
      "text/html": [
       "<div>\n",
       "<style scoped>\n",
       "    .dataframe tbody tr th:only-of-type {\n",
       "        vertical-align: middle;\n",
       "    }\n",
       "\n",
       "    .dataframe tbody tr th {\n",
       "        vertical-align: top;\n",
       "    }\n",
       "\n",
       "    .dataframe thead th {\n",
       "        text-align: right;\n",
       "    }\n",
       "</style>\n",
       "<table border=\"1\" class=\"dataframe\">\n",
       "  <thead>\n",
       "    <tr style=\"text-align: right;\">\n",
       "      <th></th>\n",
       "      <th>0</th>\n",
       "      <th>1</th>\n",
       "      <th>2</th>\n",
       "      <th>3</th>\n",
       "      <th>4</th>\n",
       "      <th>5</th>\n",
       "      <th>6</th>\n",
       "      <th>7</th>\n",
       "      <th>8</th>\n",
       "      <th>9</th>\n",
       "      <th>...</th>\n",
       "      <th>200</th>\n",
       "      <th>201</th>\n",
       "      <th>202</th>\n",
       "      <th>203</th>\n",
       "      <th>204</th>\n",
       "      <th>205</th>\n",
       "      <th>206</th>\n",
       "      <th>207</th>\n",
       "      <th>208</th>\n",
       "      <th>209</th>\n",
       "    </tr>\n",
       "    <tr>\n",
       "      <th>DOC_ID</th>\n",
       "      <th></th>\n",
       "      <th></th>\n",
       "      <th></th>\n",
       "      <th></th>\n",
       "      <th></th>\n",
       "      <th></th>\n",
       "      <th></th>\n",
       "      <th></th>\n",
       "      <th></th>\n",
       "      <th></th>\n",
       "      <th></th>\n",
       "      <th></th>\n",
       "      <th></th>\n",
       "      <th></th>\n",
       "      <th></th>\n",
       "      <th></th>\n",
       "      <th></th>\n",
       "      <th></th>\n",
       "      <th></th>\n",
       "      <th></th>\n",
       "      <th></th>\n",
       "    </tr>\n",
       "  </thead>\n",
       "  <tbody>\n",
       "    <tr>\n",
       "      <th>0</th>\n",
       "      <td>2</td>\n",
       "      <td>0</td>\n",
       "      <td>2</td>\n",
       "      <td>1</td>\n",
       "      <td>0</td>\n",
       "      <td>1</td>\n",
       "      <td>1</td>\n",
       "      <td>0</td>\n",
       "      <td>0</td>\n",
       "      <td>0</td>\n",
       "      <td>...</td>\n",
       "      <td>0</td>\n",
       "      <td>0</td>\n",
       "      <td>0</td>\n",
       "      <td>0</td>\n",
       "      <td>0</td>\n",
       "      <td>0</td>\n",
       "      <td>0</td>\n",
       "      <td>0</td>\n",
       "      <td>0</td>\n",
       "      <td>0</td>\n",
       "    </tr>\n",
       "    <tr>\n",
       "      <th>1</th>\n",
       "      <td>1</td>\n",
       "      <td>0</td>\n",
       "      <td>1</td>\n",
       "      <td>1</td>\n",
       "      <td>0</td>\n",
       "      <td>1</td>\n",
       "      <td>0</td>\n",
       "      <td>0</td>\n",
       "      <td>0</td>\n",
       "      <td>0</td>\n",
       "      <td>...</td>\n",
       "      <td>0</td>\n",
       "      <td>0</td>\n",
       "      <td>0</td>\n",
       "      <td>0</td>\n",
       "      <td>0</td>\n",
       "      <td>1</td>\n",
       "      <td>0</td>\n",
       "      <td>0</td>\n",
       "      <td>0</td>\n",
       "      <td>0</td>\n",
       "    </tr>\n",
       "    <tr>\n",
       "      <th>2</th>\n",
       "      <td>1</td>\n",
       "      <td>0</td>\n",
       "      <td>1</td>\n",
       "      <td>2</td>\n",
       "      <td>0</td>\n",
       "      <td>1</td>\n",
       "      <td>1</td>\n",
       "      <td>0</td>\n",
       "      <td>0</td>\n",
       "      <td>1</td>\n",
       "      <td>...</td>\n",
       "      <td>0</td>\n",
       "      <td>0</td>\n",
       "      <td>0</td>\n",
       "      <td>0</td>\n",
       "      <td>0</td>\n",
       "      <td>0</td>\n",
       "      <td>0</td>\n",
       "      <td>0</td>\n",
       "      <td>0</td>\n",
       "      <td>0</td>\n",
       "    </tr>\n",
       "    <tr>\n",
       "      <th>3</th>\n",
       "      <td>1</td>\n",
       "      <td>0</td>\n",
       "      <td>1</td>\n",
       "      <td>1</td>\n",
       "      <td>0</td>\n",
       "      <td>1</td>\n",
       "      <td>1</td>\n",
       "      <td>0</td>\n",
       "      <td>0</td>\n",
       "      <td>0</td>\n",
       "      <td>...</td>\n",
       "      <td>0</td>\n",
       "      <td>0</td>\n",
       "      <td>0</td>\n",
       "      <td>0</td>\n",
       "      <td>0</td>\n",
       "      <td>0</td>\n",
       "      <td>0</td>\n",
       "      <td>0</td>\n",
       "      <td>0</td>\n",
       "      <td>0</td>\n",
       "    </tr>\n",
       "    <tr>\n",
       "      <th>4</th>\n",
       "      <td>2</td>\n",
       "      <td>1</td>\n",
       "      <td>1</td>\n",
       "      <td>0</td>\n",
       "      <td>0</td>\n",
       "      <td>0</td>\n",
       "      <td>0</td>\n",
       "      <td>0</td>\n",
       "      <td>1</td>\n",
       "      <td>0</td>\n",
       "      <td>...</td>\n",
       "      <td>0</td>\n",
       "      <td>0</td>\n",
       "      <td>0</td>\n",
       "      <td>1</td>\n",
       "      <td>0</td>\n",
       "      <td>0</td>\n",
       "      <td>1</td>\n",
       "      <td>0</td>\n",
       "      <td>0</td>\n",
       "      <td>0</td>\n",
       "    </tr>\n",
       "  </tbody>\n",
       "</table>\n",
       "<p>5 rows × 210 columns</p>\n",
       "</div>"
      ],
      "text/plain": [
       "        0    1    2    3    4    5    6    7    8    9    ...  200  201  202  \\\n",
       "DOC_ID                                                    ...                  \n",
       "0         2    0    2    1    0    1    1    0    0    0  ...    0    0    0   \n",
       "1         1    0    1    1    0    1    0    0    0    0  ...    0    0    0   \n",
       "2         1    0    1    2    0    1    1    0    0    1  ...    0    0    0   \n",
       "3         1    0    1    1    0    1    1    0    0    0  ...    0    0    0   \n",
       "4         2    1    1    0    0    0    0    0    1    0  ...    0    0    0   \n",
       "\n",
       "        203  204  205  206  207  208  209  \n",
       "DOC_ID                                     \n",
       "0         0    0    0    0    0    0    0  \n",
       "1         0    0    1    0    0    0    0  \n",
       "2         0    0    0    0    0    0    0  \n",
       "3         0    0    0    0    0    0    0  \n",
       "4         1    0    0    1    0    0    0  \n",
       "\n",
       "[5 rows x 210 columns]"
      ]
     },
     "execution_count": 54,
     "metadata": {},
     "output_type": "execute_result"
    }
   ],
   "source": [
    "training_data_word_occurence = training_data_full_matrix.loc[:,training_data_full_matrix.columns != 'CATEGORY']   \n",
    "training_data_word_occurence .head()               # ----- Removing Category Column from the Matrix"
   ]
  },
  {
   "cell_type": "markdown",
   "id": "0f662ebf",
   "metadata": {},
   "source": [
    "## Calculating the total Number of Words in Different Class to Use in Bayes Probability Formula"
   ]
  },
  {
   "cell_type": "code",
   "execution_count": 55,
   "id": "e529b255",
   "metadata": {},
   "outputs": [
    {
     "data": {
      "text/plain": [
       "DOC_ID\n",
       "0    38\n",
       "1    38\n",
       "2    20\n",
       "3    20\n",
       "4    17\n",
       "dtype: int64"
      ]
     },
     "execution_count": 55,
     "metadata": {},
     "output_type": "execute_result"
    }
   ],
   "source": [
    "statement_lengths = training_data_word_occurence.sum(axis=1)\n",
    "statement_lengths.head()              # ---- axis = 1 - symbolizes along the columns "
   ]
  },
  {
   "cell_type": "code",
   "execution_count": 56,
   "id": "345ff8e8",
   "metadata": {},
   "outputs": [
    {
     "name": "stdout",
     "output_type": "stream",
     "text": [
      "Total Number of Words in all the Statements = 432\n"
     ]
    }
   ],
   "source": [
    "total_no_of_words = statement_lengths.sum()\n",
    "print(f'Total Number of Words in all the Statements = {total_no_of_words}')"
   ]
  },
  {
   "cell_type": "code",
   "execution_count": 57,
   "id": "89eb1d80",
   "metadata": {},
   "outputs": [
    {
     "name": "stdout",
     "output_type": "stream",
     "text": [
      "The Total Number of Words in Preamble = 116\n",
      "The Probablity of a Statement to be a Preamble = 0.19047619047619047\n"
     ]
    },
    {
     "data": {
      "text/plain": [
       "DOC_ID\n",
       "0    38\n",
       "1    38\n",
       "2    20\n",
       "3    20\n",
       "dtype: int64"
      ]
     },
     "execution_count": 57,
     "metadata": {},
     "output_type": "execute_result"
    }
   ],
   "source": [
    "preamble_lengths =statement_lengths[training_data_full_matrix.CATEGORY == Preamble_classification_id]\n",
    "preamble_word_count = preamble_lengths.sum()\n",
    "prob_preamble = len(preamble_lengths) / len(statement_lengths)\n",
    "print(f'The Total Number of Words in Preamble = {preamble_word_count}')\n",
    "print(f'The Probablity of a Statement to be a Preamble = {prob_preamble}')\n",
    "preamble_lengths\n"
   ]
  },
  {
   "cell_type": "code",
   "execution_count": 58,
   "id": "8a209dd8",
   "metadata": {},
   "outputs": [
    {
     "name": "stdout",
     "output_type": "stream",
     "text": [
      "The Total Number of Words in Lender Defaulting = 71\n",
      "The Probablity of a Statement to be Lender Defaulting = 0.19047619047619047\n"
     ]
    },
    {
     "data": {
      "text/plain": [
       "DOC_ID\n",
       "4    17\n",
       "5    14\n",
       "6    25\n",
       "7    15\n",
       "dtype: int64"
      ]
     },
     "execution_count": 58,
     "metadata": {},
     "output_type": "execute_result"
    }
   ],
   "source": [
    "lender_defaulting_lengths = statement_lengths[training_data_full_matrix.CATEGORY == Lender_defaulting_classification_id]\n",
    "lender_defaulting_word_count = lender_defaulting_lengths.sum()\n",
    "prob_lender_defaulting = len(lender_defaulting_lengths) / len(statement_lengths)\n",
    "print(f'The Total Number of Words in Lender Defaulting = {lender_defaulting_word_count}')\n",
    "print(f'The Probablity of a Statement to be Lender Defaulting = {prob_lender_defaulting}')\n",
    "lender_defaulting_lengths"
   ]
  },
  {
   "cell_type": "code",
   "execution_count": 59,
   "id": "093a2203",
   "metadata": {},
   "outputs": [
    {
     "name": "stdout",
     "output_type": "stream",
     "text": [
      "The Probablity of a Statement to be a Governing Law = 0.19047619047619047\n",
      "The Total Number of Words in Governing Law = 88\n"
     ]
    },
    {
     "data": {
      "text/plain": [
       "DOC_ID\n",
       "8      9\n",
       "9     17\n",
       "10    25\n",
       "11    37\n",
       "dtype: int64"
      ]
     },
     "execution_count": 59,
     "metadata": {},
     "output_type": "execute_result"
    }
   ],
   "source": [
    "governing_law_lengths = statement_lengths[training_data_full_matrix.CATEGORY == Governing_law_classification_id]\n",
    "governing_law_word_count = governing_law_lengths.sum()\n",
    "prob_governing_law = len(governing_law_lengths) / len(statement_lengths)\n",
    "print(f'The Probablity of a Statement to be a Governing Law = {prob_governing_law}')\n",
    "print(f'The Total Number of Words in Governing Law = {governing_law_word_count}')\n",
    "governing_law_lengths"
   ]
  },
  {
   "cell_type": "code",
   "execution_count": 60,
   "id": "c0f05ba5",
   "metadata": {},
   "outputs": [
    {
     "name": "stdout",
     "output_type": "stream",
     "text": [
      "The Probablity of a Statement to be an Indemnification = 0.23809523809523808\n",
      "The Total Number of Words in Indemnification = 77\n"
     ]
    },
    {
     "data": {
      "text/plain": [
       "DOC_ID\n",
       "12     8\n",
       "13    20\n",
       "14    11\n",
       "15    12\n",
       "16    26\n",
       "dtype: int64"
      ]
     },
     "execution_count": 60,
     "metadata": {},
     "output_type": "execute_result"
    }
   ],
   "source": [
    "indemnification_lengths = statement_lengths[training_data_full_matrix.CATEGORY == Indemnification_classification_id ]\n",
    "indemnification_word_count = indemnification_lengths.sum()\n",
    "prob_indemnification =  len(indemnification_lengths) / len(statement_lengths)\n",
    "print(f'The Probablity of a Statement to be an Indemnification = {prob_indemnification}')\n",
    "print(f'The Total Number of Words in Indemnification = {indemnification_word_count}')\n",
    "indemnification_lengths"
   ]
  },
  {
   "cell_type": "code",
   "execution_count": 61,
   "id": "c8294c5e",
   "metadata": {},
   "outputs": [
    {
     "name": "stdout",
     "output_type": "stream",
     "text": [
      "The Probablity of a Statement to be Other = 0.19047619047619047\n",
      "The Total Number of Words in Other = 80\n"
     ]
    },
    {
     "data": {
      "text/plain": [
       "DOC_ID\n",
       "17    22\n",
       "18    20\n",
       "19    20\n",
       "20    18\n",
       "dtype: int64"
      ]
     },
     "execution_count": 61,
     "metadata": {},
     "output_type": "execute_result"
    }
   ],
   "source": [
    "other_lengths = statement_lengths[training_data_full_matrix.CATEGORY == Other_classification_id ]\n",
    "other_word_count = other_lengths.sum()\n",
    "prob_other =  len(other_lengths) / len(statement_lengths)\n",
    "print(f'The Probablity of a Statement to be Other = {prob_other}')\n",
    "print(f'The Total Number of Words in Other = {other_word_count}')\n",
    "other_lengths"
   ]
  },
  {
   "cell_type": "markdown",
   "id": "8a008a14",
   "metadata": {},
   "source": [
    "## Calculating and Storing the Probability of Each Class"
   ]
  },
  {
   "cell_type": "code",
   "execution_count": 62,
   "id": "8d3ce85d",
   "metadata": {},
   "outputs": [],
   "source": [
    "prob_list=[]\n",
    "prob_list.append(prob_preamble)\n",
    "prob_list.append(prob_lender_defaulting)\n",
    "prob_list.append(prob_governing_law)\n",
    "prob_list.append(prob_indemnification)\n",
    "prob_list.append(prob_other)\n",
    "\n",
    "np.savetxt(PROB_CLASS_PATH,prob_list)"
   ]
  },
  {
   "cell_type": "markdown",
   "id": "205825a1",
   "metadata": {},
   "source": [
    "## Calculating the Count of the Each Word in Preamble"
   ]
  },
  {
   "cell_type": "code",
   "execution_count": 63,
   "id": "20b9f35c",
   "metadata": {},
   "outputs": [
    {
     "data": {
      "text/plain": [
       "0      6\n",
       "1      1\n",
       "2      6\n",
       "3      6\n",
       "4      1\n",
       "      ..\n",
       "205    2\n",
       "206    1\n",
       "207    1\n",
       "208    1\n",
       "209    1\n",
       "Length: 210, dtype: int64"
      ]
     },
     "execution_count": 63,
     "metadata": {},
     "output_type": "execute_result"
    }
   ],
   "source": [
    "preamble_count_each_word= training_data_word_occurence.loc[training_data_full_matrix.CATEGORY==Preamble_classification_id].sum(axis=0) + 1\n",
    "preamble_count_each_word\n",
    "# ---- Output is in the format\n",
    "# ---- A - The Number of time the Word having Index A Occurs in a Preamble\n",
    "# ---- 1 is added to the count for Laplace Correction in Probability"
   ]
  },
  {
   "cell_type": "markdown",
   "id": "1e306a15",
   "metadata": {},
   "source": [
    "## P( Word | Preamble ) - Probability that a Word Occurs given the Statement is Preamble"
   ]
  },
  {
   "cell_type": "code",
   "execution_count": 64,
   "id": "848a2e9d",
   "metadata": {},
   "outputs": [
    {
     "data": {
      "text/plain": [
       "0      0.018405\n",
       "1      0.003067\n",
       "2      0.018405\n",
       "3      0.018405\n",
       "4      0.003067\n",
       "         ...   \n",
       "205    0.006135\n",
       "206    0.003067\n",
       "207    0.003067\n",
       "208    0.003067\n",
       "209    0.003067\n",
       "Length: 210, dtype: float64"
      ]
     },
     "execution_count": 64,
     "metadata": {},
     "output_type": "execute_result"
    }
   ],
   "source": [
    "prob_word_preamble = preamble_count_each_word / (preamble_word_count + len(training_vocab) ) \n",
    "prob_word_preamble    # ---- len(training_vocab) added for Laplace Correction"
   ]
  },
  {
   "cell_type": "markdown",
   "id": "afc0d521",
   "metadata": {},
   "source": [
    "## Calculating the Count of the Each Word in Lender Defaulting"
   ]
  },
  {
   "cell_type": "code",
   "execution_count": 65,
   "id": "ab001874",
   "metadata": {},
   "outputs": [
    {
     "data": {
      "text/plain": [
       "0      10\n",
       "1       4\n",
       "2       2\n",
       "3       3\n",
       "4       2\n",
       "       ..\n",
       "205     1\n",
       "206     2\n",
       "207     1\n",
       "208     1\n",
       "209     1\n",
       "Length: 210, dtype: int64"
      ]
     },
     "execution_count": 65,
     "metadata": {},
     "output_type": "execute_result"
    }
   ],
   "source": [
    "lender_defaulting_count_each_word= training_data_word_occurence.loc[training_data_full_matrix.CATEGORY==Lender_defaulting_classification_id].sum(axis=0) + 1\n",
    "lender_defaulting_count_each_word"
   ]
  },
  {
   "cell_type": "markdown",
   "id": "04142580",
   "metadata": {},
   "source": [
    "## P( Word | Lender Defaulting ) - Probability that a Word Occurs given the Statement is Lender Defaulting"
   ]
  },
  {
   "cell_type": "code",
   "execution_count": 66,
   "id": "8af398ea",
   "metadata": {},
   "outputs": [
    {
     "data": {
      "text/plain": [
       "0      0.035587\n",
       "1      0.014235\n",
       "2      0.007117\n",
       "3      0.010676\n",
       "4      0.007117\n",
       "         ...   \n",
       "205    0.003559\n",
       "206    0.007117\n",
       "207    0.003559\n",
       "208    0.003559\n",
       "209    0.003559\n",
       "Length: 210, dtype: float64"
      ]
     },
     "execution_count": 66,
     "metadata": {},
     "output_type": "execute_result"
    }
   ],
   "source": [
    "prob_word_lender_defaulting = lender_defaulting_count_each_word / (lender_defaulting_word_count + len(training_vocab) ) \n",
    "prob_word_lender_defaulting    # ---- len(training_vocab) added for Laplace Correction"
   ]
  },
  {
   "cell_type": "markdown",
   "id": "5ab8313d",
   "metadata": {},
   "source": [
    "## Calculating the Count of the Each Word in Governing Law"
   ]
  },
  {
   "cell_type": "code",
   "execution_count": 67,
   "id": "ccdaf2b0",
   "metadata": {},
   "outputs": [
    {
     "data": {
      "text/plain": [
       "0      1\n",
       "1      7\n",
       "2      8\n",
       "3      1\n",
       "4      8\n",
       "      ..\n",
       "205    1\n",
       "206    1\n",
       "207    1\n",
       "208    2\n",
       "209    2\n",
       "Length: 210, dtype: int64"
      ]
     },
     "execution_count": 67,
     "metadata": {},
     "output_type": "execute_result"
    }
   ],
   "source": [
    "governing_law_count_each_word= training_data_word_occurence.loc[training_data_full_matrix.CATEGORY==Governing_law_classification_id].sum(axis=0) + 1\n",
    "governing_law_count_each_word"
   ]
  },
  {
   "cell_type": "markdown",
   "id": "aa4655b1",
   "metadata": {},
   "source": [
    "## P( Word | Governing Law ) - Probability that a Word Occurs given the Statement is Governing Law"
   ]
  },
  {
   "cell_type": "code",
   "execution_count": 68,
   "id": "85e0976e",
   "metadata": {},
   "outputs": [
    {
     "data": {
      "text/plain": [
       "0      0.003356\n",
       "1      0.023490\n",
       "2      0.026846\n",
       "3      0.003356\n",
       "4      0.026846\n",
       "         ...   \n",
       "205    0.003356\n",
       "206    0.003356\n",
       "207    0.003356\n",
       "208    0.006711\n",
       "209    0.006711\n",
       "Length: 210, dtype: float64"
      ]
     },
     "execution_count": 68,
     "metadata": {},
     "output_type": "execute_result"
    }
   ],
   "source": [
    "prob_word_governing_law = governing_law_count_each_word / (governing_law_word_count + len(training_vocab) ) \n",
    "prob_word_governing_law   # ---- len(training_vocab) added for Laplace Correction"
   ]
  },
  {
   "cell_type": "markdown",
   "id": "e4465971",
   "metadata": {},
   "source": [
    "## Calculating the Count of the Each Word in Indemnification"
   ]
  },
  {
   "cell_type": "code",
   "execution_count": 69,
   "id": "286b93e6",
   "metadata": {},
   "outputs": [
    {
     "data": {
      "text/plain": [
       "0      3\n",
       "1      4\n",
       "2      1\n",
       "3      5\n",
       "4      1\n",
       "      ..\n",
       "205    1\n",
       "206    1\n",
       "207    1\n",
       "208    1\n",
       "209    1\n",
       "Length: 210, dtype: int64"
      ]
     },
     "execution_count": 69,
     "metadata": {},
     "output_type": "execute_result"
    }
   ],
   "source": [
    "indemnification_count_each_word= training_data_word_occurence.loc[training_data_full_matrix.CATEGORY==Indemnification_classification_id].sum(axis=0) + 1\n",
    "indemnification_count_each_word"
   ]
  },
  {
   "cell_type": "markdown",
   "id": "a6a7e7b3",
   "metadata": {},
   "source": [
    "## P( Word | Indemnification ) - Probability that a Word Occurs given the Statement is Indemnification"
   ]
  },
  {
   "cell_type": "code",
   "execution_count": 70,
   "id": "9403bab6",
   "metadata": {},
   "outputs": [
    {
     "data": {
      "text/plain": [
       "0      0.010453\n",
       "1      0.013937\n",
       "2      0.003484\n",
       "3      0.017422\n",
       "4      0.003484\n",
       "         ...   \n",
       "205    0.003484\n",
       "206    0.003484\n",
       "207    0.003484\n",
       "208    0.003484\n",
       "209    0.003484\n",
       "Length: 210, dtype: float64"
      ]
     },
     "execution_count": 70,
     "metadata": {},
     "output_type": "execute_result"
    }
   ],
   "source": [
    "prob_word_indemnification = indemnification_count_each_word / (indemnification_word_count + len(training_vocab) ) \n",
    "prob_word_indemnification  # ---- len(training_vocab) added for Laplace Correction"
   ]
  },
  {
   "cell_type": "markdown",
   "id": "4441b3e0",
   "metadata": {},
   "source": [
    "## Calculating the Count of the Each Word in Other"
   ]
  },
  {
   "cell_type": "code",
   "execution_count": 71,
   "id": "5cb9bef2",
   "metadata": {},
   "outputs": [
    {
     "data": {
      "text/plain": [
       "0      1\n",
       "1      3\n",
       "2      1\n",
       "3      2\n",
       "4      2\n",
       "      ..\n",
       "205    1\n",
       "206    1\n",
       "207    2\n",
       "208    1\n",
       "209    1\n",
       "Length: 210, dtype: int64"
      ]
     },
     "execution_count": 71,
     "metadata": {},
     "output_type": "execute_result"
    }
   ],
   "source": [
    "other_count_each_word= training_data_word_occurence.loc[training_data_full_matrix.CATEGORY==Other_classification_id].sum(axis=0) + 1\n",
    "other_count_each_word"
   ]
  },
  {
   "cell_type": "markdown",
   "id": "dbd5bda1",
   "metadata": {},
   "source": [
    "## P( Word | Other ) - Probability that a Word Occurs given the Statement is Other"
   ]
  },
  {
   "cell_type": "code",
   "execution_count": 72,
   "id": "f1270d83",
   "metadata": {},
   "outputs": [
    {
     "data": {
      "text/plain": [
       "0      0.003448\n",
       "1      0.010345\n",
       "2      0.003448\n",
       "3      0.006897\n",
       "4      0.006897\n",
       "         ...   \n",
       "205    0.003448\n",
       "206    0.003448\n",
       "207    0.006897\n",
       "208    0.003448\n",
       "209    0.003448\n",
       "Length: 210, dtype: float64"
      ]
     },
     "execution_count": 72,
     "metadata": {},
     "output_type": "execute_result"
    }
   ],
   "source": [
    "prob_word_other = other_count_each_word / (other_word_count + len(training_vocab) ) \n",
    "prob_word_other  # ---- len(training_vocab) added for Laplace Correction"
   ]
  },
  {
   "cell_type": "markdown",
   "id": "5e2164ee",
   "metadata": {},
   "source": [
    "## P(Word) - Probability that Word Occurs"
   ]
  },
  {
   "cell_type": "code",
   "execution_count": 73,
   "id": "7d7d9ade",
   "metadata": {},
   "outputs": [
    {
     "data": {
      "text/plain": [
       "0      0.037037\n",
       "1      0.032407\n",
       "2      0.030093\n",
       "3      0.027778\n",
       "4      0.020833\n",
       "         ...   \n",
       "205    0.002315\n",
       "206    0.002315\n",
       "207    0.002315\n",
       "208    0.002315\n",
       "209    0.002315\n",
       "Length: 210, dtype: float64"
      ]
     },
     "execution_count": 73,
     "metadata": {},
     "output_type": "execute_result"
    }
   ],
   "source": [
    "prob_words = training_data_word_occurence.sum(axis=0) / total_no_of_words\n",
    "prob_words"
   ]
  },
  {
   "cell_type": "markdown",
   "id": "19fad8c3",
   "metadata": {},
   "source": [
    "## Save the Trained Model"
   ]
  },
  {
   "cell_type": "code",
   "execution_count": 74,
   "id": "dc73f29e",
   "metadata": {},
   "outputs": [],
   "source": [
    "np.savetxt(PREAMBLE_WORD_PROB, prob_word_preamble)\n",
    "np.savetxt(LENDER_DEFAULTING_WORD_PROB , prob_word_lender_defaulting )\n",
    "np.savetxt(GOVERNING_LAW_WORD_PROB , prob_word_governing_law )\n",
    "np.savetxt(INDEMNIFICATION_WORD_PROB ,prob_word_indemnification )\n",
    "np.savetxt(OTHER_WORD_PROB ,prob_word_other )\n",
    "np.savetxt(WORD_PROB, prob_words)"
   ]
  },
  {
   "cell_type": "markdown",
   "id": "9d4e5247",
   "metadata": {},
   "source": [
    "## Test Data Preparation"
   ]
  },
  {
   "cell_type": "code",
   "execution_count": 75,
   "id": "df82ab71",
   "metadata": {},
   "outputs": [],
   "source": [
    "def make_testing_full_matrix(sparse_matrix, nr_words, doc_idx=0, word_idx=1, freq_idx=2):\n",
    "    column_names = ['DOC_ID']  + list(range(0,len(training_vocab) ))\n",
    "    doc_id_names = np.unique(sparse_matrix[:, 0])\n",
    "    full_matrix = pd.DataFrame(index=doc_id_names, columns=column_names)\n",
    "    full_matrix.fillna(value=0, inplace=True)\n",
    "    \n",
    "    for i in range(sparse_matrix.shape[0]):\n",
    "        doc_nr = sparse_matrix[i][doc_idx]\n",
    "        word_id = sparse_matrix[i][word_idx]\n",
    "        occurrence = sparse_matrix[i][freq_idx]\n",
    "        \n",
    "        full_matrix.at[doc_nr, 'DOC_ID'] = doc_nr\n",
    "        full_matrix.at[doc_nr, word_id] = occurrence\n",
    "    \n",
    "    full_matrix.set_index('DOC_ID', inplace=True)\n",
    "    return full_matrix\n",
    "    "
   ]
  },
  {
   "cell_type": "code",
   "execution_count": 76,
   "id": "f1d48016",
   "metadata": {},
   "outputs": [],
   "source": [
    "testing_data_full_matrix = make_testing_full_matrix(testing_data_sparse_matrix, nr_words=len(training_vocab))"
   ]
  },
  {
   "cell_type": "code",
   "execution_count": 77,
   "id": "afb51952",
   "metadata": {},
   "outputs": [
    {
     "data": {
      "text/html": [
       "<div>\n",
       "<style scoped>\n",
       "    .dataframe tbody tr th:only-of-type {\n",
       "        vertical-align: middle;\n",
       "    }\n",
       "\n",
       "    .dataframe tbody tr th {\n",
       "        vertical-align: top;\n",
       "    }\n",
       "\n",
       "    .dataframe thead th {\n",
       "        text-align: right;\n",
       "    }\n",
       "</style>\n",
       "<table border=\"1\" class=\"dataframe\">\n",
       "  <thead>\n",
       "    <tr style=\"text-align: right;\">\n",
       "      <th></th>\n",
       "      <th>0</th>\n",
       "      <th>1</th>\n",
       "      <th>2</th>\n",
       "      <th>3</th>\n",
       "      <th>4</th>\n",
       "      <th>5</th>\n",
       "      <th>6</th>\n",
       "      <th>7</th>\n",
       "      <th>8</th>\n",
       "      <th>9</th>\n",
       "      <th>...</th>\n",
       "      <th>200</th>\n",
       "      <th>201</th>\n",
       "      <th>202</th>\n",
       "      <th>203</th>\n",
       "      <th>204</th>\n",
       "      <th>205</th>\n",
       "      <th>206</th>\n",
       "      <th>207</th>\n",
       "      <th>208</th>\n",
       "      <th>209</th>\n",
       "    </tr>\n",
       "    <tr>\n",
       "      <th>DOC_ID</th>\n",
       "      <th></th>\n",
       "      <th></th>\n",
       "      <th></th>\n",
       "      <th></th>\n",
       "      <th></th>\n",
       "      <th></th>\n",
       "      <th></th>\n",
       "      <th></th>\n",
       "      <th></th>\n",
       "      <th></th>\n",
       "      <th></th>\n",
       "      <th></th>\n",
       "      <th></th>\n",
       "      <th></th>\n",
       "      <th></th>\n",
       "      <th></th>\n",
       "      <th></th>\n",
       "      <th></th>\n",
       "      <th></th>\n",
       "      <th></th>\n",
       "      <th></th>\n",
       "    </tr>\n",
       "  </thead>\n",
       "  <tbody>\n",
       "    <tr>\n",
       "      <th>0</th>\n",
       "      <td>3</td>\n",
       "      <td>0</td>\n",
       "      <td>2</td>\n",
       "      <td>4</td>\n",
       "      <td>1</td>\n",
       "      <td>1</td>\n",
       "      <td>2</td>\n",
       "      <td>0</td>\n",
       "      <td>0</td>\n",
       "      <td>0</td>\n",
       "      <td>...</td>\n",
       "      <td>0</td>\n",
       "      <td>0</td>\n",
       "      <td>0</td>\n",
       "      <td>3</td>\n",
       "      <td>0</td>\n",
       "      <td>0</td>\n",
       "      <td>0</td>\n",
       "      <td>0</td>\n",
       "      <td>0</td>\n",
       "      <td>0</td>\n",
       "    </tr>\n",
       "    <tr>\n",
       "      <th>1</th>\n",
       "      <td>0</td>\n",
       "      <td>0</td>\n",
       "      <td>0</td>\n",
       "      <td>0</td>\n",
       "      <td>3</td>\n",
       "      <td>0</td>\n",
       "      <td>0</td>\n",
       "      <td>2</td>\n",
       "      <td>0</td>\n",
       "      <td>0</td>\n",
       "      <td>...</td>\n",
       "      <td>0</td>\n",
       "      <td>0</td>\n",
       "      <td>0</td>\n",
       "      <td>0</td>\n",
       "      <td>0</td>\n",
       "      <td>0</td>\n",
       "      <td>0</td>\n",
       "      <td>0</td>\n",
       "      <td>0</td>\n",
       "      <td>0</td>\n",
       "    </tr>\n",
       "    <tr>\n",
       "      <th>2</th>\n",
       "      <td>0</td>\n",
       "      <td>1</td>\n",
       "      <td>1</td>\n",
       "      <td>0</td>\n",
       "      <td>1</td>\n",
       "      <td>0</td>\n",
       "      <td>0</td>\n",
       "      <td>1</td>\n",
       "      <td>0</td>\n",
       "      <td>0</td>\n",
       "      <td>...</td>\n",
       "      <td>0</td>\n",
       "      <td>0</td>\n",
       "      <td>0</td>\n",
       "      <td>0</td>\n",
       "      <td>0</td>\n",
       "      <td>0</td>\n",
       "      <td>0</td>\n",
       "      <td>0</td>\n",
       "      <td>0</td>\n",
       "      <td>1</td>\n",
       "    </tr>\n",
       "    <tr>\n",
       "      <th>3</th>\n",
       "      <td>1</td>\n",
       "      <td>0</td>\n",
       "      <td>0</td>\n",
       "      <td>2</td>\n",
       "      <td>0</td>\n",
       "      <td>0</td>\n",
       "      <td>2</td>\n",
       "      <td>0</td>\n",
       "      <td>0</td>\n",
       "      <td>1</td>\n",
       "      <td>...</td>\n",
       "      <td>1</td>\n",
       "      <td>0</td>\n",
       "      <td>0</td>\n",
       "      <td>0</td>\n",
       "      <td>0</td>\n",
       "      <td>0</td>\n",
       "      <td>0</td>\n",
       "      <td>0</td>\n",
       "      <td>0</td>\n",
       "      <td>0</td>\n",
       "    </tr>\n",
       "    <tr>\n",
       "      <th>4</th>\n",
       "      <td>1</td>\n",
       "      <td>0</td>\n",
       "      <td>0</td>\n",
       "      <td>2</td>\n",
       "      <td>0</td>\n",
       "      <td>1</td>\n",
       "      <td>2</td>\n",
       "      <td>0</td>\n",
       "      <td>0</td>\n",
       "      <td>2</td>\n",
       "      <td>...</td>\n",
       "      <td>0</td>\n",
       "      <td>0</td>\n",
       "      <td>0</td>\n",
       "      <td>0</td>\n",
       "      <td>0</td>\n",
       "      <td>0</td>\n",
       "      <td>0</td>\n",
       "      <td>0</td>\n",
       "      <td>0</td>\n",
       "      <td>0</td>\n",
       "    </tr>\n",
       "    <tr>\n",
       "      <th>5</th>\n",
       "      <td>0</td>\n",
       "      <td>1</td>\n",
       "      <td>1</td>\n",
       "      <td>0</td>\n",
       "      <td>1</td>\n",
       "      <td>0</td>\n",
       "      <td>0</td>\n",
       "      <td>2</td>\n",
       "      <td>0</td>\n",
       "      <td>0</td>\n",
       "      <td>...</td>\n",
       "      <td>0</td>\n",
       "      <td>0</td>\n",
       "      <td>0</td>\n",
       "      <td>0</td>\n",
       "      <td>0</td>\n",
       "      <td>0</td>\n",
       "      <td>0</td>\n",
       "      <td>0</td>\n",
       "      <td>0</td>\n",
       "      <td>1</td>\n",
       "    </tr>\n",
       "    <tr>\n",
       "      <th>6</th>\n",
       "      <td>0</td>\n",
       "      <td>1</td>\n",
       "      <td>0</td>\n",
       "      <td>2</td>\n",
       "      <td>0</td>\n",
       "      <td>0</td>\n",
       "      <td>2</td>\n",
       "      <td>0</td>\n",
       "      <td>0</td>\n",
       "      <td>0</td>\n",
       "      <td>...</td>\n",
       "      <td>0</td>\n",
       "      <td>0</td>\n",
       "      <td>0</td>\n",
       "      <td>0</td>\n",
       "      <td>0</td>\n",
       "      <td>0</td>\n",
       "      <td>0</td>\n",
       "      <td>0</td>\n",
       "      <td>0</td>\n",
       "      <td>0</td>\n",
       "    </tr>\n",
       "    <tr>\n",
       "      <th>7</th>\n",
       "      <td>3</td>\n",
       "      <td>0</td>\n",
       "      <td>0</td>\n",
       "      <td>0</td>\n",
       "      <td>0</td>\n",
       "      <td>0</td>\n",
       "      <td>0</td>\n",
       "      <td>0</td>\n",
       "      <td>0</td>\n",
       "      <td>0</td>\n",
       "      <td>...</td>\n",
       "      <td>0</td>\n",
       "      <td>0</td>\n",
       "      <td>0</td>\n",
       "      <td>0</td>\n",
       "      <td>0</td>\n",
       "      <td>0</td>\n",
       "      <td>0</td>\n",
       "      <td>0</td>\n",
       "      <td>0</td>\n",
       "      <td>0</td>\n",
       "    </tr>\n",
       "    <tr>\n",
       "      <th>8</th>\n",
       "      <td>1</td>\n",
       "      <td>0</td>\n",
       "      <td>4</td>\n",
       "      <td>0</td>\n",
       "      <td>0</td>\n",
       "      <td>1</td>\n",
       "      <td>0</td>\n",
       "      <td>0</td>\n",
       "      <td>0</td>\n",
       "      <td>0</td>\n",
       "      <td>...</td>\n",
       "      <td>0</td>\n",
       "      <td>0</td>\n",
       "      <td>0</td>\n",
       "      <td>0</td>\n",
       "      <td>0</td>\n",
       "      <td>0</td>\n",
       "      <td>0</td>\n",
       "      <td>0</td>\n",
       "      <td>0</td>\n",
       "      <td>0</td>\n",
       "    </tr>\n",
       "    <tr>\n",
       "      <th>9</th>\n",
       "      <td>4</td>\n",
       "      <td>1</td>\n",
       "      <td>1</td>\n",
       "      <td>0</td>\n",
       "      <td>1</td>\n",
       "      <td>0</td>\n",
       "      <td>0</td>\n",
       "      <td>0</td>\n",
       "      <td>0</td>\n",
       "      <td>0</td>\n",
       "      <td>...</td>\n",
       "      <td>0</td>\n",
       "      <td>0</td>\n",
       "      <td>0</td>\n",
       "      <td>0</td>\n",
       "      <td>0</td>\n",
       "      <td>0</td>\n",
       "      <td>0</td>\n",
       "      <td>0</td>\n",
       "      <td>0</td>\n",
       "      <td>0</td>\n",
       "    </tr>\n",
       "  </tbody>\n",
       "</table>\n",
       "<p>10 rows × 210 columns</p>\n",
       "</div>"
      ],
      "text/plain": [
       "        0    1    2    3    4    5    6    7    8    9    ...  200  201  202  \\\n",
       "DOC_ID                                                    ...                  \n",
       "0         3    0    2    4    1    1    2    0    0    0  ...    0    0    0   \n",
       "1         0    0    0    0    3    0    0    2    0    0  ...    0    0    0   \n",
       "2         0    1    1    0    1    0    0    1    0    0  ...    0    0    0   \n",
       "3         1    0    0    2    0    0    2    0    0    1  ...    1    0    0   \n",
       "4         1    0    0    2    0    1    2    0    0    2  ...    0    0    0   \n",
       "5         0    1    1    0    1    0    0    2    0    0  ...    0    0    0   \n",
       "6         0    1    0    2    0    0    2    0    0    0  ...    0    0    0   \n",
       "7         3    0    0    0    0    0    0    0    0    0  ...    0    0    0   \n",
       "8         1    0    4    0    0    1    0    0    0    0  ...    0    0    0   \n",
       "9         4    1    1    0    1    0    0    0    0    0  ...    0    0    0   \n",
       "\n",
       "        203  204  205  206  207  208  209  \n",
       "DOC_ID                                     \n",
       "0         3    0    0    0    0    0    0  \n",
       "1         0    0    0    0    0    0    0  \n",
       "2         0    0    0    0    0    0    1  \n",
       "3         0    0    0    0    0    0    0  \n",
       "4         0    0    0    0    0    0    0  \n",
       "5         0    0    0    0    0    0    1  \n",
       "6         0    0    0    0    0    0    0  \n",
       "7         0    0    0    0    0    0    0  \n",
       "8         0    0    0    0    0    0    0  \n",
       "9         0    0    0    0    0    0    0  \n",
       "\n",
       "[10 rows x 210 columns]"
      ]
     },
     "execution_count": 77,
     "metadata": {},
     "output_type": "execute_result"
    }
   ],
   "source": [
    "testing_data_full_matrix"
   ]
  },
  {
   "cell_type": "code",
   "execution_count": 78,
   "id": "f58ae345",
   "metadata": {},
   "outputs": [],
   "source": [
    "np.savetxt(TESTING_DATA_FULL_MATRIX, testing_data_full_matrix)"
   ]
  },
  {
   "cell_type": "markdown",
   "id": "e246274a",
   "metadata": {},
   "source": [
    "## Validation Data Preparation"
   ]
  },
  {
   "cell_type": "code",
   "execution_count": 79,
   "id": "2d08004e",
   "metadata": {},
   "outputs": [
    {
     "data": {
      "text/html": [
       "<div>\n",
       "<style scoped>\n",
       "    .dataframe tbody tr th:only-of-type {\n",
       "        vertical-align: middle;\n",
       "    }\n",
       "\n",
       "    .dataframe tbody tr th {\n",
       "        vertical-align: top;\n",
       "    }\n",
       "\n",
       "    .dataframe thead th {\n",
       "        text-align: right;\n",
       "    }\n",
       "</style>\n",
       "<table border=\"1\" class=\"dataframe\">\n",
       "  <thead>\n",
       "    <tr style=\"text-align: right;\">\n",
       "      <th></th>\n",
       "      <th>0</th>\n",
       "      <th>1</th>\n",
       "      <th>2</th>\n",
       "      <th>3</th>\n",
       "      <th>4</th>\n",
       "      <th>5</th>\n",
       "      <th>6</th>\n",
       "      <th>7</th>\n",
       "      <th>8</th>\n",
       "      <th>9</th>\n",
       "      <th>...</th>\n",
       "      <th>200</th>\n",
       "      <th>201</th>\n",
       "      <th>202</th>\n",
       "      <th>203</th>\n",
       "      <th>204</th>\n",
       "      <th>205</th>\n",
       "      <th>206</th>\n",
       "      <th>207</th>\n",
       "      <th>208</th>\n",
       "      <th>209</th>\n",
       "    </tr>\n",
       "    <tr>\n",
       "      <th>DOC_ID</th>\n",
       "      <th></th>\n",
       "      <th></th>\n",
       "      <th></th>\n",
       "      <th></th>\n",
       "      <th></th>\n",
       "      <th></th>\n",
       "      <th></th>\n",
       "      <th></th>\n",
       "      <th></th>\n",
       "      <th></th>\n",
       "      <th></th>\n",
       "      <th></th>\n",
       "      <th></th>\n",
       "      <th></th>\n",
       "      <th></th>\n",
       "      <th></th>\n",
       "      <th></th>\n",
       "      <th></th>\n",
       "      <th></th>\n",
       "      <th></th>\n",
       "      <th></th>\n",
       "    </tr>\n",
       "  </thead>\n",
       "  <tbody>\n",
       "    <tr>\n",
       "      <th>0</th>\n",
       "      <td>1</td>\n",
       "      <td>0</td>\n",
       "      <td>1</td>\n",
       "      <td>2</td>\n",
       "      <td>0</td>\n",
       "      <td>1</td>\n",
       "      <td>1</td>\n",
       "      <td>0</td>\n",
       "      <td>0</td>\n",
       "      <td>0</td>\n",
       "      <td>...</td>\n",
       "      <td>0</td>\n",
       "      <td>0</td>\n",
       "      <td>0</td>\n",
       "      <td>0</td>\n",
       "      <td>0</td>\n",
       "      <td>0</td>\n",
       "      <td>0</td>\n",
       "      <td>0</td>\n",
       "      <td>0</td>\n",
       "      <td>0</td>\n",
       "    </tr>\n",
       "    <tr>\n",
       "      <th>1</th>\n",
       "      <td>2</td>\n",
       "      <td>1</td>\n",
       "      <td>1</td>\n",
       "      <td>0</td>\n",
       "      <td>0</td>\n",
       "      <td>0</td>\n",
       "      <td>0</td>\n",
       "      <td>0</td>\n",
       "      <td>1</td>\n",
       "      <td>0</td>\n",
       "      <td>...</td>\n",
       "      <td>0</td>\n",
       "      <td>0</td>\n",
       "      <td>0</td>\n",
       "      <td>1</td>\n",
       "      <td>0</td>\n",
       "      <td>0</td>\n",
       "      <td>1</td>\n",
       "      <td>0</td>\n",
       "      <td>0</td>\n",
       "      <td>0</td>\n",
       "    </tr>\n",
       "    <tr>\n",
       "      <th>2</th>\n",
       "      <td>0</td>\n",
       "      <td>1</td>\n",
       "      <td>0</td>\n",
       "      <td>1</td>\n",
       "      <td>0</td>\n",
       "      <td>0</td>\n",
       "      <td>1</td>\n",
       "      <td>0</td>\n",
       "      <td>0</td>\n",
       "      <td>1</td>\n",
       "      <td>...</td>\n",
       "      <td>1</td>\n",
       "      <td>0</td>\n",
       "      <td>0</td>\n",
       "      <td>0</td>\n",
       "      <td>0</td>\n",
       "      <td>0</td>\n",
       "      <td>0</td>\n",
       "      <td>0</td>\n",
       "      <td>0</td>\n",
       "      <td>0</td>\n",
       "    </tr>\n",
       "    <tr>\n",
       "      <th>3</th>\n",
       "      <td>0</td>\n",
       "      <td>1</td>\n",
       "      <td>1</td>\n",
       "      <td>0</td>\n",
       "      <td>1</td>\n",
       "      <td>0</td>\n",
       "      <td>0</td>\n",
       "      <td>1</td>\n",
       "      <td>0</td>\n",
       "      <td>1</td>\n",
       "      <td>...</td>\n",
       "      <td>0</td>\n",
       "      <td>0</td>\n",
       "      <td>0</td>\n",
       "      <td>0</td>\n",
       "      <td>0</td>\n",
       "      <td>0</td>\n",
       "      <td>0</td>\n",
       "      <td>0</td>\n",
       "      <td>0</td>\n",
       "      <td>0</td>\n",
       "    </tr>\n",
       "    <tr>\n",
       "      <th>4</th>\n",
       "      <td>1</td>\n",
       "      <td>0</td>\n",
       "      <td>1</td>\n",
       "      <td>1</td>\n",
       "      <td>0</td>\n",
       "      <td>1</td>\n",
       "      <td>0</td>\n",
       "      <td>0</td>\n",
       "      <td>0</td>\n",
       "      <td>0</td>\n",
       "      <td>...</td>\n",
       "      <td>0</td>\n",
       "      <td>0</td>\n",
       "      <td>0</td>\n",
       "      <td>2</td>\n",
       "      <td>0</td>\n",
       "      <td>0</td>\n",
       "      <td>0</td>\n",
       "      <td>0</td>\n",
       "      <td>0</td>\n",
       "      <td>0</td>\n",
       "    </tr>\n",
       "  </tbody>\n",
       "</table>\n",
       "<p>5 rows × 210 columns</p>\n",
       "</div>"
      ],
      "text/plain": [
       "        0    1    2    3    4    5    6    7    8    9    ...  200  201  202  \\\n",
       "DOC_ID                                                    ...                  \n",
       "0         1    0    1    2    0    1    1    0    0    0  ...    0    0    0   \n",
       "1         2    1    1    0    0    0    0    0    1    0  ...    0    0    0   \n",
       "2         0    1    0    1    0    0    1    0    0    1  ...    1    0    0   \n",
       "3         0    1    1    0    1    0    0    1    0    1  ...    0    0    0   \n",
       "4         1    0    1    1    0    1    0    0    0    0  ...    0    0    0   \n",
       "\n",
       "        203  204  205  206  207  208  209  \n",
       "DOC_ID                                     \n",
       "0         0    0    0    0    0    0    0  \n",
       "1         1    0    0    1    0    0    0  \n",
       "2         0    0    0    0    0    0    0  \n",
       "3         0    0    0    0    0    0    0  \n",
       "4         2    0    0    0    0    0    0  \n",
       "\n",
       "[5 rows x 210 columns]"
      ]
     },
     "execution_count": 79,
     "metadata": {},
     "output_type": "execute_result"
    }
   ],
   "source": [
    "validation_data_full_matrix = make_testing_full_matrix(validation_data_sparse_matrix, nr_words=len(training_vocab))\n",
    "validation_data_full_matrix"
   ]
  },
  {
   "cell_type": "code",
   "execution_count": 80,
   "id": "f422cbb1",
   "metadata": {},
   "outputs": [],
   "source": [
    "np.savetxt(VALIDATION_DATA_FULL_MATRIX, validation_data_full_matrix)"
   ]
  }
 ],
 "metadata": {
  "kernelspec": {
   "display_name": "Python 3",
   "language": "python",
   "name": "python3"
  },
  "language_info": {
   "codemirror_mode": {
    "name": "ipython",
    "version": 3
   },
   "file_extension": ".py",
   "mimetype": "text/x-python",
   "name": "python",
   "nbconvert_exporter": "python",
   "pygments_lexer": "ipython3",
   "version": "3.8.8"
  }
 },
 "nbformat": 4,
 "nbformat_minor": 5
}
