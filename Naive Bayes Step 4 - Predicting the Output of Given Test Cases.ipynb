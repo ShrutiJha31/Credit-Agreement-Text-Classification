{
 "cells": [
  {
   "cell_type": "markdown",
   "id": "8a582050",
   "metadata": {},
   "source": [
    "# Predicting the Output of the Given Test Cases"
   ]
  },
  {
   "cell_type": "markdown",
   "id": "712f8a47",
   "metadata": {},
   "source": [
    "### Objectives\n",
    "\n",
    "#### 1. Loading the Trained Model\n",
    "#### 2. Calculating Joint Probability\n",
    "#### 3. Making Predication for Given Test Case\n",
    "#### 4. Storing the Predictions in Files"
   ]
  },
  {
   "cell_type": "markdown",
   "id": "e268731c",
   "metadata": {},
   "source": [
    "## Notebook Imports"
   ]
  },
  {
   "cell_type": "code",
   "execution_count": 2,
   "id": "44afdaf4",
   "metadata": {},
   "outputs": [],
   "source": [
    "import pandas as pd\n",
    "import numpy as np\n",
    "import matplotlib.pyplot as plt\n",
    "import seaborn as sns\n",
    "import itertools\n",
    "from sklearn.metrics import confusion_matrix\n",
    "\n",
    "%matplotlib inline"
   ]
  },
  {
   "cell_type": "markdown",
   "id": "ffd98056",
   "metadata": {},
   "source": [
    "## File Paths\n"
   ]
  },
  {
   "cell_type": "code",
   "execution_count": 23,
   "id": "1c61e2ba",
   "metadata": {},
   "outputs": [],
   "source": [
    "#------ Manually Added Files\n",
    "\n",
    "TESTING_DATA_PATH = 'Testing_Data/Testing_Data.csv'\n",
    "\n",
    "#------ Files Generated in Previous Steps\n",
    "\n",
    "PREAMBLE_WORD_PROB = 'Trained_Model/preamble_word_prob.txt'\n",
    "LENDER_DEFAULTING_WORD_PROB = 'Trained_Model/lender_defaulting_word_prob.txt' \n",
    "GOVERNING_LAW_WORD_PROB = 'Trained_Model/governing_law_word_prob.txt' \n",
    "INDEMNIFICATION_WORD_PROB = 'Trained_Model/indemnification_word_prob.txt'\n",
    "OTHER_WORD_PROB = 'Trained_Model/other_word_prob.txt'\n",
    "WORD_PROB = 'Trained_Model/word_prob.txt'\n",
    "PROB_CLASS_PATH = 'Trained_Model/prob_class.txt'\n",
    "TESTING_DATA_FULL_MATRIX = 'Testing_Data/testing_full_matrix.txt'\n",
    "\n",
    "#------ Files Generated in Current Step\n",
    "\n",
    "TESTING_PREDICTION_PATH_CSV = 'Testing_Data/Testing_Prediction.csv'\n",
    "TESTING_PREDICTION_PATH_JSON = 'Testing_Data/Testing_Prediction.json'"
   ]
  },
  {
   "cell_type": "markdown",
   "id": "bf5e468b",
   "metadata": {},
   "source": [
    "## Constants"
   ]
  },
  {
   "cell_type": "code",
   "execution_count": 4,
   "id": "41e56a90",
   "metadata": {},
   "outputs": [],
   "source": [
    "Preamble_classification_id = 0\n",
    "Lender_defaulting_classification_id = 1\n",
    "Governing_law_classification_id = 2\n",
    "Indemnification_classification_id = 3\n",
    "Other_classification_id = 4\n",
    "\n",
    "LABEL_NAMES = ['Preamble', 'Lender Defaulting', 'Governing Law', 'Indemnification', 'Other']"
   ]
  },
  {
   "cell_type": "markdown",
   "id": "6116a4b5",
   "metadata": {},
   "source": [
    "## Load the Data"
   ]
  },
  {
   "cell_type": "code",
   "execution_count": 5,
   "id": "feaf5ae0",
   "metadata": {},
   "outputs": [],
   "source": [
    "testing_data = np.loadtxt(TESTING_DATA_FULL_MATRIX , delimiter = ' ')\n",
    "\n",
    "\n",
    "prob_word_preamble = np.loadtxt(PREAMBLE_WORD_PROB, delimiter = ' ')\n",
    "prob_word_lender_defaulting = np.loadtxt(LENDER_DEFAULTING_WORD_PROB, delimiter = ' ')\n",
    "prob_word_governing_law = np.loadtxt(GOVERNING_LAW_WORD_PROB, delimiter = ' ')\n",
    "prob_word_indemnification = np.loadtxt(INDEMNIFICATION_WORD_PROB, delimiter = ' ') \n",
    "prob_word_other = np.loadtxt(OTHER_WORD_PROB, delimiter = ' ') \n",
    "prob_word = np.loadtxt(WORD_PROB, delimiter = ' ')\n",
    "prob_class = np.loadtxt(PROB_CLASS_PATH, delimiter = ' ')"
   ]
  },
  {
   "cell_type": "markdown",
   "id": "afc97692",
   "metadata": {},
   "source": [
    "## Calculating the Join Probability \n",
    "$$P(Class \\, | \\, Word) = \\frac{P(Word \\, | \\, Class) \\, P(Class)} {P(Word)}$$"
   ]
  },
  {
   "cell_type": "code",
   "execution_count": 6,
   "id": "fdbb78b5",
   "metadata": {},
   "outputs": [
    {
     "data": {
      "text/plain": [
       "[-5.18962375956347,\n",
       " -14.081503263715542,\n",
       " -7.905845974665435,\n",
       " -10.358854616335925,\n",
       " -0.8830777808552808,\n",
       " -9.134549030138684,\n",
       " -6.321725870215625,\n",
       " -4.709459929176728,\n",
       " -3.071355831727611,\n",
       " -13.030365503344088]"
      ]
     },
     "execution_count": 6,
     "metadata": {},
     "output_type": "execute_result"
    }
   ],
   "source": [
    "joint_log_preamble = testing_data.dot(np.log(prob_word_preamble) - np.log(prob_word)) + np.log(prob_class[Preamble_classification_id])\n",
    "joint_log_preamble_list =[]\n",
    "for item in joint_log_preamble:\n",
    "    joint_log_preamble_list.append(item)\n",
    "    \n",
    "joint_log_preamble_list    "
   ]
  },
  {
   "cell_type": "code",
   "execution_count": 7,
   "id": "3e17202a",
   "metadata": {},
   "outputs": [
    {
     "data": {
      "text/plain": [
       "[-10.09694588629352,\n",
       " -12.862245464293633,\n",
       " -5.736675025390013,\n",
       " -9.036785922790337,\n",
       " 10.582295393398686,\n",
       " -7.766904945465448,\n",
       " -5.708748318855492,\n",
       " -2.388498501928927,\n",
       " -7.871113667726584,\n",
       " -4.034815488696304]"
      ]
     },
     "execution_count": 7,
     "metadata": {},
     "output_type": "execute_result"
    }
   ],
   "source": [
    "joint_log_lender_defaulting = testing_data.dot(np.log(prob_word_lender_defaulting) - np.log(prob_word)) + np.log(prob_class[Lender_defaulting_classification_id])\n",
    "joint_log_lender_defaulting_list =[]\n",
    "for item in joint_log_lender_defaulting:\n",
    "    joint_log_lender_defaulting_list.append(item)\n",
    "joint_log_lender_defaulting_list"
   ]
  },
  {
   "cell_type": "code",
   "execution_count": 8,
   "id": "8d697522",
   "metadata": {},
   "outputs": [
    {
     "data": {
      "text/plain": [
       "[-25.300105996575486,\n",
       " 7.222208336977501,\n",
       " 1.4022850664279771,\n",
       " -9.636105029447492,\n",
       " -9.19650691496987,\n",
       " -0.3399573798826119,\n",
       " -10.706639403525722,\n",
       " -11.65333565016799,\n",
       " -8.341236514540453,\n",
       " -11.043596150555022]"
      ]
     },
     "execution_count": 8,
     "metadata": {},
     "output_type": "execute_result"
    }
   ],
   "source": [
    "joint_log_governing_law = testing_data.dot(np.log(prob_word_governing_law) - np.log(prob_word)) + np.log(prob_class[Governing_law_classification_id])\n",
    "joint_log_governing_law_list =[]\n",
    "for item in joint_log_governing_law:\n",
    "    joint_log_governing_law_list.append(item)\n",
    "joint_log_governing_law_list"
   ]
  },
  {
   "cell_type": "code",
   "execution_count": 9,
   "id": "5cc55a0f",
   "metadata": {},
   "outputs": [
    {
     "data": {
      "text/plain": [
       "[-13.58147792430564,\n",
       " -15.204477022454405,\n",
       " -5.682551845482808,\n",
       " 3.92318778941495,\n",
       " 2.1279500558105706,\n",
       " -9.141331219529885,\n",
       " -2.8412144221882487,\n",
       " -7.871076337628969,\n",
       " -11.121809596722578,\n",
       " -13.508316283318669]"
      ]
     },
     "execution_count": 9,
     "metadata": {},
     "output_type": "execute_result"
    }
   ],
   "source": [
    "joint_log_indemnification = testing_data.dot(np.log(prob_word_indemnification) - np.log(prob_word)) + np.log(prob_class[Indemnification_classification_id])\n",
    "joint_log_indemnification_list =[]\n",
    "for item in joint_log_indemnification:\n",
    "    joint_log_indemnification_list.append(item)\n",
    "joint_log_indemnification_list"
   ]
  },
  {
   "cell_type": "code",
   "execution_count": 10,
   "id": "5b278cf1",
   "metadata": {},
   "outputs": [
    {
     "data": {
      "text/plain": [
       "[-26.644808323083428,\n",
       " -12.606520045157708,\n",
       " -6.276567127015984,\n",
       " -10.378230647526987,\n",
       " -7.886403554894414,\n",
       " -7.271237265716858,\n",
       " -8.563648033474065,\n",
       " -10.076553344373904,\n",
       " -14.891732430791517,\n",
       " -17.172878601729785]"
      ]
     },
     "execution_count": 10,
     "metadata": {},
     "output_type": "execute_result"
    }
   ],
   "source": [
    "joint_log_other = testing_data.dot(np.log(prob_word_other) - np.log(prob_word)) + np.log(prob_class[Other_classification_id])\n",
    "joint_log_other_list =[]\n",
    "for item in joint_log_other:\n",
    "    joint_log_other_list.append(item)\n",
    "joint_log_other_list"
   ]
  },
  {
   "cell_type": "code",
   "execution_count": 11,
   "id": "c8559a62",
   "metadata": {},
   "outputs": [
    {
     "data": {
      "text/plain": [
       "array([[-5.18962375956347, -10.09694588629352, -25.300105996575486,\n",
       "        -13.58147792430564, -26.644808323083428],\n",
       "       [-14.081503263715542, -12.862245464293633, 7.222208336977501,\n",
       "        -15.204477022454405, -12.606520045157708],\n",
       "       [-7.905845974665435, -5.736675025390013, 1.4022850664279771,\n",
       "        -5.682551845482808, -6.276567127015984],\n",
       "       [-10.358854616335925, -9.036785922790337, -9.636105029447492,\n",
       "        3.92318778941495, -10.378230647526987],\n",
       "       [-0.8830777808552808, 10.582295393398686, -9.19650691496987,\n",
       "        2.1279500558105706, -7.886403554894414],\n",
       "       [-9.134549030138684, -7.766904945465448, -0.3399573798826119,\n",
       "        -9.141331219529885, -7.271237265716858],\n",
       "       [-6.321725870215625, -5.708748318855492, -10.706639403525722,\n",
       "        -2.8412144221882487, -8.563648033474065],\n",
       "       [-4.709459929176728, -2.388498501928927, -11.65333565016799,\n",
       "        -7.871076337628969, -10.076553344373904],\n",
       "       [-3.071355831727611, -7.871113667726584, -8.341236514540453,\n",
       "        -11.121809596722578, -14.891732430791517],\n",
       "       [-13.030365503344088, -4.034815488696304, -11.043596150555022,\n",
       "        -13.508316283318669, -17.172878601729785]], dtype=object)"
      ]
     },
     "execution_count": 11,
     "metadata": {},
     "output_type": "execute_result"
    }
   ],
   "source": [
    "join_prob = np.array([joint_log_preamble_list,joint_log_lender_defaulting_list,joint_log_governing_law_list,joint_log_indemnification_list,joint_log_other_list],dtype=object)\n",
    "join_prob=join_prob.transpose()\n",
    "join_prob"
   ]
  },
  {
   "cell_type": "markdown",
   "id": "36806faf",
   "metadata": {},
   "source": [
    "## Making Predictions for Validation Data"
   ]
  },
  {
   "cell_type": "code",
   "execution_count": 18,
   "id": "97343342",
   "metadata": {},
   "outputs": [
    {
     "data": {
      "text/plain": [
       "['Preamble',\n",
       " 'Governing Law',\n",
       " 'Governing Law',\n",
       " 'Indemnification',\n",
       " 'Lender Defaulting',\n",
       " 'Governing Law',\n",
       " 'Indemnification',\n",
       " 'Lender Defaulting',\n",
       " 'Preamble',\n",
       " 'Lender Defaulting']"
      ]
     },
     "execution_count": 18,
     "metadata": {},
     "output_type": "execute_result"
    }
   ],
   "source": [
    "prediction = join_prob.argmax(1)\n",
    "prediction=prediction.transpose()\n",
    "prediction_label_list=[]\n",
    "for item in prediction:\n",
    "    prediction_label_list.append(LABEL_NAMES[item])\n",
    "prediction_label_list\n"
   ]
  },
  {
   "cell_type": "markdown",
   "id": "805d86e4",
   "metadata": {},
   "source": [
    "## Storing the Predicted Data in the form of a DataFrame"
   ]
  },
  {
   "cell_type": "code",
   "execution_count": 22,
   "id": "6bd4bd4b",
   "metadata": {},
   "outputs": [
    {
     "data": {
      "text/html": [
       "<div>\n",
       "<style scoped>\n",
       "    .dataframe tbody tr th:only-of-type {\n",
       "        vertical-align: middle;\n",
       "    }\n",
       "\n",
       "    .dataframe tbody tr th {\n",
       "        vertical-align: top;\n",
       "    }\n",
       "\n",
       "    .dataframe thead th {\n",
       "        text-align: right;\n",
       "    }\n",
       "</style>\n",
       "<table border=\"1\" class=\"dataframe\">\n",
       "  <thead>\n",
       "    <tr style=\"text-align: right;\">\n",
       "      <th></th>\n",
       "      <th>STATEMENT</th>\n",
       "      <th>PREDICTED CLASS</th>\n",
       "    </tr>\n",
       "  </thead>\n",
       "  <tbody>\n",
       "    <tr>\n",
       "      <th>0</th>\n",
       "      <td>Amendment No. 1 dated as of February 4, 2016 (...</td>\n",
       "      <td>Preamble</td>\n",
       "    </tr>\n",
       "    <tr>\n",
       "      <th>1</th>\n",
       "      <td>Subject to the Legal Reservations, (a) the cho...</td>\n",
       "      <td>Governing Law</td>\n",
       "    </tr>\n",
       "    <tr>\n",
       "      <th>2</th>\n",
       "      <td>This Agreement, and any non-contractual obliga...</td>\n",
       "      <td>Governing Law</td>\n",
       "    </tr>\n",
       "    <tr>\n",
       "      <th>3</th>\n",
       "      <td>Each Lender agrees to indemnify the Administra...</td>\n",
       "      <td>Indemnification</td>\n",
       "    </tr>\n",
       "    <tr>\n",
       "      <th>4</th>\n",
       "      <td>Any Lender that (a) has failed to (i) fund all...</td>\n",
       "      <td>Lender Defaulting</td>\n",
       "    </tr>\n",
       "    <tr>\n",
       "      <th>5</th>\n",
       "      <td>This Assignment and Assumption shall be govern...</td>\n",
       "      <td>Governing Law</td>\n",
       "    </tr>\n",
       "    <tr>\n",
       "      <th>6</th>\n",
       "      <td>As soon as practicable after any payment of In...</td>\n",
       "      <td>Indemnification</td>\n",
       "    </tr>\n",
       "    <tr>\n",
       "      <th>7</th>\n",
       "      <td>Non-Defaulting Lender means, at any time, each...</td>\n",
       "      <td>Lender Defaulting</td>\n",
       "    </tr>\n",
       "    <tr>\n",
       "      <th>8</th>\n",
       "      <td>Fundco Facility Agreement means the facility a...</td>\n",
       "      <td>Preamble</td>\n",
       "    </tr>\n",
       "    <tr>\n",
       "      <th>9</th>\n",
       "      <td>Notwithstanding any provision of this Agreemen...</td>\n",
       "      <td>Lender Defaulting</td>\n",
       "    </tr>\n",
       "  </tbody>\n",
       "</table>\n",
       "</div>"
      ],
      "text/plain": [
       "                                           STATEMENT    PREDICTED CLASS\n",
       "0  Amendment No. 1 dated as of February 4, 2016 (...           Preamble\n",
       "1  Subject to the Legal Reservations, (a) the cho...      Governing Law\n",
       "2  This Agreement, and any non-contractual obliga...      Governing Law\n",
       "3  Each Lender agrees to indemnify the Administra...    Indemnification\n",
       "4  Any Lender that (a) has failed to (i) fund all...  Lender Defaulting\n",
       "5  This Assignment and Assumption shall be govern...      Governing Law\n",
       "6  As soon as practicable after any payment of In...    Indemnification\n",
       "7  Non-Defaulting Lender means, at any time, each...  Lender Defaulting\n",
       "8  Fundco Facility Agreement means the facility a...           Preamble\n",
       "9  Notwithstanding any provision of this Agreemen...  Lender Defaulting"
      ]
     },
     "execution_count": 22,
     "metadata": {},
     "output_type": "execute_result"
    }
   ],
   "source": [
    "testing_statement = pd.read_csv(TESTING_DATA_PATH)\n",
    "testing_statement['PREDICTED CLASS'] = prediction_label_list\n",
    "testing_statement"
   ]
  },
  {
   "cell_type": "markdown",
   "id": "271525c1",
   "metadata": {},
   "source": [
    "## Saving the Predictions in CSV and JSON Files"
   ]
  },
  {
   "cell_type": "code",
   "execution_count": 25,
   "id": "2500a36e",
   "metadata": {},
   "outputs": [],
   "source": [
    "testing_statement.to_csv(TESTING_PREDICTION_PATH_CSV)\n",
    "testing_statement.to_json(TESTING_PREDICTION_PATH_JSON)"
   ]
  }
 ],
 "metadata": {
  "kernelspec": {
   "display_name": "Python 3",
   "language": "python",
   "name": "python3"
  },
  "language_info": {
   "codemirror_mode": {
    "name": "ipython",
    "version": 3
   },
   "file_extension": ".py",
   "mimetype": "text/x-python",
   "name": "python",
   "nbconvert_exporter": "python",
   "pygments_lexer": "ipython3",
   "version": "3.8.8"
  }
 },
 "nbformat": 4,
 "nbformat_minor": 5
}
