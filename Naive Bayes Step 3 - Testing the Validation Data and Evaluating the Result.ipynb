{
 "cells": [
  {
   "cell_type": "markdown",
   "id": "717d312c",
   "metadata": {},
   "source": [
    "# Testing the Validation Data and Evaluating the Result"
   ]
  },
  {
   "cell_type": "markdown",
   "id": "b0cd4a74",
   "metadata": {},
   "source": [
    "### Objectives\n",
    "\n",
    "#### 1. Loading the Trained Model\n",
    "#### 2. Calculating Joint Probability\n",
    "#### 3. Making Predication for Validation Data\n",
    "#### 4. Evaluating the Prediction\n",
    "#### 5. Visualization of the Metric Evaluation\n",
    "#### 6. Confusion Matrix¶"
   ]
  },
  {
   "cell_type": "markdown",
   "id": "5e6a647c",
   "metadata": {},
   "source": [
    "## Notebook Imports"
   ]
  },
  {
   "cell_type": "code",
   "execution_count": 43,
   "id": "47547632",
   "metadata": {},
   "outputs": [],
   "source": [
    "import pandas as pd\n",
    "import numpy as np\n",
    "import matplotlib.pyplot as plt\n",
    "import seaborn as sns\n",
    "import itertools\n",
    "from sklearn.metrics import confusion_matrix\n",
    "\n",
    "%matplotlib inline"
   ]
  },
  {
   "cell_type": "markdown",
   "id": "822d9d71",
   "metadata": {},
   "source": [
    "## File Paths\n"
   ]
  },
  {
   "cell_type": "code",
   "execution_count": 44,
   "id": "e097294f",
   "metadata": {},
   "outputs": [],
   "source": [
    "#----- Manually Added Files\n",
    "\n",
    "VALIDATION_CLASS_PATH = 'Validation_Data/Validation_Class.csv'\n",
    "VALIDATION_DATA_PATH = 'Validation_Data/Validation_Statement.csv'\n",
    "\n",
    "\n",
    "#----- Files Generated in Previous Steps\n",
    "\n",
    "PREAMBLE_WORD_PROB = 'Trained_Model/preamble_word_prob.txt'\n",
    "LENDER_DEFAULTING_WORD_PROB = 'Trained_Model/lender_defaulting_word_prob.txt' \n",
    "GOVERNING_LAW_WORD_PROB = 'Trained_Model/governing_law_word_prob.txt' \n",
    "INDEMNIFICATION_WORD_PROB = 'Trained_Model/indemnification_word_prob.txt'\n",
    "OTHER_WORD_PROB = 'Trained_Model/other_word_prob.txt'\n",
    "WORD_PROB = 'Trained_Model/word_prob.txt'\n",
    "PROB_CLASS_PATH = 'Trained_Model/prob_class.txt'\n",
    "VALIDATION_SPARSE_MATRIX_TXT_PATH = 'Validation_Data/Validation_Data_Sparse_Matrix.txt'\n",
    "VALIDATION_CLASS_SPARSE_MATRIX_TXT_PATH = 'Validation_Data/Validation_Class_Sparse_Matrix.txt'\n",
    "VALIDATION_DATA_FULL_MATRIX =  'Validation_Data/Validation_Data_Full_Matrix.txt'\n",
    "\n",
    "\n",
    "#------ Files Generated in Current Step\n",
    "\n",
    "VALIDATION_PREDICTION_DATA_PATH = 'Validation_Data/Validation_Prediction.csv'"
   ]
  },
  {
   "cell_type": "markdown",
   "id": "3325bce8",
   "metadata": {},
   "source": [
    "## Constants"
   ]
  },
  {
   "cell_type": "code",
   "execution_count": 45,
   "id": "9a210d3b",
   "metadata": {},
   "outputs": [],
   "source": [
    "Preamble_classification_id = 0\n",
    "Lender_defaulting_classification_id = 1\n",
    "Governing_law_classification_id = 2\n",
    "Indemnification_classification_id = 3\n",
    "Other_classification_id = 4\n",
    "\n",
    "LABEL_NAMES = ['Preamble', 'Lender Defaulting', 'Governing Law', 'Indemnification', 'Other']"
   ]
  },
  {
   "cell_type": "markdown",
   "id": "d2638aeb",
   "metadata": {},
   "source": [
    "## Load the Data"
   ]
  },
  {
   "cell_type": "code",
   "execution_count": 46,
   "id": "6dfcdb6b",
   "metadata": {},
   "outputs": [],
   "source": [
    "validation_data = np.loadtxt(VALIDATION_DATA_FULL_MATRIX , delimiter = ' ')\n",
    "validation_class = np.loadtxt(VALIDATION_CLASS_SPARSE_MATRIX_TXT_PATH , delimiter = ' ',dtype=int)\n",
    "\n",
    "prob_word_preamble = np.loadtxt(PREAMBLE_WORD_PROB, delimiter = ' ')\n",
    "prob_word_lender_defaulting = np.loadtxt(LENDER_DEFAULTING_WORD_PROB, delimiter = ' ')\n",
    "prob_word_governing_law = np.loadtxt(GOVERNING_LAW_WORD_PROB, delimiter = ' ')\n",
    "prob_word_indemnification = np.loadtxt(INDEMNIFICATION_WORD_PROB, delimiter = ' ') \n",
    "prob_word_other = np.loadtxt(OTHER_WORD_PROB, delimiter = ' ') \n",
    "prob_word = np.loadtxt(WORD_PROB, delimiter = ' ')\n",
    "prob_class = np.loadtxt(PROB_CLASS_PATH, delimiter = ' ')"
   ]
  },
  {
   "cell_type": "markdown",
   "id": "ef0fd882",
   "metadata": {},
   "source": [
    "## Calculating the Join Probability \n",
    "$$P(Class \\, | \\, Word) = \\frac{P(Word \\, | \\, Class) \\, P(Class)} {P(Word)}$$"
   ]
  },
  {
   "cell_type": "code",
   "execution_count": 47,
   "id": "84f12247",
   "metadata": {},
   "outputs": [
    {
     "data": {
      "text/plain": [
       "[2.348407686504456,\n",
       " -8.314579871803987,\n",
       " -8.733055056747684,\n",
       " -9.162049568980185,\n",
       " -1.8318220701223387]"
      ]
     },
     "execution_count": 47,
     "metadata": {},
     "output_type": "execute_result"
    }
   ],
   "source": [
    "joint_log_preamble = validation_data.dot(np.log(prob_word_preamble) - np.log(prob_word)) + np.log(prob_class[Preamble_classification_id])\n",
    "joint_log_preamble_list =[]\n",
    "for item in joint_log_preamble:\n",
    "    joint_log_preamble_list.append(item)\n",
    "    \n",
    "joint_log_preamble_list    "
   ]
  },
  {
   "cell_type": "code",
   "execution_count": 48,
   "id": "1cbc756d",
   "metadata": {},
   "outputs": [
    {
     "data": {
      "text/plain": [
       "[-8.318647477716384,\n",
       " 6.189120976622943,\n",
       " -8.178890809824924,\n",
       " -7.57764611622247,\n",
       " -3.6020687878063304]"
      ]
     },
     "execution_count": 48,
     "metadata": {},
     "output_type": "execute_result"
    }
   ],
   "source": [
    "joint_log_lender_defaulting = validation_data.dot(np.log(prob_word_lender_defaulting) - np.log(prob_word)) + np.log(prob_class[Lender_defaulting_classification_id])\n",
    "joint_log_lender_defaulting_list =[]\n",
    "for item in joint_log_lender_defaulting:\n",
    "    joint_log_lender_defaulting_list.append(item)\n",
    "joint_log_lender_defaulting_list"
   ]
  },
  {
   "cell_type": "code",
   "execution_count": 49,
   "id": "3c8a04df",
   "metadata": {},
   "outputs": [
    {
     "data": {
      "text/plain": [
       "[-14.974368145804618,\n",
       " -8.13784037611085,\n",
       " -9.311287495680716,\n",
       " -1.4198206787292713,\n",
       " -12.043536911716103]"
      ]
     },
     "execution_count": 49,
     "metadata": {},
     "output_type": "execute_result"
    }
   ],
   "source": [
    "joint_log_governing_law = validation_data.dot(np.log(prob_word_governing_law) - np.log(prob_word)) + np.log(prob_class[Governing_law_classification_id])\n",
    "joint_log_governing_law_list =[]\n",
    "for item in joint_log_governing_law:\n",
    "    joint_log_governing_law_list.append(item)\n",
    "joint_log_governing_law_list"
   ]
  },
  {
   "cell_type": "code",
   "execution_count": 50,
   "id": "1ad3080a",
   "metadata": {},
   "outputs": [
    {
     "data": {
      "text/plain": [
       "[-7.0486834064277915,\n",
       " -7.023990793837419,\n",
       " 2.688617391785132,\n",
       " -9.273027312691568,\n",
       " -7.301640799622183]"
      ]
     },
     "execution_count": 50,
     "metadata": {},
     "output_type": "execute_result"
    }
   ],
   "source": [
    "joint_log_indemnification = validation_data.dot(np.log(prob_word_indemnification) - np.log(prob_word)) + np.log(prob_class[Indemnification_classification_id])\n",
    "joint_log_indemnification_list =[]\n",
    "for item in joint_log_indemnification:\n",
    "    joint_log_indemnification_list.append(item)\n",
    "joint_log_indemnification_list"
   ]
  },
  {
   "cell_type": "code",
   "execution_count": 51,
   "id": "e160a8eb",
   "metadata": {},
   "outputs": [
    {
     "data": {
      "text/plain": [
       "[-14.484542002356688,\n",
       " -6.730765187346953,\n",
       " -10.155862011302808,\n",
       " -9.153097999223002,\n",
       " -12.382920766452543]"
      ]
     },
     "execution_count": 51,
     "metadata": {},
     "output_type": "execute_result"
    }
   ],
   "source": [
    "joint_log_other = validation_data.dot(np.log(prob_word_other) - np.log(prob_word)) + np.log(prob_class[Other_classification_id])\n",
    "joint_log_other_list =[]\n",
    "for item in joint_log_other:\n",
    "    joint_log_other_list.append(item)\n",
    "joint_log_other_list"
   ]
  },
  {
   "cell_type": "code",
   "execution_count": 52,
   "id": "16378ae6",
   "metadata": {},
   "outputs": [
    {
     "data": {
      "text/plain": [
       "array([[2.348407686504456, -8.318647477716384, -14.974368145804618,\n",
       "        -7.0486834064277915, -14.484542002356688],\n",
       "       [-8.314579871803987, 6.189120976622943, -8.13784037611085,\n",
       "        -7.023990793837419, -6.730765187346953],\n",
       "       [-8.733055056747684, -8.178890809824924, -9.311287495680716,\n",
       "        2.688617391785132, -10.155862011302808],\n",
       "       [-9.162049568980185, -7.57764611622247, -1.4198206787292713,\n",
       "        -9.273027312691568, -9.153097999223002],\n",
       "       [-1.8318220701223387, -3.6020687878063304, -12.043536911716103,\n",
       "        -7.301640799622183, -12.382920766452543]], dtype=object)"
      ]
     },
     "execution_count": 52,
     "metadata": {},
     "output_type": "execute_result"
    }
   ],
   "source": [
    "join_prob = np.array([joint_log_preamble_list,joint_log_lender_defaulting_list,joint_log_governing_law_list,joint_log_indemnification_list,joint_log_other_list],dtype=object)\n",
    "join_prob=join_prob.transpose()\n",
    "join_prob"
   ]
  },
  {
   "cell_type": "markdown",
   "id": "1cb9a167",
   "metadata": {},
   "source": [
    "## Making Predictions for Validation Data"
   ]
  },
  {
   "cell_type": "code",
   "execution_count": 68,
   "id": "de6a6944",
   "metadata": {},
   "outputs": [
    {
     "data": {
      "text/plain": [
       "['Preamble',\n",
       " 'Lender Defaulting',\n",
       " 'Indemnification',\n",
       " 'Governing Law',\n",
       " 'Preamble']"
      ]
     },
     "execution_count": 68,
     "metadata": {},
     "output_type": "execute_result"
    }
   ],
   "source": [
    "prediction = join_prob.argmax(1)\n",
    "prediction=prediction.transpose()\n",
    "prediction_label_list=[]\n",
    "for item in prediction:\n",
    "    prediction_label_list.append(LABEL_NAMES[item])\n",
    "prediction_label_list"
   ]
  },
  {
   "cell_type": "markdown",
   "id": "be13c1a3",
   "metadata": {},
   "source": [
    "## Storing the Predicted Data in the form of a DataFrame"
   ]
  },
  {
   "cell_type": "code",
   "execution_count": 54,
   "id": "532f70fa",
   "metadata": {},
   "outputs": [
    {
     "data": {
      "text/html": [
       "<div>\n",
       "<style scoped>\n",
       "    .dataframe tbody tr th:only-of-type {\n",
       "        vertical-align: middle;\n",
       "    }\n",
       "\n",
       "    .dataframe tbody tr th {\n",
       "        vertical-align: top;\n",
       "    }\n",
       "\n",
       "    .dataframe thead th {\n",
       "        text-align: right;\n",
       "    }\n",
       "</style>\n",
       "<table border=\"1\" class=\"dataframe\">\n",
       "  <thead>\n",
       "    <tr style=\"text-align: right;\">\n",
       "      <th></th>\n",
       "      <th>STATEMENT</th>\n",
       "      <th>PREDICTED CLASS</th>\n",
       "      <th>ACTUAL CLASS</th>\n",
       "    </tr>\n",
       "  </thead>\n",
       "  <tbody>\n",
       "    <tr>\n",
       "      <th>0</th>\n",
       "      <td>This CREDIT AGREEMENT is made and entered into...</td>\n",
       "      <td>Preamble</td>\n",
       "      <td>Preamble</td>\n",
       "    </tr>\n",
       "    <tr>\n",
       "      <th>1</th>\n",
       "      <td>Defaulting Lender’s right to approve or disapp...</td>\n",
       "      <td>Lender Defaulting</td>\n",
       "      <td>Lender Defaulting</td>\n",
       "    </tr>\n",
       "    <tr>\n",
       "      <th>2</th>\n",
       "      <td>The Loan Parties shall indemnify the Administr...</td>\n",
       "      <td>Indemnification</td>\n",
       "      <td>Indemnification</td>\n",
       "    </tr>\n",
       "    <tr>\n",
       "      <th>3</th>\n",
       "      <td>This agreement and other loan documents shall ...</td>\n",
       "      <td>Governing Law</td>\n",
       "      <td>Governing Law</td>\n",
       "    </tr>\n",
       "    <tr>\n",
       "      <th>4</th>\n",
       "      <td>The Borrower and certain lenders and agents ar...</td>\n",
       "      <td>Preamble</td>\n",
       "      <td>Other</td>\n",
       "    </tr>\n",
       "  </tbody>\n",
       "</table>\n",
       "</div>"
      ],
      "text/plain": [
       "                                           STATEMENT    PREDICTED CLASS  \\\n",
       "0  This CREDIT AGREEMENT is made and entered into...           Preamble   \n",
       "1  Defaulting Lender’s right to approve or disapp...  Lender Defaulting   \n",
       "2  The Loan Parties shall indemnify the Administr...    Indemnification   \n",
       "3  This agreement and other loan documents shall ...      Governing Law   \n",
       "4  The Borrower and certain lenders and agents ar...           Preamble   \n",
       "\n",
       "        ACTUAL CLASS  \n",
       "0           Preamble  \n",
       "1  Lender Defaulting  \n",
       "2    Indemnification  \n",
       "3      Governing Law  \n",
       "4              Other  "
      ]
     },
     "execution_count": 54,
     "metadata": {},
     "output_type": "execute_result"
    }
   ],
   "source": [
    "actual_class_list = []\n",
    "for item in validation_class:\n",
    "    actual_class_list.append(LABEL_NAMES[item])\n",
    "\n",
    "validation_statement = pd.read_csv(VALIDATION_DATA_PATH)\n",
    "validation_statement['PREDICTED CLASS'] = prediction_label_list\n",
    "validation_statement['ACTUAL CLASS'] = actual_class_list\n",
    "validation_statement\n",
    "\n",
    "\n"
   ]
  },
  {
   "cell_type": "code",
   "execution_count": 55,
   "id": "b37c60ef",
   "metadata": {},
   "outputs": [],
   "source": [
    "validation_statement.to_csv(VALIDATION_PREDICTION_DATA_PATH)"
   ]
  },
  {
   "cell_type": "markdown",
   "id": "60d5f7e4",
   "metadata": {},
   "source": [
    "## Metrics And Evaluation"
   ]
  },
  {
   "cell_type": "markdown",
   "id": "16a65773",
   "metadata": {},
   "source": [
    "### Accuracy"
   ]
  },
  {
   "cell_type": "code",
   "execution_count": 56,
   "id": "494474ca",
   "metadata": {},
   "outputs": [
    {
     "name": "stdout",
     "output_type": "stream",
     "text": [
      "Docs classified correctly 4\n",
      "Docs classified incorrectly 1\n"
     ]
    }
   ],
   "source": [
    "correct_docs = (validation_class == prediction).sum()\n",
    "print('Docs classified correctly', correct_docs)\n",
    "numdocs_wrong = validation_data.shape[0] - correct_docs\n",
    "print('Docs classified incorrectly', numdocs_wrong)"
   ]
  },
  {
   "cell_type": "code",
   "execution_count": 57,
   "id": "49e79c22",
   "metadata": {},
   "outputs": [
    {
     "name": "stdout",
     "output_type": "stream",
     "text": [
      " The Model Accuracy is 80.0%\n"
     ]
    }
   ],
   "source": [
    "accuracy = correct_docs / (correct_docs + numdocs_wrong) * 100\n",
    "print(f' The Model Accuracy is {accuracy}%')"
   ]
  },
  {
   "cell_type": "markdown",
   "id": "def10f36",
   "metadata": {},
   "source": [
    "## Confusion Matrix"
   ]
  },
  {
   "cell_type": "code",
   "execution_count": 58,
   "id": "a8853ef4",
   "metadata": {},
   "outputs": [
    {
     "data": {
      "text/plain": [
       "array([[1, 0, 0, 0, 0],\n",
       "       [0, 1, 0, 0, 0],\n",
       "       [0, 0, 1, 0, 0],\n",
       "       [0, 0, 0, 1, 0],\n",
       "       [1, 0, 0, 0, 0]], dtype=int64)"
      ]
     },
     "execution_count": 58,
     "metadata": {},
     "output_type": "execute_result"
    }
   ],
   "source": [
    "conf_matrix = confusion_matrix(y_true=validation_class, y_pred=prediction)\n",
    "conf_matrix"
   ]
  },
  {
   "cell_type": "code",
   "execution_count": 59,
   "id": "ed95a6ea",
   "metadata": {},
   "outputs": [],
   "source": [
    "nr_rows = conf_matrix.shape[0]\n",
    "nr_cols = conf_matrix.shape[1]"
   ]
  },
  {
   "cell_type": "code",
   "execution_count": 60,
   "id": "8ab01e8c",
   "metadata": {},
   "outputs": [
    {
     "data": {
      "image/png": "[encoded data removed]",
      "text/plain": [
       "<Figure size 950x950 with 2 Axes>"
      ]
     },
     "metadata": {
      "needs_background": "light"
     },
     "output_type": "display_data"
    }
   ],
   "source": [
    "plt.figure(figsize=(10,10), dpi=95)\n",
    "plt.imshow(conf_matrix, cmap=plt.cm.Greens)\n",
    "\n",
    "plt.title('Confusion Matrix', fontsize=16)\n",
    "plt.ylabel('Actual Labels', fontsize=16)\n",
    "plt.xlabel('Predicted Labels', fontsize=16)\n",
    "\n",
    "tick_marks = np.arange(nr_rows)\n",
    "plt.yticks(tick_marks, LABEL_NAMES)\n",
    "plt.xticks(tick_marks, LABEL_NAMES)\n",
    "\n",
    "plt.colorbar()\n",
    "\n",
    "for i, j in itertools.product(range(nr_rows), range(nr_cols)):\n",
    "    plt.text(j, i, conf_matrix[i, j], horizontalalignment='center',\n",
    "            color='white' if conf_matrix[i, j] > conf_matrix.max()/2 else 'black')\n",
    "    \n",
    "\n",
    "plt.show()"
   ]
  },
  {
   "cell_type": "code",
   "execution_count": 61,
   "id": "0294234d",
   "metadata": {},
   "outputs": [
    {
     "data": {
      "text/plain": [
       "array([1, 1, 1, 1, 0], dtype=int64)"
      ]
     },
     "execution_count": 61,
     "metadata": {},
     "output_type": "execute_result"
    }
   ],
   "source": [
    "true_positives = np.diag(conf_matrix)\n",
    "true_positives"
   ]
  },
  {
   "cell_type": "code",
   "execution_count": 62,
   "id": "10f96959",
   "metadata": {},
   "outputs": [
    {
     "data": {
      "text/plain": [
       "array([1., 1., 1., 1., 0.])"
      ]
     },
     "execution_count": 62,
     "metadata": {},
     "output_type": "execute_result"
    }
   ],
   "source": [
    "recall = np.diag(conf_matrix) / np.sum(conf_matrix, axis=1)\n",
    "recall = recall[~np.isnan(recall)]    # ------ removing 0/0 cases\n",
    "recall                   "
   ]
  },
  {
   "cell_type": "code",
   "execution_count": 63,
   "id": "61153eee",
   "metadata": {},
   "outputs": [
    {
     "name": "stderr",
     "output_type": "stream",
     "text": [
      "<ipython-input-63-0fa5667eded6>:1: RuntimeWarning: invalid value encountered in true_divide\n",
      "  precision = np.diag(conf_matrix) / np.sum(conf_matrix, axis=0)\n"
     ]
    },
    {
     "data": {
      "text/plain": [
       "array([0.5, 1. , 1. , 1. ])"
      ]
     },
     "execution_count": 63,
     "metadata": {},
     "output_type": "execute_result"
    }
   ],
   "source": [
    "precision = np.diag(conf_matrix) / np.sum(conf_matrix, axis=0)\n",
    "precision = precision[~np.isnan(precision)]   # ------ removing 0/0 cases\n",
    "precision "
   ]
  },
  {
   "cell_type": "code",
   "execution_count": 64,
   "id": "fdfe0000",
   "metadata": {},
   "outputs": [
    {
     "name": "stdout",
     "output_type": "stream",
     "text": [
      "The Model recall score is 80.00%\n"
     ]
    }
   ],
   "source": [
    "avg_recall = np.mean(recall)\n",
    "print(f'The Model recall score is {avg_recall:.2%}')"
   ]
  },
  {
   "cell_type": "code",
   "execution_count": 65,
   "id": "88034d3e",
   "metadata": {},
   "outputs": [
    {
     "name": "stdout",
     "output_type": "stream",
     "text": [
      "The Model precision score is 87.50%\n"
     ]
    }
   ],
   "source": [
    "avg_precision = np.mean(precision)\n",
    "print(f'The Model precision score is {avg_precision:.2%}')"
   ]
  },
  {
   "cell_type": "code",
   "execution_count": 66,
   "id": "e8a42a5c",
   "metadata": {},
   "outputs": [
    {
     "name": "stdout",
     "output_type": "stream",
     "text": [
      "The Model f1 score is 83.58%\n"
     ]
    }
   ],
   "source": [
    "f1_score = 2 * (avg_precision * avg_recall) / (avg_precision + avg_recall)\n",
    "print(f'The Model f1 score is {f1_score:.2%}')"
   ]
  }
 ],
 "metadata": {
  "kernelspec": {
   "display_name": "Python 3",
   "language": "python",
   "name": "python3"
  },
  "language_info": {
   "codemirror_mode": {
    "name": "ipython",
    "version": 3
   },
   "file_extension": ".py",
   "mimetype": "text/x-python",
   "name": "python",
   "nbconvert_exporter": "python",
   "pygments_lexer": "ipython3",
   "version": "3.8.8"
  }
 },
 "nbformat": 4,
 "nbformat_minor": 5
}
